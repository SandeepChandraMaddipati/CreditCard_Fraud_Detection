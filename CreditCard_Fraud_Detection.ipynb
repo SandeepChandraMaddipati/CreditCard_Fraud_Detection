{
  "cells": [
    {
      "cell_type": "code",
      "execution_count": 2,
      "metadata": {
        "id": "HxYT6hc145EC"
      },
      "outputs": [],
      "source": [
        "# import packages\n",
        "import pandas as pd\n",
        "import numpy as np\n",
        "import matplotlib.pyplot as plt\n",
        "import seaborn as sns\n",
        "%matplotlib inline\n",
        "import warnings\n",
        "warnings.filterwarnings(\"ignore\")"
      ]
    },
    {
      "cell_type": "code",
      "source": [
        "from google.colab import drive\n",
        "drive.mount('/content/drive')"
      ],
      "metadata": {
        "colab": {
          "base_uri": "https://localhost:8080/"
        },
        "id": "lwEaYpcvkNU6",
        "outputId": "3da3d297-b28d-4774-c466-68b713b20526"
      },
      "execution_count": 3,
      "outputs": [
        {
          "output_type": "stream",
          "name": "stdout",
          "text": [
            "Drive already mounted at /content/drive; to attempt to forcibly remount, call drive.mount(\"/content/drive\", force_remount=True).\n"
          ]
        }
      ]
    },
    {
      "cell_type": "code",
      "execution_count": 4,
      "metadata": {
        "id": "a517Bgen6Ibg"
      },
      "outputs": [],
      "source": [
        "# load datasetcsv\n",
        "df = pd.read_csv('/content/drive/MyDrive/Colab Notebooks/Datasets/creditcard_fraud.csv')"
      ]
    },
    {
      "cell_type": "code",
      "execution_count": 5,
      "metadata": {
        "id": "TewoYGUTp9Hc"
      },
      "outputs": [],
      "source": [
        "# df.drop('Unnamed: 0',axis=1,inplace=True) # unnecessary column"
      ]
    },
    {
      "cell_type": "code",
      "execution_count": 6,
      "metadata": {
        "colab": {
          "base_uri": "https://localhost:8080/"
        },
        "id": "HnKbvR9r6IeI",
        "outputId": "e6496cce-30c7-4818-daf1-905c75988cce"
      },
      "outputs": [
        {
          "output_type": "execute_result",
          "data": {
            "text/plain": [
              "(1296675, 23)"
            ]
          },
          "metadata": {},
          "execution_count": 6
        }
      ],
      "source": [
        "df.shape"
      ]
    },
    {
      "cell_type": "code",
      "execution_count": 7,
      "metadata": {
        "colab": {
          "base_uri": "https://localhost:8080/"
        },
        "id": "d9FbZ6a46Igb",
        "outputId": "be59909a-d436-4400-b541-6f24bee0a23a"
      },
      "outputs": [
        {
          "output_type": "execute_result",
          "data": {
            "text/plain": [
              "Index(['Unnamed: 0', 'trans_date_trans_time', 'cc_num', 'merchant', 'category',\n",
              "       'amt', 'first', 'last', 'gender', 'street', 'city', 'state', 'zip',\n",
              "       'lat', 'long', 'city_pop', 'job', 'dob', 'trans_num', 'unix_time',\n",
              "       'merch_lat', 'merch_long', 'is_fraud'],\n",
              "      dtype='object')"
            ]
          },
          "metadata": {},
          "execution_count": 7
        }
      ],
      "source": [
        "df.columns"
      ]
    },
    {
      "cell_type": "code",
      "execution_count": 8,
      "metadata": {
        "colab": {
          "base_uri": "https://localhost:8080/",
          "height": 121
        },
        "id": "ZkEYGoDr6IjG",
        "outputId": "4700ba75-64f7-4efb-e18c-f9bbd8073a5a"
      },
      "outputs": [
        {
          "output_type": "execute_result",
          "data": {
            "text/plain": [
              "   Unnamed: 0 trans_date_trans_time            cc_num  \\\n",
              "0           0   2019-01-01 00:00:18  2703186189652095   \n",
              "1           1   2019-01-01 00:00:44      630423337322   \n",
              "2           2   2019-01-01 00:00:51    38859492057661   \n",
              "3           3   2019-01-01 00:01:16  3534093764340240   \n",
              "4           4   2019-01-01 00:03:06   375534208663984   \n",
              "\n",
              "                             merchant       category     amt      first  \\\n",
              "0          fraud_Rippin, Kub and Mann       misc_net    4.97   Jennifer   \n",
              "1     fraud_Heller, Gutmann and Zieme    grocery_pos  107.23  Stephanie   \n",
              "2                fraud_Lind-Buckridge  entertainment  220.11     Edward   \n",
              "3  fraud_Kutch, Hermiston and Farrell  gas_transport   45.00     Jeremy   \n",
              "4                 fraud_Keeling-Crist       misc_pos   41.96      Tyler   \n",
              "\n",
              "      last gender                        street  ...      lat      long  \\\n",
              "0    Banks      F                561 Perry Cove  ...  36.0788  -81.1781   \n",
              "1     Gill      F  43039 Riley Greens Suite 393  ...  48.8878 -118.2105   \n",
              "2  Sanchez      M      594 White Dale Suite 530  ...  42.1808 -112.2620   \n",
              "3    White      M   9443 Cynthia Court Apt. 038  ...  46.2306 -112.1138   \n",
              "4   Garcia      M              408 Bradley Rest  ...  38.4207  -79.4629   \n",
              "\n",
              "   city_pop                                job         dob  \\\n",
              "0      3495          Psychologist, counselling  1988-03-09   \n",
              "1       149  Special educational needs teacher  1978-06-21   \n",
              "2      4154        Nature conservation officer  1962-01-19   \n",
              "3      1939                    Patent attorney  1967-01-12   \n",
              "4        99     Dance movement psychotherapist  1986-03-28   \n",
              "\n",
              "                          trans_num   unix_time  merch_lat  merch_long  \\\n",
              "0  0b242abb623afc578575680df30655b9  1325376018  36.011293  -82.048315   \n",
              "1  1f76529f8574734946361c461b024d99  1325376044  49.159047 -118.186462   \n",
              "2  a1a22d70485983eac12b5b88dad1cf95  1325376051  43.150704 -112.154481   \n",
              "3  6b849c168bdad6f867558c3793159a81  1325376076  47.034331 -112.561071   \n",
              "4  a41d7549acf90789359a9aa5346dcb46  1325376186  38.674999  -78.632459   \n",
              "\n",
              "   is_fraud  \n",
              "0         0  \n",
              "1         0  \n",
              "2         0  \n",
              "3         0  \n",
              "4         0  \n",
              "\n",
              "[5 rows x 23 columns]"
            ],
            "text/html": [
              "\n",
              "  <div id=\"df-9c38d06f-a618-469e-ab93-6ccb044b857f\">\n",
              "    <div class=\"colab-df-container\">\n",
              "      <div>\n",
              "<style scoped>\n",
              "    .dataframe tbody tr th:only-of-type {\n",
              "        vertical-align: middle;\n",
              "    }\n",
              "\n",
              "    .dataframe tbody tr th {\n",
              "        vertical-align: top;\n",
              "    }\n",
              "\n",
              "    .dataframe thead th {\n",
              "        text-align: right;\n",
              "    }\n",
              "</style>\n",
              "<table border=\"1\" class=\"dataframe\">\n",
              "  <thead>\n",
              "    <tr style=\"text-align: right;\">\n",
              "      <th></th>\n",
              "      <th>Unnamed: 0</th>\n",
              "      <th>trans_date_trans_time</th>\n",
              "      <th>cc_num</th>\n",
              "      <th>merchant</th>\n",
              "      <th>category</th>\n",
              "      <th>amt</th>\n",
              "      <th>first</th>\n",
              "      <th>last</th>\n",
              "      <th>gender</th>\n",
              "      <th>street</th>\n",
              "      <th>...</th>\n",
              "      <th>lat</th>\n",
              "      <th>long</th>\n",
              "      <th>city_pop</th>\n",
              "      <th>job</th>\n",
              "      <th>dob</th>\n",
              "      <th>trans_num</th>\n",
              "      <th>unix_time</th>\n",
              "      <th>merch_lat</th>\n",
              "      <th>merch_long</th>\n",
              "      <th>is_fraud</th>\n",
              "    </tr>\n",
              "  </thead>\n",
              "  <tbody>\n",
              "    <tr>\n",
              "      <th>0</th>\n",
              "      <td>0</td>\n",
              "      <td>2019-01-01 00:00:18</td>\n",
              "      <td>2703186189652095</td>\n",
              "      <td>fraud_Rippin, Kub and Mann</td>\n",
              "      <td>misc_net</td>\n",
              "      <td>4.97</td>\n",
              "      <td>Jennifer</td>\n",
              "      <td>Banks</td>\n",
              "      <td>F</td>\n",
              "      <td>561 Perry Cove</td>\n",
              "      <td>...</td>\n",
              "      <td>36.0788</td>\n",
              "      <td>-81.1781</td>\n",
              "      <td>3495</td>\n",
              "      <td>Psychologist, counselling</td>\n",
              "      <td>1988-03-09</td>\n",
              "      <td>0b242abb623afc578575680df30655b9</td>\n",
              "      <td>1325376018</td>\n",
              "      <td>36.011293</td>\n",
              "      <td>-82.048315</td>\n",
              "      <td>0</td>\n",
              "    </tr>\n",
              "    <tr>\n",
              "      <th>1</th>\n",
              "      <td>1</td>\n",
              "      <td>2019-01-01 00:00:44</td>\n",
              "      <td>630423337322</td>\n",
              "      <td>fraud_Heller, Gutmann and Zieme</td>\n",
              "      <td>grocery_pos</td>\n",
              "      <td>107.23</td>\n",
              "      <td>Stephanie</td>\n",
              "      <td>Gill</td>\n",
              "      <td>F</td>\n",
              "      <td>43039 Riley Greens Suite 393</td>\n",
              "      <td>...</td>\n",
              "      <td>48.8878</td>\n",
              "      <td>-118.2105</td>\n",
              "      <td>149</td>\n",
              "      <td>Special educational needs teacher</td>\n",
              "      <td>1978-06-21</td>\n",
              "      <td>1f76529f8574734946361c461b024d99</td>\n",
              "      <td>1325376044</td>\n",
              "      <td>49.159047</td>\n",
              "      <td>-118.186462</td>\n",
              "      <td>0</td>\n",
              "    </tr>\n",
              "    <tr>\n",
              "      <th>2</th>\n",
              "      <td>2</td>\n",
              "      <td>2019-01-01 00:00:51</td>\n",
              "      <td>38859492057661</td>\n",
              "      <td>fraud_Lind-Buckridge</td>\n",
              "      <td>entertainment</td>\n",
              "      <td>220.11</td>\n",
              "      <td>Edward</td>\n",
              "      <td>Sanchez</td>\n",
              "      <td>M</td>\n",
              "      <td>594 White Dale Suite 530</td>\n",
              "      <td>...</td>\n",
              "      <td>42.1808</td>\n",
              "      <td>-112.2620</td>\n",
              "      <td>4154</td>\n",
              "      <td>Nature conservation officer</td>\n",
              "      <td>1962-01-19</td>\n",
              "      <td>a1a22d70485983eac12b5b88dad1cf95</td>\n",
              "      <td>1325376051</td>\n",
              "      <td>43.150704</td>\n",
              "      <td>-112.154481</td>\n",
              "      <td>0</td>\n",
              "    </tr>\n",
              "    <tr>\n",
              "      <th>3</th>\n",
              "      <td>3</td>\n",
              "      <td>2019-01-01 00:01:16</td>\n",
              "      <td>3534093764340240</td>\n",
              "      <td>fraud_Kutch, Hermiston and Farrell</td>\n",
              "      <td>gas_transport</td>\n",
              "      <td>45.00</td>\n",
              "      <td>Jeremy</td>\n",
              "      <td>White</td>\n",
              "      <td>M</td>\n",
              "      <td>9443 Cynthia Court Apt. 038</td>\n",
              "      <td>...</td>\n",
              "      <td>46.2306</td>\n",
              "      <td>-112.1138</td>\n",
              "      <td>1939</td>\n",
              "      <td>Patent attorney</td>\n",
              "      <td>1967-01-12</td>\n",
              "      <td>6b849c168bdad6f867558c3793159a81</td>\n",
              "      <td>1325376076</td>\n",
              "      <td>47.034331</td>\n",
              "      <td>-112.561071</td>\n",
              "      <td>0</td>\n",
              "    </tr>\n",
              "    <tr>\n",
              "      <th>4</th>\n",
              "      <td>4</td>\n",
              "      <td>2019-01-01 00:03:06</td>\n",
              "      <td>375534208663984</td>\n",
              "      <td>fraud_Keeling-Crist</td>\n",
              "      <td>misc_pos</td>\n",
              "      <td>41.96</td>\n",
              "      <td>Tyler</td>\n",
              "      <td>Garcia</td>\n",
              "      <td>M</td>\n",
              "      <td>408 Bradley Rest</td>\n",
              "      <td>...</td>\n",
              "      <td>38.4207</td>\n",
              "      <td>-79.4629</td>\n",
              "      <td>99</td>\n",
              "      <td>Dance movement psychotherapist</td>\n",
              "      <td>1986-03-28</td>\n",
              "      <td>a41d7549acf90789359a9aa5346dcb46</td>\n",
              "      <td>1325376186</td>\n",
              "      <td>38.674999</td>\n",
              "      <td>-78.632459</td>\n",
              "      <td>0</td>\n",
              "    </tr>\n",
              "  </tbody>\n",
              "</table>\n",
              "<p>5 rows × 23 columns</p>\n",
              "</div>\n",
              "      <button class=\"colab-df-convert\" onclick=\"convertToInteractive('df-9c38d06f-a618-469e-ab93-6ccb044b857f')\"\n",
              "              title=\"Convert this dataframe to an interactive table.\"\n",
              "              style=\"display:none;\">\n",
              "        \n",
              "  <svg xmlns=\"http://www.w3.org/2000/svg\" height=\"24px\"viewBox=\"0 0 24 24\"\n",
              "       width=\"24px\">\n",
              "    <path d=\"M0 0h24v24H0V0z\" fill=\"none\"/>\n",
              "    <path d=\"M18.56 5.44l.94 2.06.94-2.06 2.06-.94-2.06-.94-.94-2.06-.94 2.06-2.06.94zm-11 1L8.5 8.5l.94-2.06 2.06-.94-2.06-.94L8.5 2.5l-.94 2.06-2.06.94zm10 10l.94 2.06.94-2.06 2.06-.94-2.06-.94-.94-2.06-.94 2.06-2.06.94z\"/><path d=\"M17.41 7.96l-1.37-1.37c-.4-.4-.92-.59-1.43-.59-.52 0-1.04.2-1.43.59L10.3 9.45l-7.72 7.72c-.78.78-.78 2.05 0 2.83L4 21.41c.39.39.9.59 1.41.59.51 0 1.02-.2 1.41-.59l7.78-7.78 2.81-2.81c.8-.78.8-2.07 0-2.86zM5.41 20L4 18.59l7.72-7.72 1.47 1.35L5.41 20z\"/>\n",
              "  </svg>\n",
              "      </button>\n",
              "      \n",
              "  <style>\n",
              "    .colab-df-container {\n",
              "      display:flex;\n",
              "      flex-wrap:wrap;\n",
              "      gap: 12px;\n",
              "    }\n",
              "\n",
              "    .colab-df-convert {\n",
              "      background-color: #E8F0FE;\n",
              "      border: none;\n",
              "      border-radius: 50%;\n",
              "      cursor: pointer;\n",
              "      display: none;\n",
              "      fill: #1967D2;\n",
              "      height: 32px;\n",
              "      padding: 0 0 0 0;\n",
              "      width: 32px;\n",
              "    }\n",
              "\n",
              "    .colab-df-convert:hover {\n",
              "      background-color: #E2EBFA;\n",
              "      box-shadow: 0px 1px 2px rgba(60, 64, 67, 0.3), 0px 1px 3px 1px rgba(60, 64, 67, 0.15);\n",
              "      fill: #174EA6;\n",
              "    }\n",
              "\n",
              "    [theme=dark] .colab-df-convert {\n",
              "      background-color: #3B4455;\n",
              "      fill: #D2E3FC;\n",
              "    }\n",
              "\n",
              "    [theme=dark] .colab-df-convert:hover {\n",
              "      background-color: #434B5C;\n",
              "      box-shadow: 0px 1px 3px 1px rgba(0, 0, 0, 0.15);\n",
              "      filter: drop-shadow(0px 1px 2px rgba(0, 0, 0, 0.3));\n",
              "      fill: #FFFFFF;\n",
              "    }\n",
              "  </style>\n",
              "\n",
              "      <script>\n",
              "        const buttonEl =\n",
              "          document.querySelector('#df-9c38d06f-a618-469e-ab93-6ccb044b857f button.colab-df-convert');\n",
              "        buttonEl.style.display =\n",
              "          google.colab.kernel.accessAllowed ? 'block' : 'none';\n",
              "\n",
              "        async function convertToInteractive(key) {\n",
              "          const element = document.querySelector('#df-9c38d06f-a618-469e-ab93-6ccb044b857f');\n",
              "          const dataTable =\n",
              "            await google.colab.kernel.invokeFunction('convertToInteractive',\n",
              "                                                     [key], {});\n",
              "          if (!dataTable) return;\n",
              "\n",
              "          const docLinkHtml = 'Like what you see? Visit the ' +\n",
              "            '<a target=\"_blank\" href=https://colab.research.google.com/notebooks/data_table.ipynb>data table notebook</a>'\n",
              "            + ' to learn more about interactive tables.';\n",
              "          element.innerHTML = '';\n",
              "          dataTable['output_type'] = 'display_data';\n",
              "          await google.colab.output.renderOutput(dataTable, element);\n",
              "          const docLink = document.createElement('div');\n",
              "          docLink.innerHTML = docLinkHtml;\n",
              "          element.appendChild(docLink);\n",
              "        }\n",
              "      </script>\n",
              "    </div>\n",
              "  </div>\n",
              "  "
            ]
          },
          "metadata": {},
          "execution_count": 8
        },
        {
          "output_type": "stream",
          "name": "stdout",
          "text": [
            "Warning: Total number of columns (23) exceeds max_columns (20) limiting to first (20) columns.\n",
            "Error: Runtime no longer has a reference to this dataframe, please re-run this cell and try again.\n",
            "Error: Runtime no longer has a reference to this dataframe, please re-run this cell and try again.\n",
            "Error: Runtime no longer has a reference to this dataframe, please re-run this cell and try again.\n"
          ]
        }
      ],
      "source": [
        "df.head(5)"
      ]
    },
    {
      "cell_type": "code",
      "execution_count": 9,
      "metadata": {
        "colab": {
          "base_uri": "https://localhost:8080/",
          "height": 462
        },
        "id": "gL1iPm9n6Il8",
        "outputId": "c77bd934-4181-40f7-dd5e-ff809a956190"
      },
      "outputs": [
        {
          "output_type": "execute_result",
          "data": {
            "text/plain": [
              "         Unnamed: 0 trans_date_trans_time               cc_num  \\\n",
              "1296670     1296670   2020-06-21 12:12:08       30263540414123   \n",
              "1296671     1296671   2020-06-21 12:12:19     6011149206456997   \n",
              "1296672     1296672   2020-06-21 12:12:32     3514865930894695   \n",
              "1296673     1296673   2020-06-21 12:13:36     2720012583106919   \n",
              "1296674     1296674   2020-06-21 12:13:37  4292902571056973207   \n",
              "\n",
              "                                    merchant       category     amt  \\\n",
              "1296670                    fraud_Reichel Inc  entertainment   15.56   \n",
              "1296671             fraud_Abernathy and Sons    food_dining   51.70   \n",
              "1296672                 fraud_Stiedemann Ltd    food_dining  105.93   \n",
              "1296673  fraud_Reinger, Weissnat and Strosin    food_dining   74.90   \n",
              "1296674  fraud_Langosh, Wintheiser and Hyatt    food_dining    4.30   \n",
              "\n",
              "               first       last gender                         street  ...  \\\n",
              "1296670         Erik  Patterson      M       162 Jessica Row Apt. 072  ...   \n",
              "1296671      Jeffrey      White      M  8617 Holmes Terrace Suite 651  ...   \n",
              "1296672  Christopher  Castaneda      M     1632 Cohen Drive Suite 639  ...   \n",
              "1296673       Joseph     Murray      M           42933 Ryan Underpass  ...   \n",
              "1296674      Jeffrey      Smith      M           135 Joseph Mountains  ...   \n",
              "\n",
              "             lat      long  city_pop                               job  \\\n",
              "1296670  37.7175 -112.4777       258                      Geoscientist   \n",
              "1296671  39.2667  -77.5101       100  Production assistant, television   \n",
              "1296672  32.9396 -105.8189       899                   Naval architect   \n",
              "1296673  43.3526 -102.5411      1126             Volunteer coordinator   \n",
              "1296674  45.8433 -113.8748       218          Therapist, horticultural   \n",
              "\n",
              "                dob                         trans_num   unix_time  merch_lat  \\\n",
              "1296670  1961-11-24  440b587732da4dc1a6395aba5fb41669  1371816728  36.841266   \n",
              "1296671  1979-12-11  278000d2e0d2277d1de2f890067dcc0a  1371816739  38.906881   \n",
              "1296672  1967-08-30  483f52fe67fabef353d552c1e662974c  1371816752  33.619513   \n",
              "1296673  1980-08-18  d667cdcbadaaed3da3f4020e83591c83  1371816816  42.788940   \n",
              "1296674  1995-08-16  8f7c8e4ab7f25875d753b422917c98c9  1371816817  46.565983   \n",
              "\n",
              "         merch_long  is_fraud  \n",
              "1296670 -111.690765         0  \n",
              "1296671  -78.246528         0  \n",
              "1296672 -105.130529         0  \n",
              "1296673 -103.241160         0  \n",
              "1296674 -114.186110         0  \n",
              "\n",
              "[5 rows x 23 columns]"
            ],
            "text/html": [
              "\n",
              "  <div id=\"df-afe71dbd-00f4-44c7-90d0-ad54b571b94c\">\n",
              "    <div class=\"colab-df-container\">\n",
              "      <div>\n",
              "<style scoped>\n",
              "    .dataframe tbody tr th:only-of-type {\n",
              "        vertical-align: middle;\n",
              "    }\n",
              "\n",
              "    .dataframe tbody tr th {\n",
              "        vertical-align: top;\n",
              "    }\n",
              "\n",
              "    .dataframe thead th {\n",
              "        text-align: right;\n",
              "    }\n",
              "</style>\n",
              "<table border=\"1\" class=\"dataframe\">\n",
              "  <thead>\n",
              "    <tr style=\"text-align: right;\">\n",
              "      <th></th>\n",
              "      <th>Unnamed: 0</th>\n",
              "      <th>trans_date_trans_time</th>\n",
              "      <th>cc_num</th>\n",
              "      <th>merchant</th>\n",
              "      <th>category</th>\n",
              "      <th>amt</th>\n",
              "      <th>first</th>\n",
              "      <th>last</th>\n",
              "      <th>gender</th>\n",
              "      <th>street</th>\n",
              "      <th>...</th>\n",
              "      <th>lat</th>\n",
              "      <th>long</th>\n",
              "      <th>city_pop</th>\n",
              "      <th>job</th>\n",
              "      <th>dob</th>\n",
              "      <th>trans_num</th>\n",
              "      <th>unix_time</th>\n",
              "      <th>merch_lat</th>\n",
              "      <th>merch_long</th>\n",
              "      <th>is_fraud</th>\n",
              "    </tr>\n",
              "  </thead>\n",
              "  <tbody>\n",
              "    <tr>\n",
              "      <th>1296670</th>\n",
              "      <td>1296670</td>\n",
              "      <td>2020-06-21 12:12:08</td>\n",
              "      <td>30263540414123</td>\n",
              "      <td>fraud_Reichel Inc</td>\n",
              "      <td>entertainment</td>\n",
              "      <td>15.56</td>\n",
              "      <td>Erik</td>\n",
              "      <td>Patterson</td>\n",
              "      <td>M</td>\n",
              "      <td>162 Jessica Row Apt. 072</td>\n",
              "      <td>...</td>\n",
              "      <td>37.7175</td>\n",
              "      <td>-112.4777</td>\n",
              "      <td>258</td>\n",
              "      <td>Geoscientist</td>\n",
              "      <td>1961-11-24</td>\n",
              "      <td>440b587732da4dc1a6395aba5fb41669</td>\n",
              "      <td>1371816728</td>\n",
              "      <td>36.841266</td>\n",
              "      <td>-111.690765</td>\n",
              "      <td>0</td>\n",
              "    </tr>\n",
              "    <tr>\n",
              "      <th>1296671</th>\n",
              "      <td>1296671</td>\n",
              "      <td>2020-06-21 12:12:19</td>\n",
              "      <td>6011149206456997</td>\n",
              "      <td>fraud_Abernathy and Sons</td>\n",
              "      <td>food_dining</td>\n",
              "      <td>51.70</td>\n",
              "      <td>Jeffrey</td>\n",
              "      <td>White</td>\n",
              "      <td>M</td>\n",
              "      <td>8617 Holmes Terrace Suite 651</td>\n",
              "      <td>...</td>\n",
              "      <td>39.2667</td>\n",
              "      <td>-77.5101</td>\n",
              "      <td>100</td>\n",
              "      <td>Production assistant, television</td>\n",
              "      <td>1979-12-11</td>\n",
              "      <td>278000d2e0d2277d1de2f890067dcc0a</td>\n",
              "      <td>1371816739</td>\n",
              "      <td>38.906881</td>\n",
              "      <td>-78.246528</td>\n",
              "      <td>0</td>\n",
              "    </tr>\n",
              "    <tr>\n",
              "      <th>1296672</th>\n",
              "      <td>1296672</td>\n",
              "      <td>2020-06-21 12:12:32</td>\n",
              "      <td>3514865930894695</td>\n",
              "      <td>fraud_Stiedemann Ltd</td>\n",
              "      <td>food_dining</td>\n",
              "      <td>105.93</td>\n",
              "      <td>Christopher</td>\n",
              "      <td>Castaneda</td>\n",
              "      <td>M</td>\n",
              "      <td>1632 Cohen Drive Suite 639</td>\n",
              "      <td>...</td>\n",
              "      <td>32.9396</td>\n",
              "      <td>-105.8189</td>\n",
              "      <td>899</td>\n",
              "      <td>Naval architect</td>\n",
              "      <td>1967-08-30</td>\n",
              "      <td>483f52fe67fabef353d552c1e662974c</td>\n",
              "      <td>1371816752</td>\n",
              "      <td>33.619513</td>\n",
              "      <td>-105.130529</td>\n",
              "      <td>0</td>\n",
              "    </tr>\n",
              "    <tr>\n",
              "      <th>1296673</th>\n",
              "      <td>1296673</td>\n",
              "      <td>2020-06-21 12:13:36</td>\n",
              "      <td>2720012583106919</td>\n",
              "      <td>fraud_Reinger, Weissnat and Strosin</td>\n",
              "      <td>food_dining</td>\n",
              "      <td>74.90</td>\n",
              "      <td>Joseph</td>\n",
              "      <td>Murray</td>\n",
              "      <td>M</td>\n",
              "      <td>42933 Ryan Underpass</td>\n",
              "      <td>...</td>\n",
              "      <td>43.3526</td>\n",
              "      <td>-102.5411</td>\n",
              "      <td>1126</td>\n",
              "      <td>Volunteer coordinator</td>\n",
              "      <td>1980-08-18</td>\n",
              "      <td>d667cdcbadaaed3da3f4020e83591c83</td>\n",
              "      <td>1371816816</td>\n",
              "      <td>42.788940</td>\n",
              "      <td>-103.241160</td>\n",
              "      <td>0</td>\n",
              "    </tr>\n",
              "    <tr>\n",
              "      <th>1296674</th>\n",
              "      <td>1296674</td>\n",
              "      <td>2020-06-21 12:13:37</td>\n",
              "      <td>4292902571056973207</td>\n",
              "      <td>fraud_Langosh, Wintheiser and Hyatt</td>\n",
              "      <td>food_dining</td>\n",
              "      <td>4.30</td>\n",
              "      <td>Jeffrey</td>\n",
              "      <td>Smith</td>\n",
              "      <td>M</td>\n",
              "      <td>135 Joseph Mountains</td>\n",
              "      <td>...</td>\n",
              "      <td>45.8433</td>\n",
              "      <td>-113.8748</td>\n",
              "      <td>218</td>\n",
              "      <td>Therapist, horticultural</td>\n",
              "      <td>1995-08-16</td>\n",
              "      <td>8f7c8e4ab7f25875d753b422917c98c9</td>\n",
              "      <td>1371816817</td>\n",
              "      <td>46.565983</td>\n",
              "      <td>-114.186110</td>\n",
              "      <td>0</td>\n",
              "    </tr>\n",
              "  </tbody>\n",
              "</table>\n",
              "<p>5 rows × 23 columns</p>\n",
              "</div>\n",
              "      <button class=\"colab-df-convert\" onclick=\"convertToInteractive('df-afe71dbd-00f4-44c7-90d0-ad54b571b94c')\"\n",
              "              title=\"Convert this dataframe to an interactive table.\"\n",
              "              style=\"display:none;\">\n",
              "        \n",
              "  <svg xmlns=\"http://www.w3.org/2000/svg\" height=\"24px\"viewBox=\"0 0 24 24\"\n",
              "       width=\"24px\">\n",
              "    <path d=\"M0 0h24v24H0V0z\" fill=\"none\"/>\n",
              "    <path d=\"M18.56 5.44l.94 2.06.94-2.06 2.06-.94-2.06-.94-.94-2.06-.94 2.06-2.06.94zm-11 1L8.5 8.5l.94-2.06 2.06-.94-2.06-.94L8.5 2.5l-.94 2.06-2.06.94zm10 10l.94 2.06.94-2.06 2.06-.94-2.06-.94-.94-2.06-.94 2.06-2.06.94z\"/><path d=\"M17.41 7.96l-1.37-1.37c-.4-.4-.92-.59-1.43-.59-.52 0-1.04.2-1.43.59L10.3 9.45l-7.72 7.72c-.78.78-.78 2.05 0 2.83L4 21.41c.39.39.9.59 1.41.59.51 0 1.02-.2 1.41-.59l7.78-7.78 2.81-2.81c.8-.78.8-2.07 0-2.86zM5.41 20L4 18.59l7.72-7.72 1.47 1.35L5.41 20z\"/>\n",
              "  </svg>\n",
              "      </button>\n",
              "      \n",
              "  <style>\n",
              "    .colab-df-container {\n",
              "      display:flex;\n",
              "      flex-wrap:wrap;\n",
              "      gap: 12px;\n",
              "    }\n",
              "\n",
              "    .colab-df-convert {\n",
              "      background-color: #E8F0FE;\n",
              "      border: none;\n",
              "      border-radius: 50%;\n",
              "      cursor: pointer;\n",
              "      display: none;\n",
              "      fill: #1967D2;\n",
              "      height: 32px;\n",
              "      padding: 0 0 0 0;\n",
              "      width: 32px;\n",
              "    }\n",
              "\n",
              "    .colab-df-convert:hover {\n",
              "      background-color: #E2EBFA;\n",
              "      box-shadow: 0px 1px 2px rgba(60, 64, 67, 0.3), 0px 1px 3px 1px rgba(60, 64, 67, 0.15);\n",
              "      fill: #174EA6;\n",
              "    }\n",
              "\n",
              "    [theme=dark] .colab-df-convert {\n",
              "      background-color: #3B4455;\n",
              "      fill: #D2E3FC;\n",
              "    }\n",
              "\n",
              "    [theme=dark] .colab-df-convert:hover {\n",
              "      background-color: #434B5C;\n",
              "      box-shadow: 0px 1px 3px 1px rgba(0, 0, 0, 0.15);\n",
              "      filter: drop-shadow(0px 1px 2px rgba(0, 0, 0, 0.3));\n",
              "      fill: #FFFFFF;\n",
              "    }\n",
              "  </style>\n",
              "\n",
              "      <script>\n",
              "        const buttonEl =\n",
              "          document.querySelector('#df-afe71dbd-00f4-44c7-90d0-ad54b571b94c button.colab-df-convert');\n",
              "        buttonEl.style.display =\n",
              "          google.colab.kernel.accessAllowed ? 'block' : 'none';\n",
              "\n",
              "        async function convertToInteractive(key) {\n",
              "          const element = document.querySelector('#df-afe71dbd-00f4-44c7-90d0-ad54b571b94c');\n",
              "          const dataTable =\n",
              "            await google.colab.kernel.invokeFunction('convertToInteractive',\n",
              "                                                     [key], {});\n",
              "          if (!dataTable) return;\n",
              "\n",
              "          const docLinkHtml = 'Like what you see? Visit the ' +\n",
              "            '<a target=\"_blank\" href=https://colab.research.google.com/notebooks/data_table.ipynb>data table notebook</a>'\n",
              "            + ' to learn more about interactive tables.';\n",
              "          element.innerHTML = '';\n",
              "          dataTable['output_type'] = 'display_data';\n",
              "          await google.colab.output.renderOutput(dataTable, element);\n",
              "          const docLink = document.createElement('div');\n",
              "          docLink.innerHTML = docLinkHtml;\n",
              "          element.appendChild(docLink);\n",
              "        }\n",
              "      </script>\n",
              "    </div>\n",
              "  </div>\n",
              "  "
            ]
          },
          "metadata": {},
          "execution_count": 9
        },
        {
          "output_type": "stream",
          "name": "stdout",
          "text": [
            "Warning: Total number of columns (23) exceeds max_columns (20) limiting to first (20) columns.\n"
          ]
        }
      ],
      "source": [
        "df.tail(5)"
      ]
    },
    {
      "cell_type": "code",
      "execution_count": 10,
      "metadata": {
        "colab": {
          "base_uri": "https://localhost:8080/",
          "height": 479
        },
        "id": "GOOxm8h86Ipa",
        "outputId": "5a484be6-334a-4f61-a102-e9e672117646"
      },
      "outputs": [
        {
          "output_type": "execute_result",
          "data": {
            "text/plain": [
              "         Unnamed: 0 trans_date_trans_time               cc_num  \\\n",
              "1086605     1086605   2020-03-27 20:55:04      180067151859700   \n",
              "1117372     1117372   2020-04-10 06:49:18         581686439828   \n",
              "742147       742147   2019-11-13 12:45:42  4426075337087318654   \n",
              "745846       745846   2019-11-15 14:06:30     6011366578560244   \n",
              "899272       899272   2019-12-26 18:15:07     4904681492230012   \n",
              "\n",
              "                               merchant        category     amt  first   last  \\\n",
              "1086605            fraud_Goyette-Herzog          travel    6.99  Karen   Ryan   \n",
              "1117372            fraud_Murray-Smitham     grocery_pos   42.33  Larry  House   \n",
              "742147              fraud_Romaguera Ltd  health_fitness  115.71   Kyle  James   \n",
              "745846               fraud_Ernser-Lynch     food_dining   20.50   Adam  Stark   \n",
              "899272   fraud_Schoen, Nienow and Bauch   personal_care   42.77   Lisa   Lowe   \n",
              "\n",
              "        gender                            street  ...      lat     long  \\\n",
              "1086605      F  82468 Michelle Village Suite 556  ...  41.5378 -88.0572   \n",
              "1117372      M            911 Sabrina Trafficway  ...  41.5205 -80.0573   \n",
              "742147       M         621 Smith Hollow Apt. 738  ...  39.0645 -95.6413   \n",
              "745846       M         0912 Mark Fields Apt. 080  ...  40.5046 -77.7186   \n",
              "899272       F         574 David Locks Suite 207  ...  41.8467 -74.1038   \n",
              "\n",
              "         city_pop                        job         dob  \\\n",
              "1086605    128354  Teacher, secondary school  1992-01-20   \n",
              "1117372      5507        Retail merchandiser  1973-07-28   \n",
              "742147     163415    Clinical cytogeneticist  1975-06-25   \n",
              "745846       4653      Nutritional therapist  1997-07-01   \n",
              "899272        722                Comptroller  1990-10-19   \n",
              "\n",
              "                                trans_num   unix_time  merch_lat merch_long  \\\n",
              "1086605  dd2cf0fd7d15a705cf61d2737785a18f  1364417704  41.901976 -87.474976   \n",
              "1117372  b18cd8dfef5945d85c1530db51434335  1365576558  41.098205 -79.900612   \n",
              "742147   ef19e0b1d6b800dce68e4829c842688e  1352810742  39.962736 -94.863099   \n",
              "745846   4a51547bdcba39eec9e28f70c8791374  1352988390  39.556963 -76.946374   \n",
              "899272   812f1fd32f0c90c95a9cbc81c9d954ff  1356545707  42.509030 -73.276007   \n",
              "\n",
              "         is_fraud  \n",
              "1086605         0  \n",
              "1117372         0  \n",
              "742147          0  \n",
              "745846          0  \n",
              "899272          0  \n",
              "\n",
              "[5 rows x 23 columns]"
            ],
            "text/html": [
              "\n",
              "  <div id=\"df-3122bab0-4004-4f78-b308-7174adcab360\">\n",
              "    <div class=\"colab-df-container\">\n",
              "      <div>\n",
              "<style scoped>\n",
              "    .dataframe tbody tr th:only-of-type {\n",
              "        vertical-align: middle;\n",
              "    }\n",
              "\n",
              "    .dataframe tbody tr th {\n",
              "        vertical-align: top;\n",
              "    }\n",
              "\n",
              "    .dataframe thead th {\n",
              "        text-align: right;\n",
              "    }\n",
              "</style>\n",
              "<table border=\"1\" class=\"dataframe\">\n",
              "  <thead>\n",
              "    <tr style=\"text-align: right;\">\n",
              "      <th></th>\n",
              "      <th>Unnamed: 0</th>\n",
              "      <th>trans_date_trans_time</th>\n",
              "      <th>cc_num</th>\n",
              "      <th>merchant</th>\n",
              "      <th>category</th>\n",
              "      <th>amt</th>\n",
              "      <th>first</th>\n",
              "      <th>last</th>\n",
              "      <th>gender</th>\n",
              "      <th>street</th>\n",
              "      <th>...</th>\n",
              "      <th>lat</th>\n",
              "      <th>long</th>\n",
              "      <th>city_pop</th>\n",
              "      <th>job</th>\n",
              "      <th>dob</th>\n",
              "      <th>trans_num</th>\n",
              "      <th>unix_time</th>\n",
              "      <th>merch_lat</th>\n",
              "      <th>merch_long</th>\n",
              "      <th>is_fraud</th>\n",
              "    </tr>\n",
              "  </thead>\n",
              "  <tbody>\n",
              "    <tr>\n",
              "      <th>1086605</th>\n",
              "      <td>1086605</td>\n",
              "      <td>2020-03-27 20:55:04</td>\n",
              "      <td>180067151859700</td>\n",
              "      <td>fraud_Goyette-Herzog</td>\n",
              "      <td>travel</td>\n",
              "      <td>6.99</td>\n",
              "      <td>Karen</td>\n",
              "      <td>Ryan</td>\n",
              "      <td>F</td>\n",
              "      <td>82468 Michelle Village Suite 556</td>\n",
              "      <td>...</td>\n",
              "      <td>41.5378</td>\n",
              "      <td>-88.0572</td>\n",
              "      <td>128354</td>\n",
              "      <td>Teacher, secondary school</td>\n",
              "      <td>1992-01-20</td>\n",
              "      <td>dd2cf0fd7d15a705cf61d2737785a18f</td>\n",
              "      <td>1364417704</td>\n",
              "      <td>41.901976</td>\n",
              "      <td>-87.474976</td>\n",
              "      <td>0</td>\n",
              "    </tr>\n",
              "    <tr>\n",
              "      <th>1117372</th>\n",
              "      <td>1117372</td>\n",
              "      <td>2020-04-10 06:49:18</td>\n",
              "      <td>581686439828</td>\n",
              "      <td>fraud_Murray-Smitham</td>\n",
              "      <td>grocery_pos</td>\n",
              "      <td>42.33</td>\n",
              "      <td>Larry</td>\n",
              "      <td>House</td>\n",
              "      <td>M</td>\n",
              "      <td>911 Sabrina Trafficway</td>\n",
              "      <td>...</td>\n",
              "      <td>41.5205</td>\n",
              "      <td>-80.0573</td>\n",
              "      <td>5507</td>\n",
              "      <td>Retail merchandiser</td>\n",
              "      <td>1973-07-28</td>\n",
              "      <td>b18cd8dfef5945d85c1530db51434335</td>\n",
              "      <td>1365576558</td>\n",
              "      <td>41.098205</td>\n",
              "      <td>-79.900612</td>\n",
              "      <td>0</td>\n",
              "    </tr>\n",
              "    <tr>\n",
              "      <th>742147</th>\n",
              "      <td>742147</td>\n",
              "      <td>2019-11-13 12:45:42</td>\n",
              "      <td>4426075337087318654</td>\n",
              "      <td>fraud_Romaguera Ltd</td>\n",
              "      <td>health_fitness</td>\n",
              "      <td>115.71</td>\n",
              "      <td>Kyle</td>\n",
              "      <td>James</td>\n",
              "      <td>M</td>\n",
              "      <td>621 Smith Hollow Apt. 738</td>\n",
              "      <td>...</td>\n",
              "      <td>39.0645</td>\n",
              "      <td>-95.6413</td>\n",
              "      <td>163415</td>\n",
              "      <td>Clinical cytogeneticist</td>\n",
              "      <td>1975-06-25</td>\n",
              "      <td>ef19e0b1d6b800dce68e4829c842688e</td>\n",
              "      <td>1352810742</td>\n",
              "      <td>39.962736</td>\n",
              "      <td>-94.863099</td>\n",
              "      <td>0</td>\n",
              "    </tr>\n",
              "    <tr>\n",
              "      <th>745846</th>\n",
              "      <td>745846</td>\n",
              "      <td>2019-11-15 14:06:30</td>\n",
              "      <td>6011366578560244</td>\n",
              "      <td>fraud_Ernser-Lynch</td>\n",
              "      <td>food_dining</td>\n",
              "      <td>20.50</td>\n",
              "      <td>Adam</td>\n",
              "      <td>Stark</td>\n",
              "      <td>M</td>\n",
              "      <td>0912 Mark Fields Apt. 080</td>\n",
              "      <td>...</td>\n",
              "      <td>40.5046</td>\n",
              "      <td>-77.7186</td>\n",
              "      <td>4653</td>\n",
              "      <td>Nutritional therapist</td>\n",
              "      <td>1997-07-01</td>\n",
              "      <td>4a51547bdcba39eec9e28f70c8791374</td>\n",
              "      <td>1352988390</td>\n",
              "      <td>39.556963</td>\n",
              "      <td>-76.946374</td>\n",
              "      <td>0</td>\n",
              "    </tr>\n",
              "    <tr>\n",
              "      <th>899272</th>\n",
              "      <td>899272</td>\n",
              "      <td>2019-12-26 18:15:07</td>\n",
              "      <td>4904681492230012</td>\n",
              "      <td>fraud_Schoen, Nienow and Bauch</td>\n",
              "      <td>personal_care</td>\n",
              "      <td>42.77</td>\n",
              "      <td>Lisa</td>\n",
              "      <td>Lowe</td>\n",
              "      <td>F</td>\n",
              "      <td>574 David Locks Suite 207</td>\n",
              "      <td>...</td>\n",
              "      <td>41.8467</td>\n",
              "      <td>-74.1038</td>\n",
              "      <td>722</td>\n",
              "      <td>Comptroller</td>\n",
              "      <td>1990-10-19</td>\n",
              "      <td>812f1fd32f0c90c95a9cbc81c9d954ff</td>\n",
              "      <td>1356545707</td>\n",
              "      <td>42.509030</td>\n",
              "      <td>-73.276007</td>\n",
              "      <td>0</td>\n",
              "    </tr>\n",
              "  </tbody>\n",
              "</table>\n",
              "<p>5 rows × 23 columns</p>\n",
              "</div>\n",
              "      <button class=\"colab-df-convert\" onclick=\"convertToInteractive('df-3122bab0-4004-4f78-b308-7174adcab360')\"\n",
              "              title=\"Convert this dataframe to an interactive table.\"\n",
              "              style=\"display:none;\">\n",
              "        \n",
              "  <svg xmlns=\"http://www.w3.org/2000/svg\" height=\"24px\"viewBox=\"0 0 24 24\"\n",
              "       width=\"24px\">\n",
              "    <path d=\"M0 0h24v24H0V0z\" fill=\"none\"/>\n",
              "    <path d=\"M18.56 5.44l.94 2.06.94-2.06 2.06-.94-2.06-.94-.94-2.06-.94 2.06-2.06.94zm-11 1L8.5 8.5l.94-2.06 2.06-.94-2.06-.94L8.5 2.5l-.94 2.06-2.06.94zm10 10l.94 2.06.94-2.06 2.06-.94-2.06-.94-.94-2.06-.94 2.06-2.06.94z\"/><path d=\"M17.41 7.96l-1.37-1.37c-.4-.4-.92-.59-1.43-.59-.52 0-1.04.2-1.43.59L10.3 9.45l-7.72 7.72c-.78.78-.78 2.05 0 2.83L4 21.41c.39.39.9.59 1.41.59.51 0 1.02-.2 1.41-.59l7.78-7.78 2.81-2.81c.8-.78.8-2.07 0-2.86zM5.41 20L4 18.59l7.72-7.72 1.47 1.35L5.41 20z\"/>\n",
              "  </svg>\n",
              "      </button>\n",
              "      \n",
              "  <style>\n",
              "    .colab-df-container {\n",
              "      display:flex;\n",
              "      flex-wrap:wrap;\n",
              "      gap: 12px;\n",
              "    }\n",
              "\n",
              "    .colab-df-convert {\n",
              "      background-color: #E8F0FE;\n",
              "      border: none;\n",
              "      border-radius: 50%;\n",
              "      cursor: pointer;\n",
              "      display: none;\n",
              "      fill: #1967D2;\n",
              "      height: 32px;\n",
              "      padding: 0 0 0 0;\n",
              "      width: 32px;\n",
              "    }\n",
              "\n",
              "    .colab-df-convert:hover {\n",
              "      background-color: #E2EBFA;\n",
              "      box-shadow: 0px 1px 2px rgba(60, 64, 67, 0.3), 0px 1px 3px 1px rgba(60, 64, 67, 0.15);\n",
              "      fill: #174EA6;\n",
              "    }\n",
              "\n",
              "    [theme=dark] .colab-df-convert {\n",
              "      background-color: #3B4455;\n",
              "      fill: #D2E3FC;\n",
              "    }\n",
              "\n",
              "    [theme=dark] .colab-df-convert:hover {\n",
              "      background-color: #434B5C;\n",
              "      box-shadow: 0px 1px 3px 1px rgba(0, 0, 0, 0.15);\n",
              "      filter: drop-shadow(0px 1px 2px rgba(0, 0, 0, 0.3));\n",
              "      fill: #FFFFFF;\n",
              "    }\n",
              "  </style>\n",
              "\n",
              "      <script>\n",
              "        const buttonEl =\n",
              "          document.querySelector('#df-3122bab0-4004-4f78-b308-7174adcab360 button.colab-df-convert');\n",
              "        buttonEl.style.display =\n",
              "          google.colab.kernel.accessAllowed ? 'block' : 'none';\n",
              "\n",
              "        async function convertToInteractive(key) {\n",
              "          const element = document.querySelector('#df-3122bab0-4004-4f78-b308-7174adcab360');\n",
              "          const dataTable =\n",
              "            await google.colab.kernel.invokeFunction('convertToInteractive',\n",
              "                                                     [key], {});\n",
              "          if (!dataTable) return;\n",
              "\n",
              "          const docLinkHtml = 'Like what you see? Visit the ' +\n",
              "            '<a target=\"_blank\" href=https://colab.research.google.com/notebooks/data_table.ipynb>data table notebook</a>'\n",
              "            + ' to learn more about interactive tables.';\n",
              "          element.innerHTML = '';\n",
              "          dataTable['output_type'] = 'display_data';\n",
              "          await google.colab.output.renderOutput(dataTable, element);\n",
              "          const docLink = document.createElement('div');\n",
              "          docLink.innerHTML = docLinkHtml;\n",
              "          element.appendChild(docLink);\n",
              "        }\n",
              "      </script>\n",
              "    </div>\n",
              "  </div>\n",
              "  "
            ]
          },
          "metadata": {},
          "execution_count": 10
        },
        {
          "output_type": "stream",
          "name": "stdout",
          "text": [
            "Warning: Total number of columns (23) exceeds max_columns (20) limiting to first (20) columns.\n"
          ]
        }
      ],
      "source": [
        "df.sample(5)"
      ]
    },
    {
      "cell_type": "markdown",
      "metadata": {
        "id": "yYp79sQn6Wd6"
      },
      "source": [
        "# **Data Preprocessing**"
      ]
    },
    {
      "cell_type": "code",
      "execution_count": 11,
      "metadata": {
        "colab": {
          "base_uri": "https://localhost:8080/"
        },
        "id": "Tz1DKGun6Zmo",
        "outputId": "c5ac5eff-0370-4891-c1d9-5e166106b93a"
      },
      "outputs": [
        {
          "output_type": "stream",
          "name": "stdout",
          "text": [
            "<class 'pandas.core.frame.DataFrame'>\n",
            "RangeIndex: 1296675 entries, 0 to 1296674\n",
            "Data columns (total 23 columns):\n",
            " #   Column                 Non-Null Count    Dtype  \n",
            "---  ------                 --------------    -----  \n",
            " 0   Unnamed: 0             1296675 non-null  int64  \n",
            " 1   trans_date_trans_time  1296675 non-null  object \n",
            " 2   cc_num                 1296675 non-null  int64  \n",
            " 3   merchant               1296675 non-null  object \n",
            " 4   category               1296675 non-null  object \n",
            " 5   amt                    1296675 non-null  float64\n",
            " 6   first                  1296675 non-null  object \n",
            " 7   last                   1296675 non-null  object \n",
            " 8   gender                 1296675 non-null  object \n",
            " 9   street                 1296675 non-null  object \n",
            " 10  city                   1296675 non-null  object \n",
            " 11  state                  1296675 non-null  object \n",
            " 12  zip                    1296675 non-null  int64  \n",
            " 13  lat                    1296675 non-null  float64\n",
            " 14  long                   1296675 non-null  float64\n",
            " 15  city_pop               1296675 non-null  int64  \n",
            " 16  job                    1296675 non-null  object \n",
            " 17  dob                    1296675 non-null  object \n",
            " 18  trans_num              1296675 non-null  object \n",
            " 19  unix_time              1296675 non-null  int64  \n",
            " 20  merch_lat              1296675 non-null  float64\n",
            " 21  merch_long             1296675 non-null  float64\n",
            " 22  is_fraud               1296675 non-null  int64  \n",
            "dtypes: float64(5), int64(6), object(12)\n",
            "memory usage: 227.5+ MB\n"
          ]
        }
      ],
      "source": [
        "df.info()"
      ]
    },
    {
      "cell_type": "code",
      "execution_count": 12,
      "metadata": {
        "colab": {
          "base_uri": "https://localhost:8080/",
          "height": 295
        },
        "id": "VNsm_hqa6hJO",
        "outputId": "6c16e36a-69ed-467a-f8fe-ed54f739689a"
      },
      "outputs": [
        {
          "output_type": "execute_result",
          "data": {
            "text/plain": [
              "         Unnamed: 0        cc_num           amt           zip           lat  \\\n",
              "count  1.296675e+06  1.296675e+06  1.296675e+06  1.296675e+06  1.296675e+06   \n",
              "mean   6.483370e+05  4.171920e+17  7.035104e+01  4.880067e+04  3.853762e+01   \n",
              "std    3.743180e+05  1.308806e+18  1.603160e+02  2.689322e+04  5.075808e+00   \n",
              "min    0.000000e+00  6.041621e+10  1.000000e+00  1.257000e+03  2.002710e+01   \n",
              "25%    3.241685e+05  1.800429e+14  9.650000e+00  2.623700e+04  3.462050e+01   \n",
              "50%    6.483370e+05  3.521417e+15  4.752000e+01  4.817400e+04  3.935430e+01   \n",
              "75%    9.725055e+05  4.642255e+15  8.314000e+01  7.204200e+04  4.194040e+01   \n",
              "max    1.296674e+06  4.992346e+18  2.894890e+04  9.978300e+04  6.669330e+01   \n",
              "\n",
              "               long      city_pop     unix_time     merch_lat    merch_long  \\\n",
              "count  1.296675e+06  1.296675e+06  1.296675e+06  1.296675e+06  1.296675e+06   \n",
              "mean  -9.022634e+01  8.882444e+04  1.349244e+09  3.853734e+01 -9.022646e+01   \n",
              "std    1.375908e+01  3.019564e+05  1.284128e+07  5.109788e+00  1.377109e+01   \n",
              "min   -1.656723e+02  2.300000e+01  1.325376e+09  1.902779e+01 -1.666712e+02   \n",
              "25%   -9.679800e+01  7.430000e+02  1.338751e+09  3.473357e+01 -9.689728e+01   \n",
              "50%   -8.747690e+01  2.456000e+03  1.349250e+09  3.936568e+01 -8.743839e+01   \n",
              "75%   -8.015800e+01  2.032800e+04  1.359385e+09  4.195716e+01 -8.023680e+01   \n",
              "max   -6.795030e+01  2.906700e+06  1.371817e+09  6.751027e+01 -6.695090e+01   \n",
              "\n",
              "           is_fraud  \n",
              "count  1.296675e+06  \n",
              "mean   5.788652e-03  \n",
              "std    7.586269e-02  \n",
              "min    0.000000e+00  \n",
              "25%    0.000000e+00  \n",
              "50%    0.000000e+00  \n",
              "75%    0.000000e+00  \n",
              "max    1.000000e+00  "
            ],
            "text/html": [
              "\n",
              "  <div id=\"df-85253948-c67a-45fe-adbd-e7991b375203\">\n",
              "    <div class=\"colab-df-container\">\n",
              "      <div>\n",
              "<style scoped>\n",
              "    .dataframe tbody tr th:only-of-type {\n",
              "        vertical-align: middle;\n",
              "    }\n",
              "\n",
              "    .dataframe tbody tr th {\n",
              "        vertical-align: top;\n",
              "    }\n",
              "\n",
              "    .dataframe thead th {\n",
              "        text-align: right;\n",
              "    }\n",
              "</style>\n",
              "<table border=\"1\" class=\"dataframe\">\n",
              "  <thead>\n",
              "    <tr style=\"text-align: right;\">\n",
              "      <th></th>\n",
              "      <th>Unnamed: 0</th>\n",
              "      <th>cc_num</th>\n",
              "      <th>amt</th>\n",
              "      <th>zip</th>\n",
              "      <th>lat</th>\n",
              "      <th>long</th>\n",
              "      <th>city_pop</th>\n",
              "      <th>unix_time</th>\n",
              "      <th>merch_lat</th>\n",
              "      <th>merch_long</th>\n",
              "      <th>is_fraud</th>\n",
              "    </tr>\n",
              "  </thead>\n",
              "  <tbody>\n",
              "    <tr>\n",
              "      <th>count</th>\n",
              "      <td>1.296675e+06</td>\n",
              "      <td>1.296675e+06</td>\n",
              "      <td>1.296675e+06</td>\n",
              "      <td>1.296675e+06</td>\n",
              "      <td>1.296675e+06</td>\n",
              "      <td>1.296675e+06</td>\n",
              "      <td>1.296675e+06</td>\n",
              "      <td>1.296675e+06</td>\n",
              "      <td>1.296675e+06</td>\n",
              "      <td>1.296675e+06</td>\n",
              "      <td>1.296675e+06</td>\n",
              "    </tr>\n",
              "    <tr>\n",
              "      <th>mean</th>\n",
              "      <td>6.483370e+05</td>\n",
              "      <td>4.171920e+17</td>\n",
              "      <td>7.035104e+01</td>\n",
              "      <td>4.880067e+04</td>\n",
              "      <td>3.853762e+01</td>\n",
              "      <td>-9.022634e+01</td>\n",
              "      <td>8.882444e+04</td>\n",
              "      <td>1.349244e+09</td>\n",
              "      <td>3.853734e+01</td>\n",
              "      <td>-9.022646e+01</td>\n",
              "      <td>5.788652e-03</td>\n",
              "    </tr>\n",
              "    <tr>\n",
              "      <th>std</th>\n",
              "      <td>3.743180e+05</td>\n",
              "      <td>1.308806e+18</td>\n",
              "      <td>1.603160e+02</td>\n",
              "      <td>2.689322e+04</td>\n",
              "      <td>5.075808e+00</td>\n",
              "      <td>1.375908e+01</td>\n",
              "      <td>3.019564e+05</td>\n",
              "      <td>1.284128e+07</td>\n",
              "      <td>5.109788e+00</td>\n",
              "      <td>1.377109e+01</td>\n",
              "      <td>7.586269e-02</td>\n",
              "    </tr>\n",
              "    <tr>\n",
              "      <th>min</th>\n",
              "      <td>0.000000e+00</td>\n",
              "      <td>6.041621e+10</td>\n",
              "      <td>1.000000e+00</td>\n",
              "      <td>1.257000e+03</td>\n",
              "      <td>2.002710e+01</td>\n",
              "      <td>-1.656723e+02</td>\n",
              "      <td>2.300000e+01</td>\n",
              "      <td>1.325376e+09</td>\n",
              "      <td>1.902779e+01</td>\n",
              "      <td>-1.666712e+02</td>\n",
              "      <td>0.000000e+00</td>\n",
              "    </tr>\n",
              "    <tr>\n",
              "      <th>25%</th>\n",
              "      <td>3.241685e+05</td>\n",
              "      <td>1.800429e+14</td>\n",
              "      <td>9.650000e+00</td>\n",
              "      <td>2.623700e+04</td>\n",
              "      <td>3.462050e+01</td>\n",
              "      <td>-9.679800e+01</td>\n",
              "      <td>7.430000e+02</td>\n",
              "      <td>1.338751e+09</td>\n",
              "      <td>3.473357e+01</td>\n",
              "      <td>-9.689728e+01</td>\n",
              "      <td>0.000000e+00</td>\n",
              "    </tr>\n",
              "    <tr>\n",
              "      <th>50%</th>\n",
              "      <td>6.483370e+05</td>\n",
              "      <td>3.521417e+15</td>\n",
              "      <td>4.752000e+01</td>\n",
              "      <td>4.817400e+04</td>\n",
              "      <td>3.935430e+01</td>\n",
              "      <td>-8.747690e+01</td>\n",
              "      <td>2.456000e+03</td>\n",
              "      <td>1.349250e+09</td>\n",
              "      <td>3.936568e+01</td>\n",
              "      <td>-8.743839e+01</td>\n",
              "      <td>0.000000e+00</td>\n",
              "    </tr>\n",
              "    <tr>\n",
              "      <th>75%</th>\n",
              "      <td>9.725055e+05</td>\n",
              "      <td>4.642255e+15</td>\n",
              "      <td>8.314000e+01</td>\n",
              "      <td>7.204200e+04</td>\n",
              "      <td>4.194040e+01</td>\n",
              "      <td>-8.015800e+01</td>\n",
              "      <td>2.032800e+04</td>\n",
              "      <td>1.359385e+09</td>\n",
              "      <td>4.195716e+01</td>\n",
              "      <td>-8.023680e+01</td>\n",
              "      <td>0.000000e+00</td>\n",
              "    </tr>\n",
              "    <tr>\n",
              "      <th>max</th>\n",
              "      <td>1.296674e+06</td>\n",
              "      <td>4.992346e+18</td>\n",
              "      <td>2.894890e+04</td>\n",
              "      <td>9.978300e+04</td>\n",
              "      <td>6.669330e+01</td>\n",
              "      <td>-6.795030e+01</td>\n",
              "      <td>2.906700e+06</td>\n",
              "      <td>1.371817e+09</td>\n",
              "      <td>6.751027e+01</td>\n",
              "      <td>-6.695090e+01</td>\n",
              "      <td>1.000000e+00</td>\n",
              "    </tr>\n",
              "  </tbody>\n",
              "</table>\n",
              "</div>\n",
              "      <button class=\"colab-df-convert\" onclick=\"convertToInteractive('df-85253948-c67a-45fe-adbd-e7991b375203')\"\n",
              "              title=\"Convert this dataframe to an interactive table.\"\n",
              "              style=\"display:none;\">\n",
              "        \n",
              "  <svg xmlns=\"http://www.w3.org/2000/svg\" height=\"24px\"viewBox=\"0 0 24 24\"\n",
              "       width=\"24px\">\n",
              "    <path d=\"M0 0h24v24H0V0z\" fill=\"none\"/>\n",
              "    <path d=\"M18.56 5.44l.94 2.06.94-2.06 2.06-.94-2.06-.94-.94-2.06-.94 2.06-2.06.94zm-11 1L8.5 8.5l.94-2.06 2.06-.94-2.06-.94L8.5 2.5l-.94 2.06-2.06.94zm10 10l.94 2.06.94-2.06 2.06-.94-2.06-.94-.94-2.06-.94 2.06-2.06.94z\"/><path d=\"M17.41 7.96l-1.37-1.37c-.4-.4-.92-.59-1.43-.59-.52 0-1.04.2-1.43.59L10.3 9.45l-7.72 7.72c-.78.78-.78 2.05 0 2.83L4 21.41c.39.39.9.59 1.41.59.51 0 1.02-.2 1.41-.59l7.78-7.78 2.81-2.81c.8-.78.8-2.07 0-2.86zM5.41 20L4 18.59l7.72-7.72 1.47 1.35L5.41 20z\"/>\n",
              "  </svg>\n",
              "      </button>\n",
              "      \n",
              "  <style>\n",
              "    .colab-df-container {\n",
              "      display:flex;\n",
              "      flex-wrap:wrap;\n",
              "      gap: 12px;\n",
              "    }\n",
              "\n",
              "    .colab-df-convert {\n",
              "      background-color: #E8F0FE;\n",
              "      border: none;\n",
              "      border-radius: 50%;\n",
              "      cursor: pointer;\n",
              "      display: none;\n",
              "      fill: #1967D2;\n",
              "      height: 32px;\n",
              "      padding: 0 0 0 0;\n",
              "      width: 32px;\n",
              "    }\n",
              "\n",
              "    .colab-df-convert:hover {\n",
              "      background-color: #E2EBFA;\n",
              "      box-shadow: 0px 1px 2px rgba(60, 64, 67, 0.3), 0px 1px 3px 1px rgba(60, 64, 67, 0.15);\n",
              "      fill: #174EA6;\n",
              "    }\n",
              "\n",
              "    [theme=dark] .colab-df-convert {\n",
              "      background-color: #3B4455;\n",
              "      fill: #D2E3FC;\n",
              "    }\n",
              "\n",
              "    [theme=dark] .colab-df-convert:hover {\n",
              "      background-color: #434B5C;\n",
              "      box-shadow: 0px 1px 3px 1px rgba(0, 0, 0, 0.15);\n",
              "      filter: drop-shadow(0px 1px 2px rgba(0, 0, 0, 0.3));\n",
              "      fill: #FFFFFF;\n",
              "    }\n",
              "  </style>\n",
              "\n",
              "      <script>\n",
              "        const buttonEl =\n",
              "          document.querySelector('#df-85253948-c67a-45fe-adbd-e7991b375203 button.colab-df-convert');\n",
              "        buttonEl.style.display =\n",
              "          google.colab.kernel.accessAllowed ? 'block' : 'none';\n",
              "\n",
              "        async function convertToInteractive(key) {\n",
              "          const element = document.querySelector('#df-85253948-c67a-45fe-adbd-e7991b375203');\n",
              "          const dataTable =\n",
              "            await google.colab.kernel.invokeFunction('convertToInteractive',\n",
              "                                                     [key], {});\n",
              "          if (!dataTable) return;\n",
              "\n",
              "          const docLinkHtml = 'Like what you see? Visit the ' +\n",
              "            '<a target=\"_blank\" href=https://colab.research.google.com/notebooks/data_table.ipynb>data table notebook</a>'\n",
              "            + ' to learn more about interactive tables.';\n",
              "          element.innerHTML = '';\n",
              "          dataTable['output_type'] = 'display_data';\n",
              "          await google.colab.output.renderOutput(dataTable, element);\n",
              "          const docLink = document.createElement('div');\n",
              "          docLink.innerHTML = docLinkHtml;\n",
              "          element.appendChild(docLink);\n",
              "        }\n",
              "      </script>\n",
              "    </div>\n",
              "  </div>\n",
              "  "
            ]
          },
          "metadata": {},
          "execution_count": 12
        }
      ],
      "source": [
        "df.describe()"
      ]
    },
    {
      "cell_type": "code",
      "execution_count": 13,
      "metadata": {
        "colab": {
          "base_uri": "https://localhost:8080/",
          "height": 278
        },
        "id": "VFHLpzqj6hLV",
        "outputId": "81aae495-a426-427d-cc5f-cc578dea75d1"
      },
      "outputs": [
        {
          "output_type": "execute_result",
          "data": {
            "text/plain": [
              "                amt     unix_time\n",
              "count  1.296675e+06  1.296675e+06\n",
              "mean   7.035104e+01  1.349244e+09\n",
              "std    1.603160e+02  1.284128e+07\n",
              "min    1.000000e+00  1.325376e+09\n",
              "25%    9.650000e+00  1.338751e+09\n",
              "50%    4.752000e+01  1.349250e+09\n",
              "75%    8.314000e+01  1.359385e+09\n",
              "max    2.894890e+04  1.371817e+09"
            ],
            "text/html": [
              "\n",
              "  <div id=\"df-1310c955-91d7-4c2a-aff5-e3c08fd22915\">\n",
              "    <div class=\"colab-df-container\">\n",
              "      <div>\n",
              "<style scoped>\n",
              "    .dataframe tbody tr th:only-of-type {\n",
              "        vertical-align: middle;\n",
              "    }\n",
              "\n",
              "    .dataframe tbody tr th {\n",
              "        vertical-align: top;\n",
              "    }\n",
              "\n",
              "    .dataframe thead th {\n",
              "        text-align: right;\n",
              "    }\n",
              "</style>\n",
              "<table border=\"1\" class=\"dataframe\">\n",
              "  <thead>\n",
              "    <tr style=\"text-align: right;\">\n",
              "      <th></th>\n",
              "      <th>amt</th>\n",
              "      <th>unix_time</th>\n",
              "    </tr>\n",
              "  </thead>\n",
              "  <tbody>\n",
              "    <tr>\n",
              "      <th>count</th>\n",
              "      <td>1.296675e+06</td>\n",
              "      <td>1.296675e+06</td>\n",
              "    </tr>\n",
              "    <tr>\n",
              "      <th>mean</th>\n",
              "      <td>7.035104e+01</td>\n",
              "      <td>1.349244e+09</td>\n",
              "    </tr>\n",
              "    <tr>\n",
              "      <th>std</th>\n",
              "      <td>1.603160e+02</td>\n",
              "      <td>1.284128e+07</td>\n",
              "    </tr>\n",
              "    <tr>\n",
              "      <th>min</th>\n",
              "      <td>1.000000e+00</td>\n",
              "      <td>1.325376e+09</td>\n",
              "    </tr>\n",
              "    <tr>\n",
              "      <th>25%</th>\n",
              "      <td>9.650000e+00</td>\n",
              "      <td>1.338751e+09</td>\n",
              "    </tr>\n",
              "    <tr>\n",
              "      <th>50%</th>\n",
              "      <td>4.752000e+01</td>\n",
              "      <td>1.349250e+09</td>\n",
              "    </tr>\n",
              "    <tr>\n",
              "      <th>75%</th>\n",
              "      <td>8.314000e+01</td>\n",
              "      <td>1.359385e+09</td>\n",
              "    </tr>\n",
              "    <tr>\n",
              "      <th>max</th>\n",
              "      <td>2.894890e+04</td>\n",
              "      <td>1.371817e+09</td>\n",
              "    </tr>\n",
              "  </tbody>\n",
              "</table>\n",
              "</div>\n",
              "      <button class=\"colab-df-convert\" onclick=\"convertToInteractive('df-1310c955-91d7-4c2a-aff5-e3c08fd22915')\"\n",
              "              title=\"Convert this dataframe to an interactive table.\"\n",
              "              style=\"display:none;\">\n",
              "        \n",
              "  <svg xmlns=\"http://www.w3.org/2000/svg\" height=\"24px\"viewBox=\"0 0 24 24\"\n",
              "       width=\"24px\">\n",
              "    <path d=\"M0 0h24v24H0V0z\" fill=\"none\"/>\n",
              "    <path d=\"M18.56 5.44l.94 2.06.94-2.06 2.06-.94-2.06-.94-.94-2.06-.94 2.06-2.06.94zm-11 1L8.5 8.5l.94-2.06 2.06-.94-2.06-.94L8.5 2.5l-.94 2.06-2.06.94zm10 10l.94 2.06.94-2.06 2.06-.94-2.06-.94-.94-2.06-.94 2.06-2.06.94z\"/><path d=\"M17.41 7.96l-1.37-1.37c-.4-.4-.92-.59-1.43-.59-.52 0-1.04.2-1.43.59L10.3 9.45l-7.72 7.72c-.78.78-.78 2.05 0 2.83L4 21.41c.39.39.9.59 1.41.59.51 0 1.02-.2 1.41-.59l7.78-7.78 2.81-2.81c.8-.78.8-2.07 0-2.86zM5.41 20L4 18.59l7.72-7.72 1.47 1.35L5.41 20z\"/>\n",
              "  </svg>\n",
              "      </button>\n",
              "      \n",
              "  <style>\n",
              "    .colab-df-container {\n",
              "      display:flex;\n",
              "      flex-wrap:wrap;\n",
              "      gap: 12px;\n",
              "    }\n",
              "\n",
              "    .colab-df-convert {\n",
              "      background-color: #E8F0FE;\n",
              "      border: none;\n",
              "      border-radius: 50%;\n",
              "      cursor: pointer;\n",
              "      display: none;\n",
              "      fill: #1967D2;\n",
              "      height: 32px;\n",
              "      padding: 0 0 0 0;\n",
              "      width: 32px;\n",
              "    }\n",
              "\n",
              "    .colab-df-convert:hover {\n",
              "      background-color: #E2EBFA;\n",
              "      box-shadow: 0px 1px 2px rgba(60, 64, 67, 0.3), 0px 1px 3px 1px rgba(60, 64, 67, 0.15);\n",
              "      fill: #174EA6;\n",
              "    }\n",
              "\n",
              "    [theme=dark] .colab-df-convert {\n",
              "      background-color: #3B4455;\n",
              "      fill: #D2E3FC;\n",
              "    }\n",
              "\n",
              "    [theme=dark] .colab-df-convert:hover {\n",
              "      background-color: #434B5C;\n",
              "      box-shadow: 0px 1px 3px 1px rgba(0, 0, 0, 0.15);\n",
              "      filter: drop-shadow(0px 1px 2px rgba(0, 0, 0, 0.3));\n",
              "      fill: #FFFFFF;\n",
              "    }\n",
              "  </style>\n",
              "\n",
              "      <script>\n",
              "        const buttonEl =\n",
              "          document.querySelector('#df-1310c955-91d7-4c2a-aff5-e3c08fd22915 button.colab-df-convert');\n",
              "        buttonEl.style.display =\n",
              "          google.colab.kernel.accessAllowed ? 'block' : 'none';\n",
              "\n",
              "        async function convertToInteractive(key) {\n",
              "          const element = document.querySelector('#df-1310c955-91d7-4c2a-aff5-e3c08fd22915');\n",
              "          const dataTable =\n",
              "            await google.colab.kernel.invokeFunction('convertToInteractive',\n",
              "                                                     [key], {});\n",
              "          if (!dataTable) return;\n",
              "\n",
              "          const docLinkHtml = 'Like what you see? Visit the ' +\n",
              "            '<a target=\"_blank\" href=https://colab.research.google.com/notebooks/data_table.ipynb>data table notebook</a>'\n",
              "            + ' to learn more about interactive tables.';\n",
              "          element.innerHTML = '';\n",
              "          dataTable['output_type'] = 'display_data';\n",
              "          await google.colab.output.renderOutput(dataTable, element);\n",
              "          const docLink = document.createElement('div');\n",
              "          docLink.innerHTML = docLinkHtml;\n",
              "          element.appendChild(docLink);\n",
              "        }\n",
              "      </script>\n",
              "    </div>\n",
              "  </div>\n",
              "  "
            ]
          },
          "metadata": {},
          "execution_count": 13
        }
      ],
      "source": [
        "df[['amt','unix_time']].describe()"
      ]
    },
    {
      "cell_type": "code",
      "execution_count": 14,
      "metadata": {
        "colab": {
          "base_uri": "https://localhost:8080/"
        },
        "id": "R_fYtD-v6hO7",
        "outputId": "4dff2f9a-40dd-448c-c876-62fb00d7204b"
      },
      "outputs": [
        {
          "output_type": "execute_result",
          "data": {
            "text/plain": [
              "Unnamed: 0               0\n",
              "trans_date_trans_time    0\n",
              "cc_num                   0\n",
              "merchant                 0\n",
              "category                 0\n",
              "amt                      0\n",
              "first                    0\n",
              "last                     0\n",
              "gender                   0\n",
              "street                   0\n",
              "city                     0\n",
              "state                    0\n",
              "zip                      0\n",
              "lat                      0\n",
              "long                     0\n",
              "city_pop                 0\n",
              "job                      0\n",
              "dob                      0\n",
              "trans_num                0\n",
              "unix_time                0\n",
              "merch_lat                0\n",
              "merch_long               0\n",
              "is_fraud                 0\n",
              "dtype: int64"
            ]
          },
          "metadata": {},
          "execution_count": 14
        }
      ],
      "source": [
        "#null values\n",
        "df.isnull().sum()"
      ]
    },
    {
      "cell_type": "code",
      "execution_count": 15,
      "metadata": {
        "colab": {
          "base_uri": "https://localhost:8080/"
        },
        "id": "0au47eBiJ0ix",
        "outputId": "e603796f-0d4a-4402-8595-00562ba7ab70"
      },
      "outputs": [
        {
          "output_type": "execute_result",
          "data": {
            "text/plain": [
              "0"
            ]
          },
          "metadata": {},
          "execution_count": 15
        }
      ],
      "source": [
        "df.duplicated().sum()"
      ]
    },
    {
      "cell_type": "code",
      "execution_count": 16,
      "metadata": {
        "id": "TJtYvUy2K9yZ"
      },
      "outputs": [],
      "source": [
        "import time\n",
        "import datetime\n",
        "df['dob']= pd.to_datetime(df['dob'])\n",
        "df['age'] = np.rint((pd.to_datetime('now') - df['dob']) / np.timedelta64(1, 'Y'))\n",
        "df.drop(['dob'],inplace=True,axis=1)"
      ]
    },
    {
      "cell_type": "code",
      "execution_count": 17,
      "metadata": {
        "colab": {
          "base_uri": "https://localhost:8080/",
          "height": 397
        },
        "id": "T2eCVKY06vDA",
        "outputId": "2a19bfe4-59df-4d36-8b0d-7ae346e32997"
      },
      "outputs": [
        {
          "output_type": "execute_result",
          "data": {
            "text/plain": [
              "      Features   count          mean           std           min  \\\n",
              "0   Unnamed: 0  7506.0  6.249497e+05  4.010560e+05  2.449000e+03   \n",
              "1       cc_num  7506.0  4.003577e+17  1.276871e+18  6.041621e+10   \n",
              "2          amt  7506.0  5.313200e+02  3.905600e+02  1.060000e+00   \n",
              "3          zip  7506.0  4.803871e+04  2.726556e+04  1.330000e+03   \n",
              "4          lat  7506.0  3.866400e+01  5.172000e+00  2.002700e+01   \n",
              "5         long  7506.0 -8.991600e+01  1.427800e+01 -1.656720e+02   \n",
              "6     city_pop  7506.0  9.727676e+04  3.265815e+05  2.300000e+01   \n",
              "7    unix_time  7506.0  1.348389e+09  1.383020e+07  1.325466e+09   \n",
              "8    merch_lat  7506.0  3.865400e+01  5.218000e+00  1.942500e+01   \n",
              "9   merch_long  7506.0 -8.991600e+01  1.429900e+01 -1.665510e+02   \n",
              "10    is_fraud  7506.0  1.000000e+00  0.000000e+00  1.000000e+00   \n",
              "11         age  7506.0  5.189700e+01  1.886300e+01  1.800000e+01   \n",
              "\n",
              "             25%           50%           75%           max  \n",
              "0   2.398565e+05  6.381620e+05  9.849215e+05  1.295733e+06  \n",
              "1   1.800429e+14  3.528041e+15  4.651007e+15  4.992346e+18  \n",
              "2   2.456620e+02  3.965050e+02  9.008750e+02  1.376040e+03  \n",
              "3   2.492700e+04  4.629000e+04  7.110700e+04  9.978300e+04  \n",
              "4   3.505600e+01  3.943400e+01  4.207300e+01  6.669300e+01  \n",
              "5  -9.670100e+01 -8.669200e+01 -7.994200e+01 -6.855600e+01  \n",
              "6   7.465000e+02  2.623000e+03  2.143700e+04  2.906700e+06  \n",
              "7   1.335744e+09  1.348872e+09  1.360021e+09  1.371787e+09  \n",
              "8   3.511500e+01  3.942700e+01  4.198700e+01  6.751000e+01  \n",
              "9  -9.667100e+01 -8.681300e+01 -7.990700e+01 -6.756900e+01  \n",
              "10  1.000000e+00  1.000000e+00  1.000000e+00  1.000000e+00  \n",
              "11  3.600000e+01  5.100000e+01  6.400000e+01  9.700000e+01  "
            ],
            "text/html": [
              "\n",
              "  <div id=\"df-8957148e-a36b-45e3-871e-5b88f8dd42f4\">\n",
              "    <div class=\"colab-df-container\">\n",
              "      <div>\n",
              "<style scoped>\n",
              "    .dataframe tbody tr th:only-of-type {\n",
              "        vertical-align: middle;\n",
              "    }\n",
              "\n",
              "    .dataframe tbody tr th {\n",
              "        vertical-align: top;\n",
              "    }\n",
              "\n",
              "    .dataframe thead th {\n",
              "        text-align: right;\n",
              "    }\n",
              "</style>\n",
              "<table border=\"1\" class=\"dataframe\">\n",
              "  <thead>\n",
              "    <tr style=\"text-align: right;\">\n",
              "      <th></th>\n",
              "      <th>Features</th>\n",
              "      <th>count</th>\n",
              "      <th>mean</th>\n",
              "      <th>std</th>\n",
              "      <th>min</th>\n",
              "      <th>25%</th>\n",
              "      <th>50%</th>\n",
              "      <th>75%</th>\n",
              "      <th>max</th>\n",
              "    </tr>\n",
              "  </thead>\n",
              "  <tbody>\n",
              "    <tr>\n",
              "      <th>0</th>\n",
              "      <td>Unnamed: 0</td>\n",
              "      <td>7506.0</td>\n",
              "      <td>6.249497e+05</td>\n",
              "      <td>4.010560e+05</td>\n",
              "      <td>2.449000e+03</td>\n",
              "      <td>2.398565e+05</td>\n",
              "      <td>6.381620e+05</td>\n",
              "      <td>9.849215e+05</td>\n",
              "      <td>1.295733e+06</td>\n",
              "    </tr>\n",
              "    <tr>\n",
              "      <th>1</th>\n",
              "      <td>cc_num</td>\n",
              "      <td>7506.0</td>\n",
              "      <td>4.003577e+17</td>\n",
              "      <td>1.276871e+18</td>\n",
              "      <td>6.041621e+10</td>\n",
              "      <td>1.800429e+14</td>\n",
              "      <td>3.528041e+15</td>\n",
              "      <td>4.651007e+15</td>\n",
              "      <td>4.992346e+18</td>\n",
              "    </tr>\n",
              "    <tr>\n",
              "      <th>2</th>\n",
              "      <td>amt</td>\n",
              "      <td>7506.0</td>\n",
              "      <td>5.313200e+02</td>\n",
              "      <td>3.905600e+02</td>\n",
              "      <td>1.060000e+00</td>\n",
              "      <td>2.456620e+02</td>\n",
              "      <td>3.965050e+02</td>\n",
              "      <td>9.008750e+02</td>\n",
              "      <td>1.376040e+03</td>\n",
              "    </tr>\n",
              "    <tr>\n",
              "      <th>3</th>\n",
              "      <td>zip</td>\n",
              "      <td>7506.0</td>\n",
              "      <td>4.803871e+04</td>\n",
              "      <td>2.726556e+04</td>\n",
              "      <td>1.330000e+03</td>\n",
              "      <td>2.492700e+04</td>\n",
              "      <td>4.629000e+04</td>\n",
              "      <td>7.110700e+04</td>\n",
              "      <td>9.978300e+04</td>\n",
              "    </tr>\n",
              "    <tr>\n",
              "      <th>4</th>\n",
              "      <td>lat</td>\n",
              "      <td>7506.0</td>\n",
              "      <td>3.866400e+01</td>\n",
              "      <td>5.172000e+00</td>\n",
              "      <td>2.002700e+01</td>\n",
              "      <td>3.505600e+01</td>\n",
              "      <td>3.943400e+01</td>\n",
              "      <td>4.207300e+01</td>\n",
              "      <td>6.669300e+01</td>\n",
              "    </tr>\n",
              "    <tr>\n",
              "      <th>5</th>\n",
              "      <td>long</td>\n",
              "      <td>7506.0</td>\n",
              "      <td>-8.991600e+01</td>\n",
              "      <td>1.427800e+01</td>\n",
              "      <td>-1.656720e+02</td>\n",
              "      <td>-9.670100e+01</td>\n",
              "      <td>-8.669200e+01</td>\n",
              "      <td>-7.994200e+01</td>\n",
              "      <td>-6.855600e+01</td>\n",
              "    </tr>\n",
              "    <tr>\n",
              "      <th>6</th>\n",
              "      <td>city_pop</td>\n",
              "      <td>7506.0</td>\n",
              "      <td>9.727676e+04</td>\n",
              "      <td>3.265815e+05</td>\n",
              "      <td>2.300000e+01</td>\n",
              "      <td>7.465000e+02</td>\n",
              "      <td>2.623000e+03</td>\n",
              "      <td>2.143700e+04</td>\n",
              "      <td>2.906700e+06</td>\n",
              "    </tr>\n",
              "    <tr>\n",
              "      <th>7</th>\n",
              "      <td>unix_time</td>\n",
              "      <td>7506.0</td>\n",
              "      <td>1.348389e+09</td>\n",
              "      <td>1.383020e+07</td>\n",
              "      <td>1.325466e+09</td>\n",
              "      <td>1.335744e+09</td>\n",
              "      <td>1.348872e+09</td>\n",
              "      <td>1.360021e+09</td>\n",
              "      <td>1.371787e+09</td>\n",
              "    </tr>\n",
              "    <tr>\n",
              "      <th>8</th>\n",
              "      <td>merch_lat</td>\n",
              "      <td>7506.0</td>\n",
              "      <td>3.865400e+01</td>\n",
              "      <td>5.218000e+00</td>\n",
              "      <td>1.942500e+01</td>\n",
              "      <td>3.511500e+01</td>\n",
              "      <td>3.942700e+01</td>\n",
              "      <td>4.198700e+01</td>\n",
              "      <td>6.751000e+01</td>\n",
              "    </tr>\n",
              "    <tr>\n",
              "      <th>9</th>\n",
              "      <td>merch_long</td>\n",
              "      <td>7506.0</td>\n",
              "      <td>-8.991600e+01</td>\n",
              "      <td>1.429900e+01</td>\n",
              "      <td>-1.665510e+02</td>\n",
              "      <td>-9.667100e+01</td>\n",
              "      <td>-8.681300e+01</td>\n",
              "      <td>-7.990700e+01</td>\n",
              "      <td>-6.756900e+01</td>\n",
              "    </tr>\n",
              "    <tr>\n",
              "      <th>10</th>\n",
              "      <td>is_fraud</td>\n",
              "      <td>7506.0</td>\n",
              "      <td>1.000000e+00</td>\n",
              "      <td>0.000000e+00</td>\n",
              "      <td>1.000000e+00</td>\n",
              "      <td>1.000000e+00</td>\n",
              "      <td>1.000000e+00</td>\n",
              "      <td>1.000000e+00</td>\n",
              "      <td>1.000000e+00</td>\n",
              "    </tr>\n",
              "    <tr>\n",
              "      <th>11</th>\n",
              "      <td>age</td>\n",
              "      <td>7506.0</td>\n",
              "      <td>5.189700e+01</td>\n",
              "      <td>1.886300e+01</td>\n",
              "      <td>1.800000e+01</td>\n",
              "      <td>3.600000e+01</td>\n",
              "      <td>5.100000e+01</td>\n",
              "      <td>6.400000e+01</td>\n",
              "      <td>9.700000e+01</td>\n",
              "    </tr>\n",
              "  </tbody>\n",
              "</table>\n",
              "</div>\n",
              "      <button class=\"colab-df-convert\" onclick=\"convertToInteractive('df-8957148e-a36b-45e3-871e-5b88f8dd42f4')\"\n",
              "              title=\"Convert this dataframe to an interactive table.\"\n",
              "              style=\"display:none;\">\n",
              "        \n",
              "  <svg xmlns=\"http://www.w3.org/2000/svg\" height=\"24px\"viewBox=\"0 0 24 24\"\n",
              "       width=\"24px\">\n",
              "    <path d=\"M0 0h24v24H0V0z\" fill=\"none\"/>\n",
              "    <path d=\"M18.56 5.44l.94 2.06.94-2.06 2.06-.94-2.06-.94-.94-2.06-.94 2.06-2.06.94zm-11 1L8.5 8.5l.94-2.06 2.06-.94-2.06-.94L8.5 2.5l-.94 2.06-2.06.94zm10 10l.94 2.06.94-2.06 2.06-.94-2.06-.94-.94-2.06-.94 2.06-2.06.94z\"/><path d=\"M17.41 7.96l-1.37-1.37c-.4-.4-.92-.59-1.43-.59-.52 0-1.04.2-1.43.59L10.3 9.45l-7.72 7.72c-.78.78-.78 2.05 0 2.83L4 21.41c.39.39.9.59 1.41.59.51 0 1.02-.2 1.41-.59l7.78-7.78 2.81-2.81c.8-.78.8-2.07 0-2.86zM5.41 20L4 18.59l7.72-7.72 1.47 1.35L5.41 20z\"/>\n",
              "  </svg>\n",
              "      </button>\n",
              "      \n",
              "  <style>\n",
              "    .colab-df-container {\n",
              "      display:flex;\n",
              "      flex-wrap:wrap;\n",
              "      gap: 12px;\n",
              "    }\n",
              "\n",
              "    .colab-df-convert {\n",
              "      background-color: #E8F0FE;\n",
              "      border: none;\n",
              "      border-radius: 50%;\n",
              "      cursor: pointer;\n",
              "      display: none;\n",
              "      fill: #1967D2;\n",
              "      height: 32px;\n",
              "      padding: 0 0 0 0;\n",
              "      width: 32px;\n",
              "    }\n",
              "\n",
              "    .colab-df-convert:hover {\n",
              "      background-color: #E2EBFA;\n",
              "      box-shadow: 0px 1px 2px rgba(60, 64, 67, 0.3), 0px 1px 3px 1px rgba(60, 64, 67, 0.15);\n",
              "      fill: #174EA6;\n",
              "    }\n",
              "\n",
              "    [theme=dark] .colab-df-convert {\n",
              "      background-color: #3B4455;\n",
              "      fill: #D2E3FC;\n",
              "    }\n",
              "\n",
              "    [theme=dark] .colab-df-convert:hover {\n",
              "      background-color: #434B5C;\n",
              "      box-shadow: 0px 1px 3px 1px rgba(0, 0, 0, 0.15);\n",
              "      filter: drop-shadow(0px 1px 2px rgba(0, 0, 0, 0.3));\n",
              "      fill: #FFFFFF;\n",
              "    }\n",
              "  </style>\n",
              "\n",
              "      <script>\n",
              "        const buttonEl =\n",
              "          document.querySelector('#df-8957148e-a36b-45e3-871e-5b88f8dd42f4 button.colab-df-convert');\n",
              "        buttonEl.style.display =\n",
              "          google.colab.kernel.accessAllowed ? 'block' : 'none';\n",
              "\n",
              "        async function convertToInteractive(key) {\n",
              "          const element = document.querySelector('#df-8957148e-a36b-45e3-871e-5b88f8dd42f4');\n",
              "          const dataTable =\n",
              "            await google.colab.kernel.invokeFunction('convertToInteractive',\n",
              "                                                     [key], {});\n",
              "          if (!dataTable) return;\n",
              "\n",
              "          const docLinkHtml = 'Like what you see? Visit the ' +\n",
              "            '<a target=\"_blank\" href=https://colab.research.google.com/notebooks/data_table.ipynb>data table notebook</a>'\n",
              "            + ' to learn more about interactive tables.';\n",
              "          element.innerHTML = '';\n",
              "          dataTable['output_type'] = 'display_data';\n",
              "          await google.colab.output.renderOutput(dataTable, element);\n",
              "          const docLink = document.createElement('div');\n",
              "          docLink.innerHTML = docLinkHtml;\n",
              "          element.appendChild(docLink);\n",
              "        }\n",
              "      </script>\n",
              "    </div>\n",
              "  </div>\n",
              "  "
            ]
          },
          "metadata": {},
          "execution_count": 17
        }
      ],
      "source": [
        "# fraud transactions\n",
        "fraud_stats = df[df['is_fraud'] == 1].describe().transpose().reset_index()\n",
        "fraud_stats = fraud_stats.rename(columns = {\"index\" : \"Features\"})\n",
        "fraud_stats = np.around(fraud_stats,3)\n",
        "fraud_stats"
      ]
    },
    {
      "cell_type": "code",
      "execution_count": 18,
      "metadata": {
        "colab": {
          "base_uri": "https://localhost:8080/",
          "height": 397
        },
        "id": "OprzBTJX6vGZ",
        "outputId": "53947941-7655-4949-9757-0d1e5d1ca231"
      },
      "outputs": [
        {
          "output_type": "execute_result",
          "data": {
            "text/plain": [
              "      Features      count          mean           std           min  \\\n",
              "0   Unnamed: 0  1289169.0  6.484732e+05  3.741526e+05  0.000000e+00   \n",
              "1       cc_num  1289169.0  4.172901e+17  1.308990e+18  6.041621e+10   \n",
              "2          amt  1289169.0  6.766700e+01  1.540080e+02  1.000000e+00   \n",
              "3          zip  1289169.0  4.880511e+04  2.689099e+04  1.257000e+03   \n",
              "4          lat  1289169.0  3.853700e+01  5.075000e+00  2.002700e+01   \n",
              "5         long  1289169.0 -9.022800e+01  1.375600e+01 -1.656720e+02   \n",
              "6     city_pop  1289169.0  8.877523e+04  3.018065e+05  2.300000e+01   \n",
              "7    unix_time  1289169.0  1.349249e+09  1.283514e+07  1.325376e+09   \n",
              "8    merch_lat  1289169.0  3.853700e+01  5.109000e+00  1.902800e+01   \n",
              "9   merch_long  1289169.0 -9.022800e+01  1.376800e+01 -1.666710e+02   \n",
              "10    is_fraud  1289169.0  0.000000e+00  0.000000e+00  0.000000e+00   \n",
              "11         age  1289169.0  4.904300e+01  1.739100e+01  1.800000e+01   \n",
              "\n",
              "             25%           50%           75%           max  \n",
              "0   3.246100e+05  6.484110e+05  9.723990e+05  1.296674e+06  \n",
              "1   1.800429e+14  3.521417e+15  4.642255e+15  4.992346e+18  \n",
              "2   9.610000e+00  4.728000e+01  8.254000e+01  2.894890e+04  \n",
              "3   2.623700e+04  4.817400e+04  7.204200e+04  9.978300e+04  \n",
              "4   3.462000e+01  3.935400e+01  4.194000e+01  6.569000e+01  \n",
              "5  -9.679800e+01 -8.747700e+01 -8.015800e+01 -6.795000e+01  \n",
              "6   7.430000e+02  2.456000e+03  2.032800e+04  2.906700e+06  \n",
              "7   1.338759e+09  1.349254e+09  1.359378e+09  1.371817e+09  \n",
              "8   3.473100e+01  3.936500e+01  4.195700e+01  6.668300e+01  \n",
              "9  -9.689900e+01 -8.744100e+01 -8.023900e+01 -6.695100e+01  \n",
              "10  0.000000e+00  0.000000e+00  0.000000e+00  0.000000e+00  \n",
              "11  3.600000e+01  4.700000e+01  6.000000e+01  9.800000e+01  "
            ],
            "text/html": [
              "\n",
              "  <div id=\"df-452db970-c751-4c6d-bb1b-dd16becfd72a\">\n",
              "    <div class=\"colab-df-container\">\n",
              "      <div>\n",
              "<style scoped>\n",
              "    .dataframe tbody tr th:only-of-type {\n",
              "        vertical-align: middle;\n",
              "    }\n",
              "\n",
              "    .dataframe tbody tr th {\n",
              "        vertical-align: top;\n",
              "    }\n",
              "\n",
              "    .dataframe thead th {\n",
              "        text-align: right;\n",
              "    }\n",
              "</style>\n",
              "<table border=\"1\" class=\"dataframe\">\n",
              "  <thead>\n",
              "    <tr style=\"text-align: right;\">\n",
              "      <th></th>\n",
              "      <th>Features</th>\n",
              "      <th>count</th>\n",
              "      <th>mean</th>\n",
              "      <th>std</th>\n",
              "      <th>min</th>\n",
              "      <th>25%</th>\n",
              "      <th>50%</th>\n",
              "      <th>75%</th>\n",
              "      <th>max</th>\n",
              "    </tr>\n",
              "  </thead>\n",
              "  <tbody>\n",
              "    <tr>\n",
              "      <th>0</th>\n",
              "      <td>Unnamed: 0</td>\n",
              "      <td>1289169.0</td>\n",
              "      <td>6.484732e+05</td>\n",
              "      <td>3.741526e+05</td>\n",
              "      <td>0.000000e+00</td>\n",
              "      <td>3.246100e+05</td>\n",
              "      <td>6.484110e+05</td>\n",
              "      <td>9.723990e+05</td>\n",
              "      <td>1.296674e+06</td>\n",
              "    </tr>\n",
              "    <tr>\n",
              "      <th>1</th>\n",
              "      <td>cc_num</td>\n",
              "      <td>1289169.0</td>\n",
              "      <td>4.172901e+17</td>\n",
              "      <td>1.308990e+18</td>\n",
              "      <td>6.041621e+10</td>\n",
              "      <td>1.800429e+14</td>\n",
              "      <td>3.521417e+15</td>\n",
              "      <td>4.642255e+15</td>\n",
              "      <td>4.992346e+18</td>\n",
              "    </tr>\n",
              "    <tr>\n",
              "      <th>2</th>\n",
              "      <td>amt</td>\n",
              "      <td>1289169.0</td>\n",
              "      <td>6.766700e+01</td>\n",
              "      <td>1.540080e+02</td>\n",
              "      <td>1.000000e+00</td>\n",
              "      <td>9.610000e+00</td>\n",
              "      <td>4.728000e+01</td>\n",
              "      <td>8.254000e+01</td>\n",
              "      <td>2.894890e+04</td>\n",
              "    </tr>\n",
              "    <tr>\n",
              "      <th>3</th>\n",
              "      <td>zip</td>\n",
              "      <td>1289169.0</td>\n",
              "      <td>4.880511e+04</td>\n",
              "      <td>2.689099e+04</td>\n",
              "      <td>1.257000e+03</td>\n",
              "      <td>2.623700e+04</td>\n",
              "      <td>4.817400e+04</td>\n",
              "      <td>7.204200e+04</td>\n",
              "      <td>9.978300e+04</td>\n",
              "    </tr>\n",
              "    <tr>\n",
              "      <th>4</th>\n",
              "      <td>lat</td>\n",
              "      <td>1289169.0</td>\n",
              "      <td>3.853700e+01</td>\n",
              "      <td>5.075000e+00</td>\n",
              "      <td>2.002700e+01</td>\n",
              "      <td>3.462000e+01</td>\n",
              "      <td>3.935400e+01</td>\n",
              "      <td>4.194000e+01</td>\n",
              "      <td>6.569000e+01</td>\n",
              "    </tr>\n",
              "    <tr>\n",
              "      <th>5</th>\n",
              "      <td>long</td>\n",
              "      <td>1289169.0</td>\n",
              "      <td>-9.022800e+01</td>\n",
              "      <td>1.375600e+01</td>\n",
              "      <td>-1.656720e+02</td>\n",
              "      <td>-9.679800e+01</td>\n",
              "      <td>-8.747700e+01</td>\n",
              "      <td>-8.015800e+01</td>\n",
              "      <td>-6.795000e+01</td>\n",
              "    </tr>\n",
              "    <tr>\n",
              "      <th>6</th>\n",
              "      <td>city_pop</td>\n",
              "      <td>1289169.0</td>\n",
              "      <td>8.877523e+04</td>\n",
              "      <td>3.018065e+05</td>\n",
              "      <td>2.300000e+01</td>\n",
              "      <td>7.430000e+02</td>\n",
              "      <td>2.456000e+03</td>\n",
              "      <td>2.032800e+04</td>\n",
              "      <td>2.906700e+06</td>\n",
              "    </tr>\n",
              "    <tr>\n",
              "      <th>7</th>\n",
              "      <td>unix_time</td>\n",
              "      <td>1289169.0</td>\n",
              "      <td>1.349249e+09</td>\n",
              "      <td>1.283514e+07</td>\n",
              "      <td>1.325376e+09</td>\n",
              "      <td>1.338759e+09</td>\n",
              "      <td>1.349254e+09</td>\n",
              "      <td>1.359378e+09</td>\n",
              "      <td>1.371817e+09</td>\n",
              "    </tr>\n",
              "    <tr>\n",
              "      <th>8</th>\n",
              "      <td>merch_lat</td>\n",
              "      <td>1289169.0</td>\n",
              "      <td>3.853700e+01</td>\n",
              "      <td>5.109000e+00</td>\n",
              "      <td>1.902800e+01</td>\n",
              "      <td>3.473100e+01</td>\n",
              "      <td>3.936500e+01</td>\n",
              "      <td>4.195700e+01</td>\n",
              "      <td>6.668300e+01</td>\n",
              "    </tr>\n",
              "    <tr>\n",
              "      <th>9</th>\n",
              "      <td>merch_long</td>\n",
              "      <td>1289169.0</td>\n",
              "      <td>-9.022800e+01</td>\n",
              "      <td>1.376800e+01</td>\n",
              "      <td>-1.666710e+02</td>\n",
              "      <td>-9.689900e+01</td>\n",
              "      <td>-8.744100e+01</td>\n",
              "      <td>-8.023900e+01</td>\n",
              "      <td>-6.695100e+01</td>\n",
              "    </tr>\n",
              "    <tr>\n",
              "      <th>10</th>\n",
              "      <td>is_fraud</td>\n",
              "      <td>1289169.0</td>\n",
              "      <td>0.000000e+00</td>\n",
              "      <td>0.000000e+00</td>\n",
              "      <td>0.000000e+00</td>\n",
              "      <td>0.000000e+00</td>\n",
              "      <td>0.000000e+00</td>\n",
              "      <td>0.000000e+00</td>\n",
              "      <td>0.000000e+00</td>\n",
              "    </tr>\n",
              "    <tr>\n",
              "      <th>11</th>\n",
              "      <td>age</td>\n",
              "      <td>1289169.0</td>\n",
              "      <td>4.904300e+01</td>\n",
              "      <td>1.739100e+01</td>\n",
              "      <td>1.800000e+01</td>\n",
              "      <td>3.600000e+01</td>\n",
              "      <td>4.700000e+01</td>\n",
              "      <td>6.000000e+01</td>\n",
              "      <td>9.800000e+01</td>\n",
              "    </tr>\n",
              "  </tbody>\n",
              "</table>\n",
              "</div>\n",
              "      <button class=\"colab-df-convert\" onclick=\"convertToInteractive('df-452db970-c751-4c6d-bb1b-dd16becfd72a')\"\n",
              "              title=\"Convert this dataframe to an interactive table.\"\n",
              "              style=\"display:none;\">\n",
              "        \n",
              "  <svg xmlns=\"http://www.w3.org/2000/svg\" height=\"24px\"viewBox=\"0 0 24 24\"\n",
              "       width=\"24px\">\n",
              "    <path d=\"M0 0h24v24H0V0z\" fill=\"none\"/>\n",
              "    <path d=\"M18.56 5.44l.94 2.06.94-2.06 2.06-.94-2.06-.94-.94-2.06-.94 2.06-2.06.94zm-11 1L8.5 8.5l.94-2.06 2.06-.94-2.06-.94L8.5 2.5l-.94 2.06-2.06.94zm10 10l.94 2.06.94-2.06 2.06-.94-2.06-.94-.94-2.06-.94 2.06-2.06.94z\"/><path d=\"M17.41 7.96l-1.37-1.37c-.4-.4-.92-.59-1.43-.59-.52 0-1.04.2-1.43.59L10.3 9.45l-7.72 7.72c-.78.78-.78 2.05 0 2.83L4 21.41c.39.39.9.59 1.41.59.51 0 1.02-.2 1.41-.59l7.78-7.78 2.81-2.81c.8-.78.8-2.07 0-2.86zM5.41 20L4 18.59l7.72-7.72 1.47 1.35L5.41 20z\"/>\n",
              "  </svg>\n",
              "      </button>\n",
              "      \n",
              "  <style>\n",
              "    .colab-df-container {\n",
              "      display:flex;\n",
              "      flex-wrap:wrap;\n",
              "      gap: 12px;\n",
              "    }\n",
              "\n",
              "    .colab-df-convert {\n",
              "      background-color: #E8F0FE;\n",
              "      border: none;\n",
              "      border-radius: 50%;\n",
              "      cursor: pointer;\n",
              "      display: none;\n",
              "      fill: #1967D2;\n",
              "      height: 32px;\n",
              "      padding: 0 0 0 0;\n",
              "      width: 32px;\n",
              "    }\n",
              "\n",
              "    .colab-df-convert:hover {\n",
              "      background-color: #E2EBFA;\n",
              "      box-shadow: 0px 1px 2px rgba(60, 64, 67, 0.3), 0px 1px 3px 1px rgba(60, 64, 67, 0.15);\n",
              "      fill: #174EA6;\n",
              "    }\n",
              "\n",
              "    [theme=dark] .colab-df-convert {\n",
              "      background-color: #3B4455;\n",
              "      fill: #D2E3FC;\n",
              "    }\n",
              "\n",
              "    [theme=dark] .colab-df-convert:hover {\n",
              "      background-color: #434B5C;\n",
              "      box-shadow: 0px 1px 3px 1px rgba(0, 0, 0, 0.15);\n",
              "      filter: drop-shadow(0px 1px 2px rgba(0, 0, 0, 0.3));\n",
              "      fill: #FFFFFF;\n",
              "    }\n",
              "  </style>\n",
              "\n",
              "      <script>\n",
              "        const buttonEl =\n",
              "          document.querySelector('#df-452db970-c751-4c6d-bb1b-dd16becfd72a button.colab-df-convert');\n",
              "        buttonEl.style.display =\n",
              "          google.colab.kernel.accessAllowed ? 'block' : 'none';\n",
              "\n",
              "        async function convertToInteractive(key) {\n",
              "          const element = document.querySelector('#df-452db970-c751-4c6d-bb1b-dd16becfd72a');\n",
              "          const dataTable =\n",
              "            await google.colab.kernel.invokeFunction('convertToInteractive',\n",
              "                                                     [key], {});\n",
              "          if (!dataTable) return;\n",
              "\n",
              "          const docLinkHtml = 'Like what you see? Visit the ' +\n",
              "            '<a target=\"_blank\" href=https://colab.research.google.com/notebooks/data_table.ipynb>data table notebook</a>'\n",
              "            + ' to learn more about interactive tables.';\n",
              "          element.innerHTML = '';\n",
              "          dataTable['output_type'] = 'display_data';\n",
              "          await google.colab.output.renderOutput(dataTable, element);\n",
              "          const docLink = document.createElement('div');\n",
              "          docLink.innerHTML = docLinkHtml;\n",
              "          element.appendChild(docLink);\n",
              "        }\n",
              "      </script>\n",
              "    </div>\n",
              "  </div>\n",
              "  "
            ]
          },
          "metadata": {},
          "execution_count": 18
        }
      ],
      "source": [
        "# proper transactions\n",
        "\n",
        "proper_stats = (df[df['is_fraud'] == 0].describe().transpose().reset_index())\n",
        "proper_stats = proper_stats.rename(columns = {\"index\" : \"Features\"})\n",
        "proper_stats = np.around(proper_stats,3)\n",
        "proper_stats"
      ]
    },
    {
      "cell_type": "code",
      "execution_count": 19,
      "metadata": {
        "colab": {
          "base_uri": "https://localhost:8080/"
        },
        "id": "UGINMShBIJRM",
        "outputId": "c08356df-f548-4134-a4d4-2ed650d6d2c4"
      },
      "outputs": [
        {
          "output_type": "execute_result",
          "data": {
            "text/plain": [
              "0    1289169\n",
              "1       7506\n",
              "Name: is_fraud, dtype: int64"
            ]
          },
          "metadata": {},
          "execution_count": 19
        }
      ],
      "source": [
        "# Count of is_fraud = 1 => fraudelent transactions \n",
        "# Count of is_fraud = 0 => proper transactions\n",
        "df[\"is_fraud\"].value_counts()"
      ]
    },
    {
      "cell_type": "code",
      "execution_count": 20,
      "metadata": {
        "colab": {
          "base_uri": "https://localhost:8080/"
        },
        "id": "D_bRHrJdIYDy",
        "outputId": "5c0d9199-e0da-486b-f867-47301cfa21ee"
      },
      "outputs": [
        {
          "output_type": "stream",
          "name": "stdout",
          "text": [
            "Non-fraudulent transactions : 1289169\n",
            "Percentage of Non-fraudulent transactions : 99.421%\n",
            "Fraudulent transactions : 7506\n",
            "Percentage of Fraudulent transactions : 0.579%\n"
          ]
        }
      ],
      "source": [
        "# fraud vs proper transactions \n",
        "total = df[\"is_fraud\"].value_counts()\n",
        "proper = total[0]\n",
        "fraud = total[1]\n",
        "perc_of_proper = (proper/(proper+fraud))*100\n",
        "perc_of_fraud = (fraud/(proper+fraud))*100\n",
        "print('Non-fraudulent transactions : {}'.format(proper))\n",
        "print('Percentage of Non-fraudulent transactions : {:.3f}%'.format(perc_of_proper))\n",
        "print('Fraudulent transactions : {}'.format(fraud))\n",
        "print('Percentage of Fraudulent transactions : {:.3f}%'.format(perc_of_fraud))"
      ]
    },
    {
      "cell_type": "code",
      "execution_count": 21,
      "metadata": {
        "colab": {
          "base_uri": "https://localhost:8080/",
          "height": 296
        },
        "id": "9gk3BZTKIdrK",
        "outputId": "62319d78-bfaf-46e8-a12e-864b7c514a69"
      },
      "outputs": [
        {
          "output_type": "display_data",
          "data": {
            "text/plain": [
              "<Figure size 432x288 with 1 Axes>"
            ],
            "image/png": "[encoded data removed]"
          },
          "metadata": {
            "needs_background": "light"
          }
        }
      ],
      "source": [
        "# Bar plot for the percentage of fraudulent vs non-fraudulent transcations\n",
        "fraud_percentage = {'is_fraud':['Non-Fraudulent', 'Fraudulent'], 'Percentage':[perc_of_proper, perc_of_fraud]} \n",
        "df_fraud_percentage = pd.DataFrame(fraud_percentage) \n",
        "sns.barplot(x='is_fraud',y='Percentage', data=df_fraud_percentage)\n",
        "plt.title('Percentage of fraudulent vs non-fraudulent transcations')\n",
        "plt.show()"
      ]
    },
    {
      "cell_type": "markdown",
      "metadata": {
        "id": "4bMTmFenNZ70"
      },
      "source": [
        "# **Data Selection and Manipulation**"
      ]
    },
    {
      "cell_type": "code",
      "execution_count": 22,
      "metadata": {
        "id": "eFJiW7tYX6sQ"
      },
      "outputs": [],
      "source": [
        "df.set_index('Unnamed: 0',inplace=True)"
      ]
    },
    {
      "cell_type": "code",
      "execution_count": 23,
      "metadata": {
        "colab": {
          "base_uri": "https://localhost:8080/",
          "height": 512
        },
        "id": "Uhedj6nYO5SN",
        "outputId": "52c50861-efd2-445f-a33b-3635d0a17ad1"
      },
      "outputs": [
        {
          "output_type": "execute_result",
          "data": {
            "text/plain": [
              "           trans_date_trans_time            cc_num  \\\n",
              "Unnamed: 0                                           \n",
              "0            2019-01-01 00:00:18  2703186189652095   \n",
              "1            2019-01-01 00:00:44      630423337322   \n",
              "2            2019-01-01 00:00:51    38859492057661   \n",
              "3            2019-01-01 00:01:16  3534093764340240   \n",
              "4            2019-01-01 00:03:06   375534208663984   \n",
              "\n",
              "                                      merchant       category     amt  \\\n",
              "Unnamed: 0                                                              \n",
              "0                   fraud_Rippin, Kub and Mann       misc_net    4.97   \n",
              "1              fraud_Heller, Gutmann and Zieme    grocery_pos  107.23   \n",
              "2                         fraud_Lind-Buckridge  entertainment  220.11   \n",
              "3           fraud_Kutch, Hermiston and Farrell  gas_transport   45.00   \n",
              "4                          fraud_Keeling-Crist       misc_pos   41.96   \n",
              "\n",
              "                first     last gender                        street  \\\n",
              "Unnamed: 0                                                            \n",
              "0            Jennifer    Banks      F                561 Perry Cove   \n",
              "1           Stephanie     Gill      F  43039 Riley Greens Suite 393   \n",
              "2              Edward  Sanchez      M      594 White Dale Suite 530   \n",
              "3              Jeremy    White      M   9443 Cynthia Court Apt. 038   \n",
              "4               Tyler   Garcia      M              408 Bradley Rest   \n",
              "\n",
              "                      city  ...      lat      long  city_pop  \\\n",
              "Unnamed: 0                  ...                                \n",
              "0           Moravian Falls  ...  36.0788  -81.1781      3495   \n",
              "1                   Orient  ...  48.8878 -118.2105       149   \n",
              "2               Malad City  ...  42.1808 -112.2620      4154   \n",
              "3                  Boulder  ...  46.2306 -112.1138      1939   \n",
              "4                 Doe Hill  ...  38.4207  -79.4629        99   \n",
              "\n",
              "                                          job  \\\n",
              "Unnamed: 0                                      \n",
              "0                   Psychologist, counselling   \n",
              "1           Special educational needs teacher   \n",
              "2                 Nature conservation officer   \n",
              "3                             Patent attorney   \n",
              "4              Dance movement psychotherapist   \n",
              "\n",
              "                                   trans_num   unix_time  merch_lat  \\\n",
              "Unnamed: 0                                                            \n",
              "0           0b242abb623afc578575680df30655b9  1325376018  36.011293   \n",
              "1           1f76529f8574734946361c461b024d99  1325376044  49.159047   \n",
              "2           a1a22d70485983eac12b5b88dad1cf95  1325376051  43.150704   \n",
              "3           6b849c168bdad6f867558c3793159a81  1325376076  47.034331   \n",
              "4           a41d7549acf90789359a9aa5346dcb46  1325376186  38.674999   \n",
              "\n",
              "            merch_long  is_fraud   age  \n",
              "Unnamed: 0                              \n",
              "0           -82.048315         0  35.0  \n",
              "1          -118.186462         0  44.0  \n",
              "2          -112.154481         0  61.0  \n",
              "3          -112.561071         0  56.0  \n",
              "4           -78.632459         0  37.0  \n",
              "\n",
              "[5 rows x 22 columns]"
            ],
            "text/html": [
              "\n",
              "  <div id=\"df-8b0804bb-85e2-448e-80a2-9ce23e7537db\">\n",
              "    <div class=\"colab-df-container\">\n",
              "      <div>\n",
              "<style scoped>\n",
              "    .dataframe tbody tr th:only-of-type {\n",
              "        vertical-align: middle;\n",
              "    }\n",
              "\n",
              "    .dataframe tbody tr th {\n",
              "        vertical-align: top;\n",
              "    }\n",
              "\n",
              "    .dataframe thead th {\n",
              "        text-align: right;\n",
              "    }\n",
              "</style>\n",
              "<table border=\"1\" class=\"dataframe\">\n",
              "  <thead>\n",
              "    <tr style=\"text-align: right;\">\n",
              "      <th></th>\n",
              "      <th>trans_date_trans_time</th>\n",
              "      <th>cc_num</th>\n",
              "      <th>merchant</th>\n",
              "      <th>category</th>\n",
              "      <th>amt</th>\n",
              "      <th>first</th>\n",
              "      <th>last</th>\n",
              "      <th>gender</th>\n",
              "      <th>street</th>\n",
              "      <th>city</th>\n",
              "      <th>...</th>\n",
              "      <th>lat</th>\n",
              "      <th>long</th>\n",
              "      <th>city_pop</th>\n",
              "      <th>job</th>\n",
              "      <th>trans_num</th>\n",
              "      <th>unix_time</th>\n",
              "      <th>merch_lat</th>\n",
              "      <th>merch_long</th>\n",
              "      <th>is_fraud</th>\n",
              "      <th>age</th>\n",
              "    </tr>\n",
              "    <tr>\n",
              "      <th>Unnamed: 0</th>\n",
              "      <th></th>\n",
              "      <th></th>\n",
              "      <th></th>\n",
              "      <th></th>\n",
              "      <th></th>\n",
              "      <th></th>\n",
              "      <th></th>\n",
              "      <th></th>\n",
              "      <th></th>\n",
              "      <th></th>\n",
              "      <th></th>\n",
              "      <th></th>\n",
              "      <th></th>\n",
              "      <th></th>\n",
              "      <th></th>\n",
              "      <th></th>\n",
              "      <th></th>\n",
              "      <th></th>\n",
              "      <th></th>\n",
              "      <th></th>\n",
              "      <th></th>\n",
              "    </tr>\n",
              "  </thead>\n",
              "  <tbody>\n",
              "    <tr>\n",
              "      <th>0</th>\n",
              "      <td>2019-01-01 00:00:18</td>\n",
              "      <td>2703186189652095</td>\n",
              "      <td>fraud_Rippin, Kub and Mann</td>\n",
              "      <td>misc_net</td>\n",
              "      <td>4.97</td>\n",
              "      <td>Jennifer</td>\n",
              "      <td>Banks</td>\n",
              "      <td>F</td>\n",
              "      <td>561 Perry Cove</td>\n",
              "      <td>Moravian Falls</td>\n",
              "      <td>...</td>\n",
              "      <td>36.0788</td>\n",
              "      <td>-81.1781</td>\n",
              "      <td>3495</td>\n",
              "      <td>Psychologist, counselling</td>\n",
              "      <td>0b242abb623afc578575680df30655b9</td>\n",
              "      <td>1325376018</td>\n",
              "      <td>36.011293</td>\n",
              "      <td>-82.048315</td>\n",
              "      <td>0</td>\n",
              "      <td>35.0</td>\n",
              "    </tr>\n",
              "    <tr>\n",
              "      <th>1</th>\n",
              "      <td>2019-01-01 00:00:44</td>\n",
              "      <td>630423337322</td>\n",
              "      <td>fraud_Heller, Gutmann and Zieme</td>\n",
              "      <td>grocery_pos</td>\n",
              "      <td>107.23</td>\n",
              "      <td>Stephanie</td>\n",
              "      <td>Gill</td>\n",
              "      <td>F</td>\n",
              "      <td>43039 Riley Greens Suite 393</td>\n",
              "      <td>Orient</td>\n",
              "      <td>...</td>\n",
              "      <td>48.8878</td>\n",
              "      <td>-118.2105</td>\n",
              "      <td>149</td>\n",
              "      <td>Special educational needs teacher</td>\n",
              "      <td>1f76529f8574734946361c461b024d99</td>\n",
              "      <td>1325376044</td>\n",
              "      <td>49.159047</td>\n",
              "      <td>-118.186462</td>\n",
              "      <td>0</td>\n",
              "      <td>44.0</td>\n",
              "    </tr>\n",
              "    <tr>\n",
              "      <th>2</th>\n",
              "      <td>2019-01-01 00:00:51</td>\n",
              "      <td>38859492057661</td>\n",
              "      <td>fraud_Lind-Buckridge</td>\n",
              "      <td>entertainment</td>\n",
              "      <td>220.11</td>\n",
              "      <td>Edward</td>\n",
              "      <td>Sanchez</td>\n",
              "      <td>M</td>\n",
              "      <td>594 White Dale Suite 530</td>\n",
              "      <td>Malad City</td>\n",
              "      <td>...</td>\n",
              "      <td>42.1808</td>\n",
              "      <td>-112.2620</td>\n",
              "      <td>4154</td>\n",
              "      <td>Nature conservation officer</td>\n",
              "      <td>a1a22d70485983eac12b5b88dad1cf95</td>\n",
              "      <td>1325376051</td>\n",
              "      <td>43.150704</td>\n",
              "      <td>-112.154481</td>\n",
              "      <td>0</td>\n",
              "      <td>61.0</td>\n",
              "    </tr>\n",
              "    <tr>\n",
              "      <th>3</th>\n",
              "      <td>2019-01-01 00:01:16</td>\n",
              "      <td>3534093764340240</td>\n",
              "      <td>fraud_Kutch, Hermiston and Farrell</td>\n",
              "      <td>gas_transport</td>\n",
              "      <td>45.00</td>\n",
              "      <td>Jeremy</td>\n",
              "      <td>White</td>\n",
              "      <td>M</td>\n",
              "      <td>9443 Cynthia Court Apt. 038</td>\n",
              "      <td>Boulder</td>\n",
              "      <td>...</td>\n",
              "      <td>46.2306</td>\n",
              "      <td>-112.1138</td>\n",
              "      <td>1939</td>\n",
              "      <td>Patent attorney</td>\n",
              "      <td>6b849c168bdad6f867558c3793159a81</td>\n",
              "      <td>1325376076</td>\n",
              "      <td>47.034331</td>\n",
              "      <td>-112.561071</td>\n",
              "      <td>0</td>\n",
              "      <td>56.0</td>\n",
              "    </tr>\n",
              "    <tr>\n",
              "      <th>4</th>\n",
              "      <td>2019-01-01 00:03:06</td>\n",
              "      <td>375534208663984</td>\n",
              "      <td>fraud_Keeling-Crist</td>\n",
              "      <td>misc_pos</td>\n",
              "      <td>41.96</td>\n",
              "      <td>Tyler</td>\n",
              "      <td>Garcia</td>\n",
              "      <td>M</td>\n",
              "      <td>408 Bradley Rest</td>\n",
              "      <td>Doe Hill</td>\n",
              "      <td>...</td>\n",
              "      <td>38.4207</td>\n",
              "      <td>-79.4629</td>\n",
              "      <td>99</td>\n",
              "      <td>Dance movement psychotherapist</td>\n",
              "      <td>a41d7549acf90789359a9aa5346dcb46</td>\n",
              "      <td>1325376186</td>\n",
              "      <td>38.674999</td>\n",
              "      <td>-78.632459</td>\n",
              "      <td>0</td>\n",
              "      <td>37.0</td>\n",
              "    </tr>\n",
              "  </tbody>\n",
              "</table>\n",
              "<p>5 rows × 22 columns</p>\n",
              "</div>\n",
              "      <button class=\"colab-df-convert\" onclick=\"convertToInteractive('df-8b0804bb-85e2-448e-80a2-9ce23e7537db')\"\n",
              "              title=\"Convert this dataframe to an interactive table.\"\n",
              "              style=\"display:none;\">\n",
              "        \n",
              "  <svg xmlns=\"http://www.w3.org/2000/svg\" height=\"24px\"viewBox=\"0 0 24 24\"\n",
              "       width=\"24px\">\n",
              "    <path d=\"M0 0h24v24H0V0z\" fill=\"none\"/>\n",
              "    <path d=\"M18.56 5.44l.94 2.06.94-2.06 2.06-.94-2.06-.94-.94-2.06-.94 2.06-2.06.94zm-11 1L8.5 8.5l.94-2.06 2.06-.94-2.06-.94L8.5 2.5l-.94 2.06-2.06.94zm10 10l.94 2.06.94-2.06 2.06-.94-2.06-.94-.94-2.06-.94 2.06-2.06.94z\"/><path d=\"M17.41 7.96l-1.37-1.37c-.4-.4-.92-.59-1.43-.59-.52 0-1.04.2-1.43.59L10.3 9.45l-7.72 7.72c-.78.78-.78 2.05 0 2.83L4 21.41c.39.39.9.59 1.41.59.51 0 1.02-.2 1.41-.59l7.78-7.78 2.81-2.81c.8-.78.8-2.07 0-2.86zM5.41 20L4 18.59l7.72-7.72 1.47 1.35L5.41 20z\"/>\n",
              "  </svg>\n",
              "      </button>\n",
              "      \n",
              "  <style>\n",
              "    .colab-df-container {\n",
              "      display:flex;\n",
              "      flex-wrap:wrap;\n",
              "      gap: 12px;\n",
              "    }\n",
              "\n",
              "    .colab-df-convert {\n",
              "      background-color: #E8F0FE;\n",
              "      border: none;\n",
              "      border-radius: 50%;\n",
              "      cursor: pointer;\n",
              "      display: none;\n",
              "      fill: #1967D2;\n",
              "      height: 32px;\n",
              "      padding: 0 0 0 0;\n",
              "      width: 32px;\n",
              "    }\n",
              "\n",
              "    .colab-df-convert:hover {\n",
              "      background-color: #E2EBFA;\n",
              "      box-shadow: 0px 1px 2px rgba(60, 64, 67, 0.3), 0px 1px 3px 1px rgba(60, 64, 67, 0.15);\n",
              "      fill: #174EA6;\n",
              "    }\n",
              "\n",
              "    [theme=dark] .colab-df-convert {\n",
              "      background-color: #3B4455;\n",
              "      fill: #D2E3FC;\n",
              "    }\n",
              "\n",
              "    [theme=dark] .colab-df-convert:hover {\n",
              "      background-color: #434B5C;\n",
              "      box-shadow: 0px 1px 3px 1px rgba(0, 0, 0, 0.15);\n",
              "      filter: drop-shadow(0px 1px 2px rgba(0, 0, 0, 0.3));\n",
              "      fill: #FFFFFF;\n",
              "    }\n",
              "  </style>\n",
              "\n",
              "      <script>\n",
              "        const buttonEl =\n",
              "          document.querySelector('#df-8b0804bb-85e2-448e-80a2-9ce23e7537db button.colab-df-convert');\n",
              "        buttonEl.style.display =\n",
              "          google.colab.kernel.accessAllowed ? 'block' : 'none';\n",
              "\n",
              "        async function convertToInteractive(key) {\n",
              "          const element = document.querySelector('#df-8b0804bb-85e2-448e-80a2-9ce23e7537db');\n",
              "          const dataTable =\n",
              "            await google.colab.kernel.invokeFunction('convertToInteractive',\n",
              "                                                     [key], {});\n",
              "          if (!dataTable) return;\n",
              "\n",
              "          const docLinkHtml = 'Like what you see? Visit the ' +\n",
              "            '<a target=\"_blank\" href=https://colab.research.google.com/notebooks/data_table.ipynb>data table notebook</a>'\n",
              "            + ' to learn more about interactive tables.';\n",
              "          element.innerHTML = '';\n",
              "          dataTable['output_type'] = 'display_data';\n",
              "          await google.colab.output.renderOutput(dataTable, element);\n",
              "          const docLink = document.createElement('div');\n",
              "          docLink.innerHTML = docLinkHtml;\n",
              "          element.appendChild(docLink);\n",
              "        }\n",
              "      </script>\n",
              "    </div>\n",
              "  </div>\n",
              "  "
            ]
          },
          "metadata": {},
          "execution_count": 23
        },
        {
          "output_type": "stream",
          "name": "stdout",
          "text": [
            "Warning: Total number of columns (22) exceeds max_columns (20) limiting to first (20) columns.\n"
          ]
        }
      ],
      "source": [
        "# Resetting index\n",
        "df.reset_index()\n",
        "df.head(5)"
      ]
    },
    {
      "cell_type": "code",
      "execution_count": 24,
      "metadata": {
        "id": "ZhubZnv9X4_I"
      },
      "outputs": [],
      "source": [
        "df.rename_axis(None,inplace=True)"
      ]
    },
    {
      "cell_type": "code",
      "execution_count": 25,
      "metadata": {
        "colab": {
          "base_uri": "https://localhost:8080/"
        },
        "id": "Y6NJ_igGNavr",
        "outputId": "108e260e-fd68-4b45-92c2-cb8eeeba2147"
      },
      "outputs": [
        {
          "output_type": "execute_result",
          "data": {
            "text/plain": [
              "array([0, 1])"
            ]
          },
          "metadata": {},
          "execution_count": 25
        }
      ],
      "source": [
        "df['is_fraud'].unique()"
      ]
    },
    {
      "cell_type": "code",
      "execution_count": 26,
      "metadata": {
        "colab": {
          "base_uri": "https://localhost:8080/"
        },
        "id": "S716oYhZO5A-",
        "outputId": "849aea1d-83cb-4023-b01f-02ce64592e65"
      },
      "outputs": [
        {
          "output_type": "execute_result",
          "data": {
            "text/plain": [
              "0"
            ]
          },
          "metadata": {},
          "execution_count": 26
        }
      ],
      "source": [
        "df.at[24,'is_fraud']"
      ]
    },
    {
      "cell_type": "code",
      "execution_count": 27,
      "metadata": {
        "colab": {
          "base_uri": "https://localhost:8080/",
          "height": 512
        },
        "id": "76QHYAATVoqj",
        "outputId": "fd3d7cf2-dbba-45d5-da4e-52710f0e68d1"
      },
      "outputs": [
        {
          "output_type": "execute_result",
          "data": {
            "text/plain": [
              "  trans_date_trans_time            cc_num                            merchant  \\\n",
              "0   2019-01-01 00:00:18  2703186189652095          fraud_Rippin, Kub and Mann   \n",
              "1   2019-01-01 00:00:44      630423337322     fraud_Heller, Gutmann and Zieme   \n",
              "2   2019-01-01 00:00:51    38859492057661                fraud_Lind-Buckridge   \n",
              "3   2019-01-01 00:01:16  3534093764340240  fraud_Kutch, Hermiston and Farrell   \n",
              "4   2019-01-01 00:03:06   375534208663984                 fraud_Keeling-Crist   \n",
              "\n",
              "        category     amt      first     last gender  \\\n",
              "0       misc_net    4.97   Jennifer    Banks      F   \n",
              "1    grocery_pos  107.23  Stephanie     Gill      F   \n",
              "2  entertainment  220.11     Edward  Sanchez      M   \n",
              "3  gas_transport   45.00     Jeremy    White      M   \n",
              "4       misc_pos   41.96      Tyler   Garcia      M   \n",
              "\n",
              "                         street            city  ...      lat      long  \\\n",
              "0                561 Perry Cove  Moravian Falls  ...  36.0788  -81.1781   \n",
              "1  43039 Riley Greens Suite 393          Orient  ...  48.8878 -118.2105   \n",
              "2      594 White Dale Suite 530      Malad City  ...  42.1808 -112.2620   \n",
              "3   9443 Cynthia Court Apt. 038         Boulder  ...  46.2306 -112.1138   \n",
              "4              408 Bradley Rest        Doe Hill  ...  38.4207  -79.4629   \n",
              "\n",
              "   city_pop                                job  \\\n",
              "0      3495          Psychologist, counselling   \n",
              "1       149  Special educational needs teacher   \n",
              "2      4154        Nature conservation officer   \n",
              "3      1939                    Patent attorney   \n",
              "4        99     Dance movement psychotherapist   \n",
              "\n",
              "                          trans_num   unix_time  merch_lat  merch_long  \\\n",
              "0  0b242abb623afc578575680df30655b9  1325376018  36.011293  -82.048315   \n",
              "1  1f76529f8574734946361c461b024d99  1325376044  49.159047 -118.186462   \n",
              "2  a1a22d70485983eac12b5b88dad1cf95  1325376051  43.150704 -112.154481   \n",
              "3  6b849c168bdad6f867558c3793159a81  1325376076  47.034331 -112.561071   \n",
              "4  a41d7549acf90789359a9aa5346dcb46  1325376186  38.674999  -78.632459   \n",
              "\n",
              "   is_fraud   age  \n",
              "0         0  35.0  \n",
              "1         0  44.0  \n",
              "2         0  61.0  \n",
              "3         0  56.0  \n",
              "4         0  37.0  \n",
              "\n",
              "[5 rows x 22 columns]"
            ],
            "text/html": [
              "\n",
              "  <div id=\"df-c99a52c5-b256-4ca8-8454-9e88c70d6a0e\">\n",
              "    <div class=\"colab-df-container\">\n",
              "      <div>\n",
              "<style scoped>\n",
              "    .dataframe tbody tr th:only-of-type {\n",
              "        vertical-align: middle;\n",
              "    }\n",
              "\n",
              "    .dataframe tbody tr th {\n",
              "        vertical-align: top;\n",
              "    }\n",
              "\n",
              "    .dataframe thead th {\n",
              "        text-align: right;\n",
              "    }\n",
              "</style>\n",
              "<table border=\"1\" class=\"dataframe\">\n",
              "  <thead>\n",
              "    <tr style=\"text-align: right;\">\n",
              "      <th></th>\n",
              "      <th>trans_date_trans_time</th>\n",
              "      <th>cc_num</th>\n",
              "      <th>merchant</th>\n",
              "      <th>category</th>\n",
              "      <th>amt</th>\n",
              "      <th>first</th>\n",
              "      <th>last</th>\n",
              "      <th>gender</th>\n",
              "      <th>street</th>\n",
              "      <th>city</th>\n",
              "      <th>...</th>\n",
              "      <th>lat</th>\n",
              "      <th>long</th>\n",
              "      <th>city_pop</th>\n",
              "      <th>job</th>\n",
              "      <th>trans_num</th>\n",
              "      <th>unix_time</th>\n",
              "      <th>merch_lat</th>\n",
              "      <th>merch_long</th>\n",
              "      <th>is_fraud</th>\n",
              "      <th>age</th>\n",
              "    </tr>\n",
              "  </thead>\n",
              "  <tbody>\n",
              "    <tr>\n",
              "      <th>0</th>\n",
              "      <td>2019-01-01 00:00:18</td>\n",
              "      <td>2703186189652095</td>\n",
              "      <td>fraud_Rippin, Kub and Mann</td>\n",
              "      <td>misc_net</td>\n",
              "      <td>4.97</td>\n",
              "      <td>Jennifer</td>\n",
              "      <td>Banks</td>\n",
              "      <td>F</td>\n",
              "      <td>561 Perry Cove</td>\n",
              "      <td>Moravian Falls</td>\n",
              "      <td>...</td>\n",
              "      <td>36.0788</td>\n",
              "      <td>-81.1781</td>\n",
              "      <td>3495</td>\n",
              "      <td>Psychologist, counselling</td>\n",
              "      <td>0b242abb623afc578575680df30655b9</td>\n",
              "      <td>1325376018</td>\n",
              "      <td>36.011293</td>\n",
              "      <td>-82.048315</td>\n",
              "      <td>0</td>\n",
              "      <td>35.0</td>\n",
              "    </tr>\n",
              "    <tr>\n",
              "      <th>1</th>\n",
              "      <td>2019-01-01 00:00:44</td>\n",
              "      <td>630423337322</td>\n",
              "      <td>fraud_Heller, Gutmann and Zieme</td>\n",
              "      <td>grocery_pos</td>\n",
              "      <td>107.23</td>\n",
              "      <td>Stephanie</td>\n",
              "      <td>Gill</td>\n",
              "      <td>F</td>\n",
              "      <td>43039 Riley Greens Suite 393</td>\n",
              "      <td>Orient</td>\n",
              "      <td>...</td>\n",
              "      <td>48.8878</td>\n",
              "      <td>-118.2105</td>\n",
              "      <td>149</td>\n",
              "      <td>Special educational needs teacher</td>\n",
              "      <td>1f76529f8574734946361c461b024d99</td>\n",
              "      <td>1325376044</td>\n",
              "      <td>49.159047</td>\n",
              "      <td>-118.186462</td>\n",
              "      <td>0</td>\n",
              "      <td>44.0</td>\n",
              "    </tr>\n",
              "    <tr>\n",
              "      <th>2</th>\n",
              "      <td>2019-01-01 00:00:51</td>\n",
              "      <td>38859492057661</td>\n",
              "      <td>fraud_Lind-Buckridge</td>\n",
              "      <td>entertainment</td>\n",
              "      <td>220.11</td>\n",
              "      <td>Edward</td>\n",
              "      <td>Sanchez</td>\n",
              "      <td>M</td>\n",
              "      <td>594 White Dale Suite 530</td>\n",
              "      <td>Malad City</td>\n",
              "      <td>...</td>\n",
              "      <td>42.1808</td>\n",
              "      <td>-112.2620</td>\n",
              "      <td>4154</td>\n",
              "      <td>Nature conservation officer</td>\n",
              "      <td>a1a22d70485983eac12b5b88dad1cf95</td>\n",
              "      <td>1325376051</td>\n",
              "      <td>43.150704</td>\n",
              "      <td>-112.154481</td>\n",
              "      <td>0</td>\n",
              "      <td>61.0</td>\n",
              "    </tr>\n",
              "    <tr>\n",
              "      <th>3</th>\n",
              "      <td>2019-01-01 00:01:16</td>\n",
              "      <td>3534093764340240</td>\n",
              "      <td>fraud_Kutch, Hermiston and Farrell</td>\n",
              "      <td>gas_transport</td>\n",
              "      <td>45.00</td>\n",
              "      <td>Jeremy</td>\n",
              "      <td>White</td>\n",
              "      <td>M</td>\n",
              "      <td>9443 Cynthia Court Apt. 038</td>\n",
              "      <td>Boulder</td>\n",
              "      <td>...</td>\n",
              "      <td>46.2306</td>\n",
              "      <td>-112.1138</td>\n",
              "      <td>1939</td>\n",
              "      <td>Patent attorney</td>\n",
              "      <td>6b849c168bdad6f867558c3793159a81</td>\n",
              "      <td>1325376076</td>\n",
              "      <td>47.034331</td>\n",
              "      <td>-112.561071</td>\n",
              "      <td>0</td>\n",
              "      <td>56.0</td>\n",
              "    </tr>\n",
              "    <tr>\n",
              "      <th>4</th>\n",
              "      <td>2019-01-01 00:03:06</td>\n",
              "      <td>375534208663984</td>\n",
              "      <td>fraud_Keeling-Crist</td>\n",
              "      <td>misc_pos</td>\n",
              "      <td>41.96</td>\n",
              "      <td>Tyler</td>\n",
              "      <td>Garcia</td>\n",
              "      <td>M</td>\n",
              "      <td>408 Bradley Rest</td>\n",
              "      <td>Doe Hill</td>\n",
              "      <td>...</td>\n",
              "      <td>38.4207</td>\n",
              "      <td>-79.4629</td>\n",
              "      <td>99</td>\n",
              "      <td>Dance movement psychotherapist</td>\n",
              "      <td>a41d7549acf90789359a9aa5346dcb46</td>\n",
              "      <td>1325376186</td>\n",
              "      <td>38.674999</td>\n",
              "      <td>-78.632459</td>\n",
              "      <td>0</td>\n",
              "      <td>37.0</td>\n",
              "    </tr>\n",
              "  </tbody>\n",
              "</table>\n",
              "<p>5 rows × 22 columns</p>\n",
              "</div>\n",
              "      <button class=\"colab-df-convert\" onclick=\"convertToInteractive('df-c99a52c5-b256-4ca8-8454-9e88c70d6a0e')\"\n",
              "              title=\"Convert this dataframe to an interactive table.\"\n",
              "              style=\"display:none;\">\n",
              "        \n",
              "  <svg xmlns=\"http://www.w3.org/2000/svg\" height=\"24px\"viewBox=\"0 0 24 24\"\n",
              "       width=\"24px\">\n",
              "    <path d=\"M0 0h24v24H0V0z\" fill=\"none\"/>\n",
              "    <path d=\"M18.56 5.44l.94 2.06.94-2.06 2.06-.94-2.06-.94-.94-2.06-.94 2.06-2.06.94zm-11 1L8.5 8.5l.94-2.06 2.06-.94-2.06-.94L8.5 2.5l-.94 2.06-2.06.94zm10 10l.94 2.06.94-2.06 2.06-.94-2.06-.94-.94-2.06-.94 2.06-2.06.94z\"/><path d=\"M17.41 7.96l-1.37-1.37c-.4-.4-.92-.59-1.43-.59-.52 0-1.04.2-1.43.59L10.3 9.45l-7.72 7.72c-.78.78-.78 2.05 0 2.83L4 21.41c.39.39.9.59 1.41.59.51 0 1.02-.2 1.41-.59l7.78-7.78 2.81-2.81c.8-.78.8-2.07 0-2.86zM5.41 20L4 18.59l7.72-7.72 1.47 1.35L5.41 20z\"/>\n",
              "  </svg>\n",
              "      </button>\n",
              "      \n",
              "  <style>\n",
              "    .colab-df-container {\n",
              "      display:flex;\n",
              "      flex-wrap:wrap;\n",
              "      gap: 12px;\n",
              "    }\n",
              "\n",
              "    .colab-df-convert {\n",
              "      background-color: #E8F0FE;\n",
              "      border: none;\n",
              "      border-radius: 50%;\n",
              "      cursor: pointer;\n",
              "      display: none;\n",
              "      fill: #1967D2;\n",
              "      height: 32px;\n",
              "      padding: 0 0 0 0;\n",
              "      width: 32px;\n",
              "    }\n",
              "\n",
              "    .colab-df-convert:hover {\n",
              "      background-color: #E2EBFA;\n",
              "      box-shadow: 0px 1px 2px rgba(60, 64, 67, 0.3), 0px 1px 3px 1px rgba(60, 64, 67, 0.15);\n",
              "      fill: #174EA6;\n",
              "    }\n",
              "\n",
              "    [theme=dark] .colab-df-convert {\n",
              "      background-color: #3B4455;\n",
              "      fill: #D2E3FC;\n",
              "    }\n",
              "\n",
              "    [theme=dark] .colab-df-convert:hover {\n",
              "      background-color: #434B5C;\n",
              "      box-shadow: 0px 1px 3px 1px rgba(0, 0, 0, 0.15);\n",
              "      filter: drop-shadow(0px 1px 2px rgba(0, 0, 0, 0.3));\n",
              "      fill: #FFFFFF;\n",
              "    }\n",
              "  </style>\n",
              "\n",
              "      <script>\n",
              "        const buttonEl =\n",
              "          document.querySelector('#df-c99a52c5-b256-4ca8-8454-9e88c70d6a0e button.colab-df-convert');\n",
              "        buttonEl.style.display =\n",
              "          google.colab.kernel.accessAllowed ? 'block' : 'none';\n",
              "\n",
              "        async function convertToInteractive(key) {\n",
              "          const element = document.querySelector('#df-c99a52c5-b256-4ca8-8454-9e88c70d6a0e');\n",
              "          const dataTable =\n",
              "            await google.colab.kernel.invokeFunction('convertToInteractive',\n",
              "                                                     [key], {});\n",
              "          if (!dataTable) return;\n",
              "\n",
              "          const docLinkHtml = 'Like what you see? Visit the ' +\n",
              "            '<a target=\"_blank\" href=https://colab.research.google.com/notebooks/data_table.ipynb>data table notebook</a>'\n",
              "            + ' to learn more about interactive tables.';\n",
              "          element.innerHTML = '';\n",
              "          dataTable['output_type'] = 'display_data';\n",
              "          await google.colab.output.renderOutput(dataTable, element);\n",
              "          const docLink = document.createElement('div');\n",
              "          docLink.innerHTML = docLinkHtml;\n",
              "          element.appendChild(docLink);\n",
              "        }\n",
              "      </script>\n",
              "    </div>\n",
              "  </div>\n",
              "  "
            ]
          },
          "metadata": {},
          "execution_count": 27
        },
        {
          "output_type": "stream",
          "name": "stdout",
          "text": [
            "Warning: Total number of columns (22) exceeds max_columns (20) limiting to first (20) columns.\n"
          ]
        }
      ],
      "source": [
        "df.head()"
      ]
    },
    {
      "cell_type": "code",
      "execution_count": 28,
      "metadata": {
        "colab": {
          "base_uri": "https://localhost:8080/"
        },
        "id": "o0c1MemSO5Ic",
        "outputId": "f0435966-fce2-4f6c-ecac-da146b6ab037"
      },
      "outputs": [
        {
          "output_type": "execute_result",
          "data": {
            "text/plain": [
              "55"
            ]
          },
          "metadata": {},
          "execution_count": 28
        }
      ],
      "source": [
        "df.loc[(df['gender']=='F') & (df['state']=='NC')& (df['is_fraud']==1),'is_fraud'].count()"
      ]
    },
    {
      "cell_type": "code",
      "execution_count": 29,
      "metadata": {
        "colab": {
          "base_uri": "https://localhost:8080/"
        },
        "id": "l1vQ8h1pO5K3",
        "outputId": "84d55b91-c08a-4173-89a8-20f9c5dda98f"
      },
      "outputs": [
        {
          "output_type": "execute_result",
          "data": {
            "text/plain": [
              "0"
            ]
          },
          "metadata": {},
          "execution_count": 29
        }
      ],
      "source": [
        "df.loc[(df['gender']=='M') & (df['category']=='fraud_Keeling-Crist') & (df['amt']>10000) ,'is_fraud'].count()"
      ]
    },
    {
      "cell_type": "code",
      "execution_count": 30,
      "metadata": {
        "colab": {
          "base_uri": "https://localhost:8080/",
          "height": 537
        },
        "id": "z9GhOnfEO5NP",
        "outputId": "b85a453e-8d79-4da8-fc76-dd2d407bdf26"
      },
      "outputs": [
        {
          "output_type": "execute_result",
          "data": {
            "text/plain": [
              "          first       last  is_fraud\n",
              "0      Jennifer      Banks         0\n",
              "1     Stephanie       Gill         0\n",
              "2        Edward    Sanchez         0\n",
              "3        Jeremy      White         0\n",
              "4         Tyler     Garcia         0\n",
              "5      Jennifer     Conner         0\n",
              "6        Kelsey   Richards         0\n",
              "7        Steven   Williams         0\n",
              "8       Heather      Chase         0\n",
              "9       Melissa    Aguilar         0\n",
              "10        Eddie     Mendez         0\n",
              "11      Theresa  Blackwell         0\n",
              "12      Charles     Robles         0\n",
              "13         Jack       Hill         0\n",
              "14  Christopher  Castaneda         0\n",
              "15       Ronald     Carson         0\n",
              "16         Lisa     Mendez         0\n",
              "17       Nathan     Thomas         0\n",
              "18       Justin        Gay         0\n",
              "19      Kenneth   Robinson         0"
            ],
            "text/html": [
              "\n",
              "  <div id=\"df-2739164a-8cf0-49ec-b126-8934fa190029\">\n",
              "    <div class=\"colab-df-container\">\n",
              "      <div>\n",
              "<style scoped>\n",
              "    .dataframe tbody tr th:only-of-type {\n",
              "        vertical-align: middle;\n",
              "    }\n",
              "\n",
              "    .dataframe tbody tr th {\n",
              "        vertical-align: top;\n",
              "    }\n",
              "\n",
              "    .dataframe thead th {\n",
              "        text-align: right;\n",
              "    }\n",
              "</style>\n",
              "<table border=\"1\" class=\"dataframe\">\n",
              "  <thead>\n",
              "    <tr style=\"text-align: right;\">\n",
              "      <th></th>\n",
              "      <th>first</th>\n",
              "      <th>last</th>\n",
              "      <th>is_fraud</th>\n",
              "    </tr>\n",
              "  </thead>\n",
              "  <tbody>\n",
              "    <tr>\n",
              "      <th>0</th>\n",
              "      <td>Jennifer</td>\n",
              "      <td>Banks</td>\n",
              "      <td>0</td>\n",
              "    </tr>\n",
              "    <tr>\n",
              "      <th>1</th>\n",
              "      <td>Stephanie</td>\n",
              "      <td>Gill</td>\n",
              "      <td>0</td>\n",
              "    </tr>\n",
              "    <tr>\n",
              "      <th>2</th>\n",
              "      <td>Edward</td>\n",
              "      <td>Sanchez</td>\n",
              "      <td>0</td>\n",
              "    </tr>\n",
              "    <tr>\n",
              "      <th>3</th>\n",
              "      <td>Jeremy</td>\n",
              "      <td>White</td>\n",
              "      <td>0</td>\n",
              "    </tr>\n",
              "    <tr>\n",
              "      <th>4</th>\n",
              "      <td>Tyler</td>\n",
              "      <td>Garcia</td>\n",
              "      <td>0</td>\n",
              "    </tr>\n",
              "    <tr>\n",
              "      <th>5</th>\n",
              "      <td>Jennifer</td>\n",
              "      <td>Conner</td>\n",
              "      <td>0</td>\n",
              "    </tr>\n",
              "    <tr>\n",
              "      <th>6</th>\n",
              "      <td>Kelsey</td>\n",
              "      <td>Richards</td>\n",
              "      <td>0</td>\n",
              "    </tr>\n",
              "    <tr>\n",
              "      <th>7</th>\n",
              "      <td>Steven</td>\n",
              "      <td>Williams</td>\n",
              "      <td>0</td>\n",
              "    </tr>\n",
              "    <tr>\n",
              "      <th>8</th>\n",
              "      <td>Heather</td>\n",
              "      <td>Chase</td>\n",
              "      <td>0</td>\n",
              "    </tr>\n",
              "    <tr>\n",
              "      <th>9</th>\n",
              "      <td>Melissa</td>\n",
              "      <td>Aguilar</td>\n",
              "      <td>0</td>\n",
              "    </tr>\n",
              "    <tr>\n",
              "      <th>10</th>\n",
              "      <td>Eddie</td>\n",
              "      <td>Mendez</td>\n",
              "      <td>0</td>\n",
              "    </tr>\n",
              "    <tr>\n",
              "      <th>11</th>\n",
              "      <td>Theresa</td>\n",
              "      <td>Blackwell</td>\n",
              "      <td>0</td>\n",
              "    </tr>\n",
              "    <tr>\n",
              "      <th>12</th>\n",
              "      <td>Charles</td>\n",
              "      <td>Robles</td>\n",
              "      <td>0</td>\n",
              "    </tr>\n",
              "    <tr>\n",
              "      <th>13</th>\n",
              "      <td>Jack</td>\n",
              "      <td>Hill</td>\n",
              "      <td>0</td>\n",
              "    </tr>\n",
              "    <tr>\n",
              "      <th>14</th>\n",
              "      <td>Christopher</td>\n",
              "      <td>Castaneda</td>\n",
              "      <td>0</td>\n",
              "    </tr>\n",
              "    <tr>\n",
              "      <th>15</th>\n",
              "      <td>Ronald</td>\n",
              "      <td>Carson</td>\n",
              "      <td>0</td>\n",
              "    </tr>\n",
              "    <tr>\n",
              "      <th>16</th>\n",
              "      <td>Lisa</td>\n",
              "      <td>Mendez</td>\n",
              "      <td>0</td>\n",
              "    </tr>\n",
              "    <tr>\n",
              "      <th>17</th>\n",
              "      <td>Nathan</td>\n",
              "      <td>Thomas</td>\n",
              "      <td>0</td>\n",
              "    </tr>\n",
              "    <tr>\n",
              "      <th>18</th>\n",
              "      <td>Justin</td>\n",
              "      <td>Gay</td>\n",
              "      <td>0</td>\n",
              "    </tr>\n",
              "    <tr>\n",
              "      <th>19</th>\n",
              "      <td>Kenneth</td>\n",
              "      <td>Robinson</td>\n",
              "      <td>0</td>\n",
              "    </tr>\n",
              "  </tbody>\n",
              "</table>\n",
              "</div>\n",
              "      <button class=\"colab-df-convert\" onclick=\"convertToInteractive('df-2739164a-8cf0-49ec-b126-8934fa190029')\"\n",
              "              title=\"Convert this dataframe to an interactive table.\"\n",
              "              style=\"display:none;\">\n",
              "        \n",
              "  <svg xmlns=\"http://www.w3.org/2000/svg\" height=\"24px\"viewBox=\"0 0 24 24\"\n",
              "       width=\"24px\">\n",
              "    <path d=\"M0 0h24v24H0V0z\" fill=\"none\"/>\n",
              "    <path d=\"M18.56 5.44l.94 2.06.94-2.06 2.06-.94-2.06-.94-.94-2.06-.94 2.06-2.06.94zm-11 1L8.5 8.5l.94-2.06 2.06-.94-2.06-.94L8.5 2.5l-.94 2.06-2.06.94zm10 10l.94 2.06.94-2.06 2.06-.94-2.06-.94-.94-2.06-.94 2.06-2.06.94z\"/><path d=\"M17.41 7.96l-1.37-1.37c-.4-.4-.92-.59-1.43-.59-.52 0-1.04.2-1.43.59L10.3 9.45l-7.72 7.72c-.78.78-.78 2.05 0 2.83L4 21.41c.39.39.9.59 1.41.59.51 0 1.02-.2 1.41-.59l7.78-7.78 2.81-2.81c.8-.78.8-2.07 0-2.86zM5.41 20L4 18.59l7.72-7.72 1.47 1.35L5.41 20z\"/>\n",
              "  </svg>\n",
              "      </button>\n",
              "      \n",
              "  <style>\n",
              "    .colab-df-container {\n",
              "      display:flex;\n",
              "      flex-wrap:wrap;\n",
              "      gap: 12px;\n",
              "    }\n",
              "\n",
              "    .colab-df-convert {\n",
              "      background-color: #E8F0FE;\n",
              "      border: none;\n",
              "      border-radius: 50%;\n",
              "      cursor: pointer;\n",
              "      display: none;\n",
              "      fill: #1967D2;\n",
              "      height: 32px;\n",
              "      padding: 0 0 0 0;\n",
              "      width: 32px;\n",
              "    }\n",
              "\n",
              "    .colab-df-convert:hover {\n",
              "      background-color: #E2EBFA;\n",
              "      box-shadow: 0px 1px 2px rgba(60, 64, 67, 0.3), 0px 1px 3px 1px rgba(60, 64, 67, 0.15);\n",
              "      fill: #174EA6;\n",
              "    }\n",
              "\n",
              "    [theme=dark] .colab-df-convert {\n",
              "      background-color: #3B4455;\n",
              "      fill: #D2E3FC;\n",
              "    }\n",
              "\n",
              "    [theme=dark] .colab-df-convert:hover {\n",
              "      background-color: #434B5C;\n",
              "      box-shadow: 0px 1px 3px 1px rgba(0, 0, 0, 0.15);\n",
              "      filter: drop-shadow(0px 1px 2px rgba(0, 0, 0, 0.3));\n",
              "      fill: #FFFFFF;\n",
              "    }\n",
              "  </style>\n",
              "\n",
              "      <script>\n",
              "        const buttonEl =\n",
              "          document.querySelector('#df-2739164a-8cf0-49ec-b126-8934fa190029 button.colab-df-convert');\n",
              "        buttonEl.style.display =\n",
              "          google.colab.kernel.accessAllowed ? 'block' : 'none';\n",
              "\n",
              "        async function convertToInteractive(key) {\n",
              "          const element = document.querySelector('#df-2739164a-8cf0-49ec-b126-8934fa190029');\n",
              "          const dataTable =\n",
              "            await google.colab.kernel.invokeFunction('convertToInteractive',\n",
              "                                                     [key], {});\n",
              "          if (!dataTable) return;\n",
              "\n",
              "          const docLinkHtml = 'Like what you see? Visit the ' +\n",
              "            '<a target=\"_blank\" href=https://colab.research.google.com/notebooks/data_table.ipynb>data table notebook</a>'\n",
              "            + ' to learn more about interactive tables.';\n",
              "          element.innerHTML = '';\n",
              "          dataTable['output_type'] = 'display_data';\n",
              "          await google.colab.output.renderOutput(dataTable, element);\n",
              "          const docLink = document.createElement('div');\n",
              "          docLink.innerHTML = docLinkHtml;\n",
              "          element.appendChild(docLink);\n",
              "        }\n",
              "      </script>\n",
              "    </div>\n",
              "  </div>\n",
              "  "
            ]
          },
          "metadata": {},
          "execution_count": 30
        }
      ],
      "source": [
        "df.iloc[:20,[5,6,-2]]"
      ]
    },
    {
      "cell_type": "code",
      "execution_count": 31,
      "metadata": {
        "colab": {
          "base_uri": "https://localhost:8080/",
          "height": 1615
        },
        "id": "LdnvoUL1YqLr",
        "outputId": "e6560a97-05e1-48e1-df40-fdb9803dd7ac"
      },
      "outputs": [
        {
          "output_type": "execute_result",
          "data": {
            "text/plain": [
              "        trans_date_trans_time            cc_num  \\\n",
              "856060    2019-12-16 13:12:51    30518206766474   \n",
              "371549    2019-06-21 09:23:24     4783226709001   \n",
              "300745    2019-05-26 19:47:03  2286236465059468   \n",
              "906626    2019-12-28 13:29:54  3523843138706408   \n",
              "483715    2019-07-30 16:14:35  2285066385084291   \n",
              "...                       ...               ...   \n",
              "352894    2019-06-14 20:15:38  5540636818935089   \n",
              "606211    2019-09-14 22:19:01    30408301059761   \n",
              "1234797   2020-05-30 17:31:30       60423098130   \n",
              "793677    2019-12-02 15:53:46      675909898057   \n",
              "787549    2019-12-01 16:19:23  4979422371139333   \n",
              "\n",
              "                                 merchant        category       amt  \\\n",
              "856060                fraud_Wilkinson PLC       kids_pets      1.00   \n",
              "371549                  fraud_Cormier LLC    shopping_net      1.00   \n",
              "300745                  fraud_Friesen Ltd  health_fitness      1.00   \n",
              "906626                 fraud_Nader-Maggio   personal_care      1.00   \n",
              "483715                  fraud_Larson-Moen   entertainment      1.00   \n",
              "...                                   ...             ...       ...   \n",
              "352894                fraud_Hackett Group          travel  25086.94   \n",
              "606211                  fraud_Boyer-Haley          travel  26544.12   \n",
              "1234797  fraud_Monahan, Hermann and Johns          travel  27119.77   \n",
              "793677   fraud_Monahan, Hermann and Johns          travel  27390.12   \n",
              "787549             fraud_Satterfield-Lowe          travel  28948.90   \n",
              "\n",
              "               first       last gender                          street  \\\n",
              "856060        Tamara   Martinez      F   471 Marquez Prairie Suite 680   \n",
              "371549       Jessica     Garcia      F          13108 Jennifer Passage   \n",
              "300745        Morgan     Murray      F            2788 Brittney Island   \n",
              "906626         Grace   Williams      F     28812 Charles Mill Apt. 628   \n",
              "483715       Richard      Brown      M      17819 Jose Mount Suite 657   \n",
              "...              ...        ...    ...                             ...   \n",
              "352894       Kenneth     Foster      M           329 Michael Extension   \n",
              "606211       Brandon    Pittman      M               2881 Frey Village   \n",
              "1234797        Jason       Gray      M                   875 Amy Point   \n",
              "793677   Christopher      Henry      M  1198 Robert Stravenue Apt. 479   \n",
              "787549         Kelly  Zimmerman      F               1893 Katie Tunnel   \n",
              "\n",
              "                  city  ...      lat     long  city_pop  \\\n",
              "856060        Matthews  ...  36.7154 -89.6287      1019   \n",
              "371549      Mc Cracken  ...  38.5957 -99.5540       320   \n",
              "300745      Blairstown  ...  38.5319 -93.9221       467   \n",
              "906626   Plantersville  ...  32.6176 -86.9475      1412   \n",
              "483715      Heidelberg  ...  31.8820 -88.9981      4573   \n",
              "...                ...  ...      ...      ...       ...   \n",
              "352894        Lawrence  ...  42.6911 -71.1605     76383   \n",
              "606211           Cross  ...  33.3364 -80.1859      4471   \n",
              "1234797        Amorita  ...  36.9412 -98.2458        83   \n",
              "793677          Armonk  ...  41.1360 -73.7009      7987   \n",
              "787549     Westerville  ...  41.4193 -99.3844        73   \n",
              "\n",
              "                                         job  \\\n",
              "856060                 Aeronautical engineer   \n",
              "371549                     Film/video editor   \n",
              "300745               Agricultural consultant   \n",
              "906626                     Drilling engineer   \n",
              "483715   Exhibitions officer, museum/gallery   \n",
              "...                                      ...   \n",
              "352894                          Geoscientist   \n",
              "606211                Occupational hygienist   \n",
              "1234797                    Barrister's clerk   \n",
              "793677        Television/film/video producer   \n",
              "787549                      Product designer   \n",
              "\n",
              "                                trans_num   unix_time  merch_lat  merch_long  \\\n",
              "856060   2260cb1f6392bacaa21ed3cdf256b9d0  1355663571  35.885287  -90.400848   \n",
              "371549   14c3b79eba42307636f7043a0f223614  1340270604  39.540400  -98.554979   \n",
              "300745   d305b2b6db28f8a491bb1f10818e119a  1338061623  38.724478  -93.413349   \n",
              "906626   2d99df3e24dcaec9efababe18c9c160d  1356701394  33.522638  -86.248212   \n",
              "483715   d78fe6ed57e7b370133a193a0c655335  1343664875  32.859879  -89.101711   \n",
              "...                                   ...         ...        ...         ...   \n",
              "352894   0b902a1e549c98b949444a7557da2403  1339704938  42.397174  -71.474163   \n",
              "606211   dda9d800d37a9fc2c086a836d66b0588  1347661141  33.020256  -80.125607   \n",
              "1234797  916093eeab1831be71d49362bf5b7be5  1369935090  37.286865  -97.249611   \n",
              "793677   2ca9bd5df126cc35e541a4f2c2551197  1354463626  41.665873  -74.663015   \n",
              "787549   309c4bf7fc47b1ddee5ad883bcf634b6  1354378763  42.317313  -99.139498   \n",
              "\n",
              "         is_fraud   age  \n",
              "856060          0  44.0  \n",
              "371549          0  62.0  \n",
              "300745          0  72.0  \n",
              "906626          0  52.0  \n",
              "483715          0  35.0  \n",
              "...           ...   ...  \n",
              "352894          0  38.0  \n",
              "606211          0  49.0  \n",
              "1234797         0  64.0  \n",
              "793677          0  59.0  \n",
              "787549          0  88.0  \n",
              "\n",
              "[1296675 rows x 22 columns]"
            ],
            "text/html": [
              "\n",
              "  <div id=\"df-345ab326-f430-42c0-b473-4050df9d51f6\">\n",
              "    <div class=\"colab-df-container\">\n",
              "      <div>\n",
              "<style scoped>\n",
              "    .dataframe tbody tr th:only-of-type {\n",
              "        vertical-align: middle;\n",
              "    }\n",
              "\n",
              "    .dataframe tbody tr th {\n",
              "        vertical-align: top;\n",
              "    }\n",
              "\n",
              "    .dataframe thead th {\n",
              "        text-align: right;\n",
              "    }\n",
              "</style>\n",
              "<table border=\"1\" class=\"dataframe\">\n",
              "  <thead>\n",
              "    <tr style=\"text-align: right;\">\n",
              "      <th></th>\n",
              "      <th>trans_date_trans_time</th>\n",
              "      <th>cc_num</th>\n",
              "      <th>merchant</th>\n",
              "      <th>category</th>\n",
              "      <th>amt</th>\n",
              "      <th>first</th>\n",
              "      <th>last</th>\n",
              "      <th>gender</th>\n",
              "      <th>street</th>\n",
              "      <th>city</th>\n",
              "      <th>...</th>\n",
              "      <th>lat</th>\n",
              "      <th>long</th>\n",
              "      <th>city_pop</th>\n",
              "      <th>job</th>\n",
              "      <th>trans_num</th>\n",
              "      <th>unix_time</th>\n",
              "      <th>merch_lat</th>\n",
              "      <th>merch_long</th>\n",
              "      <th>is_fraud</th>\n",
              "      <th>age</th>\n",
              "    </tr>\n",
              "  </thead>\n",
              "  <tbody>\n",
              "    <tr>\n",
              "      <th>856060</th>\n",
              "      <td>2019-12-16 13:12:51</td>\n",
              "      <td>30518206766474</td>\n",
              "      <td>fraud_Wilkinson PLC</td>\n",
              "      <td>kids_pets</td>\n",
              "      <td>1.00</td>\n",
              "      <td>Tamara</td>\n",
              "      <td>Martinez</td>\n",
              "      <td>F</td>\n",
              "      <td>471 Marquez Prairie Suite 680</td>\n",
              "      <td>Matthews</td>\n",
              "      <td>...</td>\n",
              "      <td>36.7154</td>\n",
              "      <td>-89.6287</td>\n",
              "      <td>1019</td>\n",
              "      <td>Aeronautical engineer</td>\n",
              "      <td>2260cb1f6392bacaa21ed3cdf256b9d0</td>\n",
              "      <td>1355663571</td>\n",
              "      <td>35.885287</td>\n",
              "      <td>-90.400848</td>\n",
              "      <td>0</td>\n",
              "      <td>44.0</td>\n",
              "    </tr>\n",
              "    <tr>\n",
              "      <th>371549</th>\n",
              "      <td>2019-06-21 09:23:24</td>\n",
              "      <td>4783226709001</td>\n",
              "      <td>fraud_Cormier LLC</td>\n",
              "      <td>shopping_net</td>\n",
              "      <td>1.00</td>\n",
              "      <td>Jessica</td>\n",
              "      <td>Garcia</td>\n",
              "      <td>F</td>\n",
              "      <td>13108 Jennifer Passage</td>\n",
              "      <td>Mc Cracken</td>\n",
              "      <td>...</td>\n",
              "      <td>38.5957</td>\n",
              "      <td>-99.5540</td>\n",
              "      <td>320</td>\n",
              "      <td>Film/video editor</td>\n",
              "      <td>14c3b79eba42307636f7043a0f223614</td>\n",
              "      <td>1340270604</td>\n",
              "      <td>39.540400</td>\n",
              "      <td>-98.554979</td>\n",
              "      <td>0</td>\n",
              "      <td>62.0</td>\n",
              "    </tr>\n",
              "    <tr>\n",
              "      <th>300745</th>\n",
              "      <td>2019-05-26 19:47:03</td>\n",
              "      <td>2286236465059468</td>\n",
              "      <td>fraud_Friesen Ltd</td>\n",
              "      <td>health_fitness</td>\n",
              "      <td>1.00</td>\n",
              "      <td>Morgan</td>\n",
              "      <td>Murray</td>\n",
              "      <td>F</td>\n",
              "      <td>2788 Brittney Island</td>\n",
              "      <td>Blairstown</td>\n",
              "      <td>...</td>\n",
              "      <td>38.5319</td>\n",
              "      <td>-93.9221</td>\n",
              "      <td>467</td>\n",
              "      <td>Agricultural consultant</td>\n",
              "      <td>d305b2b6db28f8a491bb1f10818e119a</td>\n",
              "      <td>1338061623</td>\n",
              "      <td>38.724478</td>\n",
              "      <td>-93.413349</td>\n",
              "      <td>0</td>\n",
              "      <td>72.0</td>\n",
              "    </tr>\n",
              "    <tr>\n",
              "      <th>906626</th>\n",
              "      <td>2019-12-28 13:29:54</td>\n",
              "      <td>3523843138706408</td>\n",
              "      <td>fraud_Nader-Maggio</td>\n",
              "      <td>personal_care</td>\n",
              "      <td>1.00</td>\n",
              "      <td>Grace</td>\n",
              "      <td>Williams</td>\n",
              "      <td>F</td>\n",
              "      <td>28812 Charles Mill Apt. 628</td>\n",
              "      <td>Plantersville</td>\n",
              "      <td>...</td>\n",
              "      <td>32.6176</td>\n",
              "      <td>-86.9475</td>\n",
              "      <td>1412</td>\n",
              "      <td>Drilling engineer</td>\n",
              "      <td>2d99df3e24dcaec9efababe18c9c160d</td>\n",
              "      <td>1356701394</td>\n",
              "      <td>33.522638</td>\n",
              "      <td>-86.248212</td>\n",
              "      <td>0</td>\n",
              "      <td>52.0</td>\n",
              "    </tr>\n",
              "    <tr>\n",
              "      <th>483715</th>\n",
              "      <td>2019-07-30 16:14:35</td>\n",
              "      <td>2285066385084291</td>\n",
              "      <td>fraud_Larson-Moen</td>\n",
              "      <td>entertainment</td>\n",
              "      <td>1.00</td>\n",
              "      <td>Richard</td>\n",
              "      <td>Brown</td>\n",
              "      <td>M</td>\n",
              "      <td>17819 Jose Mount Suite 657</td>\n",
              "      <td>Heidelberg</td>\n",
              "      <td>...</td>\n",
              "      <td>31.8820</td>\n",
              "      <td>-88.9981</td>\n",
              "      <td>4573</td>\n",
              "      <td>Exhibitions officer, museum/gallery</td>\n",
              "      <td>d78fe6ed57e7b370133a193a0c655335</td>\n",
              "      <td>1343664875</td>\n",
              "      <td>32.859879</td>\n",
              "      <td>-89.101711</td>\n",
              "      <td>0</td>\n",
              "      <td>35.0</td>\n",
              "    </tr>\n",
              "    <tr>\n",
              "      <th>...</th>\n",
              "      <td>...</td>\n",
              "      <td>...</td>\n",
              "      <td>...</td>\n",
              "      <td>...</td>\n",
              "      <td>...</td>\n",
              "      <td>...</td>\n",
              "      <td>...</td>\n",
              "      <td>...</td>\n",
              "      <td>...</td>\n",
              "      <td>...</td>\n",
              "      <td>...</td>\n",
              "      <td>...</td>\n",
              "      <td>...</td>\n",
              "      <td>...</td>\n",
              "      <td>...</td>\n",
              "      <td>...</td>\n",
              "      <td>...</td>\n",
              "      <td>...</td>\n",
              "      <td>...</td>\n",
              "      <td>...</td>\n",
              "      <td>...</td>\n",
              "    </tr>\n",
              "    <tr>\n",
              "      <th>352894</th>\n",
              "      <td>2019-06-14 20:15:38</td>\n",
              "      <td>5540636818935089</td>\n",
              "      <td>fraud_Hackett Group</td>\n",
              "      <td>travel</td>\n",
              "      <td>25086.94</td>\n",
              "      <td>Kenneth</td>\n",
              "      <td>Foster</td>\n",
              "      <td>M</td>\n",
              "      <td>329 Michael Extension</td>\n",
              "      <td>Lawrence</td>\n",
              "      <td>...</td>\n",
              "      <td>42.6911</td>\n",
              "      <td>-71.1605</td>\n",
              "      <td>76383</td>\n",
              "      <td>Geoscientist</td>\n",
              "      <td>0b902a1e549c98b949444a7557da2403</td>\n",
              "      <td>1339704938</td>\n",
              "      <td>42.397174</td>\n",
              "      <td>-71.474163</td>\n",
              "      <td>0</td>\n",
              "      <td>38.0</td>\n",
              "    </tr>\n",
              "    <tr>\n",
              "      <th>606211</th>\n",
              "      <td>2019-09-14 22:19:01</td>\n",
              "      <td>30408301059761</td>\n",
              "      <td>fraud_Boyer-Haley</td>\n",
              "      <td>travel</td>\n",
              "      <td>26544.12</td>\n",
              "      <td>Brandon</td>\n",
              "      <td>Pittman</td>\n",
              "      <td>M</td>\n",
              "      <td>2881 Frey Village</td>\n",
              "      <td>Cross</td>\n",
              "      <td>...</td>\n",
              "      <td>33.3364</td>\n",
              "      <td>-80.1859</td>\n",
              "      <td>4471</td>\n",
              "      <td>Occupational hygienist</td>\n",
              "      <td>dda9d800d37a9fc2c086a836d66b0588</td>\n",
              "      <td>1347661141</td>\n",
              "      <td>33.020256</td>\n",
              "      <td>-80.125607</td>\n",
              "      <td>0</td>\n",
              "      <td>49.0</td>\n",
              "    </tr>\n",
              "    <tr>\n",
              "      <th>1234797</th>\n",
              "      <td>2020-05-30 17:31:30</td>\n",
              "      <td>60423098130</td>\n",
              "      <td>fraud_Monahan, Hermann and Johns</td>\n",
              "      <td>travel</td>\n",
              "      <td>27119.77</td>\n",
              "      <td>Jason</td>\n",
              "      <td>Gray</td>\n",
              "      <td>M</td>\n",
              "      <td>875 Amy Point</td>\n",
              "      <td>Amorita</td>\n",
              "      <td>...</td>\n",
              "      <td>36.9412</td>\n",
              "      <td>-98.2458</td>\n",
              "      <td>83</td>\n",
              "      <td>Barrister's clerk</td>\n",
              "      <td>916093eeab1831be71d49362bf5b7be5</td>\n",
              "      <td>1369935090</td>\n",
              "      <td>37.286865</td>\n",
              "      <td>-97.249611</td>\n",
              "      <td>0</td>\n",
              "      <td>64.0</td>\n",
              "    </tr>\n",
              "    <tr>\n",
              "      <th>793677</th>\n",
              "      <td>2019-12-02 15:53:46</td>\n",
              "      <td>675909898057</td>\n",
              "      <td>fraud_Monahan, Hermann and Johns</td>\n",
              "      <td>travel</td>\n",
              "      <td>27390.12</td>\n",
              "      <td>Christopher</td>\n",
              "      <td>Henry</td>\n",
              "      <td>M</td>\n",
              "      <td>1198 Robert Stravenue Apt. 479</td>\n",
              "      <td>Armonk</td>\n",
              "      <td>...</td>\n",
              "      <td>41.1360</td>\n",
              "      <td>-73.7009</td>\n",
              "      <td>7987</td>\n",
              "      <td>Television/film/video producer</td>\n",
              "      <td>2ca9bd5df126cc35e541a4f2c2551197</td>\n",
              "      <td>1354463626</td>\n",
              "      <td>41.665873</td>\n",
              "      <td>-74.663015</td>\n",
              "      <td>0</td>\n",
              "      <td>59.0</td>\n",
              "    </tr>\n",
              "    <tr>\n",
              "      <th>787549</th>\n",
              "      <td>2019-12-01 16:19:23</td>\n",
              "      <td>4979422371139333</td>\n",
              "      <td>fraud_Satterfield-Lowe</td>\n",
              "      <td>travel</td>\n",
              "      <td>28948.90</td>\n",
              "      <td>Kelly</td>\n",
              "      <td>Zimmerman</td>\n",
              "      <td>F</td>\n",
              "      <td>1893 Katie Tunnel</td>\n",
              "      <td>Westerville</td>\n",
              "      <td>...</td>\n",
              "      <td>41.4193</td>\n",
              "      <td>-99.3844</td>\n",
              "      <td>73</td>\n",
              "      <td>Product designer</td>\n",
              "      <td>309c4bf7fc47b1ddee5ad883bcf634b6</td>\n",
              "      <td>1354378763</td>\n",
              "      <td>42.317313</td>\n",
              "      <td>-99.139498</td>\n",
              "      <td>0</td>\n",
              "      <td>88.0</td>\n",
              "    </tr>\n",
              "  </tbody>\n",
              "</table>\n",
              "<p>1296675 rows × 22 columns</p>\n",
              "</div>\n",
              "      <button class=\"colab-df-convert\" onclick=\"convertToInteractive('df-345ab326-f430-42c0-b473-4050df9d51f6')\"\n",
              "              title=\"Convert this dataframe to an interactive table.\"\n",
              "              style=\"display:none;\">\n",
              "        \n",
              "  <svg xmlns=\"http://www.w3.org/2000/svg\" height=\"24px\"viewBox=\"0 0 24 24\"\n",
              "       width=\"24px\">\n",
              "    <path d=\"M0 0h24v24H0V0z\" fill=\"none\"/>\n",
              "    <path d=\"M18.56 5.44l.94 2.06.94-2.06 2.06-.94-2.06-.94-.94-2.06-.94 2.06-2.06.94zm-11 1L8.5 8.5l.94-2.06 2.06-.94-2.06-.94L8.5 2.5l-.94 2.06-2.06.94zm10 10l.94 2.06.94-2.06 2.06-.94-2.06-.94-.94-2.06-.94 2.06-2.06.94z\"/><path d=\"M17.41 7.96l-1.37-1.37c-.4-.4-.92-.59-1.43-.59-.52 0-1.04.2-1.43.59L10.3 9.45l-7.72 7.72c-.78.78-.78 2.05 0 2.83L4 21.41c.39.39.9.59 1.41.59.51 0 1.02-.2 1.41-.59l7.78-7.78 2.81-2.81c.8-.78.8-2.07 0-2.86zM5.41 20L4 18.59l7.72-7.72 1.47 1.35L5.41 20z\"/>\n",
              "  </svg>\n",
              "      </button>\n",
              "      \n",
              "  <style>\n",
              "    .colab-df-container {\n",
              "      display:flex;\n",
              "      flex-wrap:wrap;\n",
              "      gap: 12px;\n",
              "    }\n",
              "\n",
              "    .colab-df-convert {\n",
              "      background-color: #E8F0FE;\n",
              "      border: none;\n",
              "      border-radius: 50%;\n",
              "      cursor: pointer;\n",
              "      display: none;\n",
              "      fill: #1967D2;\n",
              "      height: 32px;\n",
              "      padding: 0 0 0 0;\n",
              "      width: 32px;\n",
              "    }\n",
              "\n",
              "    .colab-df-convert:hover {\n",
              "      background-color: #E2EBFA;\n",
              "      box-shadow: 0px 1px 2px rgba(60, 64, 67, 0.3), 0px 1px 3px 1px rgba(60, 64, 67, 0.15);\n",
              "      fill: #174EA6;\n",
              "    }\n",
              "\n",
              "    [theme=dark] .colab-df-convert {\n",
              "      background-color: #3B4455;\n",
              "      fill: #D2E3FC;\n",
              "    }\n",
              "\n",
              "    [theme=dark] .colab-df-convert:hover {\n",
              "      background-color: #434B5C;\n",
              "      box-shadow: 0px 1px 3px 1px rgba(0, 0, 0, 0.15);\n",
              "      filter: drop-shadow(0px 1px 2px rgba(0, 0, 0, 0.3));\n",
              "      fill: #FFFFFF;\n",
              "    }\n",
              "  </style>\n",
              "\n",
              "      <script>\n",
              "        const buttonEl =\n",
              "          document.querySelector('#df-345ab326-f430-42c0-b473-4050df9d51f6 button.colab-df-convert');\n",
              "        buttonEl.style.display =\n",
              "          google.colab.kernel.accessAllowed ? 'block' : 'none';\n",
              "\n",
              "        async function convertToInteractive(key) {\n",
              "          const element = document.querySelector('#df-345ab326-f430-42c0-b473-4050df9d51f6');\n",
              "          const dataTable =\n",
              "            await google.colab.kernel.invokeFunction('convertToInteractive',\n",
              "                                                     [key], {});\n",
              "          if (!dataTable) return;\n",
              "\n",
              "          const docLinkHtml = 'Like what you see? Visit the ' +\n",
              "            '<a target=\"_blank\" href=https://colab.research.google.com/notebooks/data_table.ipynb>data table notebook</a>'\n",
              "            + ' to learn more about interactive tables.';\n",
              "          element.innerHTML = '';\n",
              "          dataTable['output_type'] = 'display_data';\n",
              "          await google.colab.output.renderOutput(dataTable, element);\n",
              "          const docLink = document.createElement('div');\n",
              "          docLink.innerHTML = docLinkHtml;\n",
              "          element.appendChild(docLink);\n",
              "        }\n",
              "      </script>\n",
              "    </div>\n",
              "  </div>\n",
              "  "
            ]
          },
          "metadata": {},
          "execution_count": 31
        },
        {
          "output_type": "stream",
          "name": "stdout",
          "text": [
            "Warning: Total number of columns (22) exceeds max_columns (20) limiting to first (20) columns.\n",
            "Warning: total number of rows (1296675) exceeds max_rows (20000). Limiting to first (20000) rows.\n"
          ]
        }
      ],
      "source": [
        "df.sort_values(by=['amt'])"
      ]
    },
    {
      "cell_type": "code",
      "execution_count": 32,
      "metadata": {
        "colab": {
          "base_uri": "https://localhost:8080/",
          "height": 183
        },
        "id": "5mGAh_orYyn6",
        "outputId": "1d2049f3-0026-41e6-e09f-5572f1923d22"
      },
      "outputs": [
        {
          "output_type": "execute_result",
          "data": {
            "text/plain": [
              "          trans_date_trans_time   cc_num  merchant  category      amt  \\\n",
              "is_fraud                                                                \n",
              "0                       1289169  1289169   1289169   1289169  1289169   \n",
              "1                          7506     7506      7506      7506     7506   \n",
              "\n",
              "            first     last   gender   street     city  ...      zip      lat  \\\n",
              "is_fraud                                               ...                     \n",
              "0         1289169  1289169  1289169  1289169  1289169  ...  1289169  1289169   \n",
              "1            7506     7506     7506     7506     7506  ...     7506     7506   \n",
              "\n",
              "             long  city_pop      job  trans_num  unix_time  merch_lat  \\\n",
              "is_fraud                                                                \n",
              "0         1289169   1289169  1289169    1289169    1289169    1289169   \n",
              "1            7506      7506     7506       7506       7506       7506   \n",
              "\n",
              "          merch_long      age  \n",
              "is_fraud                       \n",
              "0            1289169  1289169  \n",
              "1               7506     7506  \n",
              "\n",
              "[2 rows x 21 columns]"
            ],
            "text/html": [
              "\n",
              "  <div id=\"df-868c63e3-0c20-42a3-a26f-18cc939f2179\">\n",
              "    <div class=\"colab-df-container\">\n",
              "      <div>\n",
              "<style scoped>\n",
              "    .dataframe tbody tr th:only-of-type {\n",
              "        vertical-align: middle;\n",
              "    }\n",
              "\n",
              "    .dataframe tbody tr th {\n",
              "        vertical-align: top;\n",
              "    }\n",
              "\n",
              "    .dataframe thead th {\n",
              "        text-align: right;\n",
              "    }\n",
              "</style>\n",
              "<table border=\"1\" class=\"dataframe\">\n",
              "  <thead>\n",
              "    <tr style=\"text-align: right;\">\n",
              "      <th></th>\n",
              "      <th>trans_date_trans_time</th>\n",
              "      <th>cc_num</th>\n",
              "      <th>merchant</th>\n",
              "      <th>category</th>\n",
              "      <th>amt</th>\n",
              "      <th>first</th>\n",
              "      <th>last</th>\n",
              "      <th>gender</th>\n",
              "      <th>street</th>\n",
              "      <th>city</th>\n",
              "      <th>...</th>\n",
              "      <th>zip</th>\n",
              "      <th>lat</th>\n",
              "      <th>long</th>\n",
              "      <th>city_pop</th>\n",
              "      <th>job</th>\n",
              "      <th>trans_num</th>\n",
              "      <th>unix_time</th>\n",
              "      <th>merch_lat</th>\n",
              "      <th>merch_long</th>\n",
              "      <th>age</th>\n",
              "    </tr>\n",
              "    <tr>\n",
              "      <th>is_fraud</th>\n",
              "      <th></th>\n",
              "      <th></th>\n",
              "      <th></th>\n",
              "      <th></th>\n",
              "      <th></th>\n",
              "      <th></th>\n",
              "      <th></th>\n",
              "      <th></th>\n",
              "      <th></th>\n",
              "      <th></th>\n",
              "      <th></th>\n",
              "      <th></th>\n",
              "      <th></th>\n",
              "      <th></th>\n",
              "      <th></th>\n",
              "      <th></th>\n",
              "      <th></th>\n",
              "      <th></th>\n",
              "      <th></th>\n",
              "      <th></th>\n",
              "      <th></th>\n",
              "    </tr>\n",
              "  </thead>\n",
              "  <tbody>\n",
              "    <tr>\n",
              "      <th>0</th>\n",
              "      <td>1289169</td>\n",
              "      <td>1289169</td>\n",
              "      <td>1289169</td>\n",
              "      <td>1289169</td>\n",
              "      <td>1289169</td>\n",
              "      <td>1289169</td>\n",
              "      <td>1289169</td>\n",
              "      <td>1289169</td>\n",
              "      <td>1289169</td>\n",
              "      <td>1289169</td>\n",
              "      <td>...</td>\n",
              "      <td>1289169</td>\n",
              "      <td>1289169</td>\n",
              "      <td>1289169</td>\n",
              "      <td>1289169</td>\n",
              "      <td>1289169</td>\n",
              "      <td>1289169</td>\n",
              "      <td>1289169</td>\n",
              "      <td>1289169</td>\n",
              "      <td>1289169</td>\n",
              "      <td>1289169</td>\n",
              "    </tr>\n",
              "    <tr>\n",
              "      <th>1</th>\n",
              "      <td>7506</td>\n",
              "      <td>7506</td>\n",
              "      <td>7506</td>\n",
              "      <td>7506</td>\n",
              "      <td>7506</td>\n",
              "      <td>7506</td>\n",
              "      <td>7506</td>\n",
              "      <td>7506</td>\n",
              "      <td>7506</td>\n",
              "      <td>7506</td>\n",
              "      <td>...</td>\n",
              "      <td>7506</td>\n",
              "      <td>7506</td>\n",
              "      <td>7506</td>\n",
              "      <td>7506</td>\n",
              "      <td>7506</td>\n",
              "      <td>7506</td>\n",
              "      <td>7506</td>\n",
              "      <td>7506</td>\n",
              "      <td>7506</td>\n",
              "      <td>7506</td>\n",
              "    </tr>\n",
              "  </tbody>\n",
              "</table>\n",
              "<p>2 rows × 21 columns</p>\n",
              "</div>\n",
              "      <button class=\"colab-df-convert\" onclick=\"convertToInteractive('df-868c63e3-0c20-42a3-a26f-18cc939f2179')\"\n",
              "              title=\"Convert this dataframe to an interactive table.\"\n",
              "              style=\"display:none;\">\n",
              "        \n",
              "  <svg xmlns=\"http://www.w3.org/2000/svg\" height=\"24px\"viewBox=\"0 0 24 24\"\n",
              "       width=\"24px\">\n",
              "    <path d=\"M0 0h24v24H0V0z\" fill=\"none\"/>\n",
              "    <path d=\"M18.56 5.44l.94 2.06.94-2.06 2.06-.94-2.06-.94-.94-2.06-.94 2.06-2.06.94zm-11 1L8.5 8.5l.94-2.06 2.06-.94-2.06-.94L8.5 2.5l-.94 2.06-2.06.94zm10 10l.94 2.06.94-2.06 2.06-.94-2.06-.94-.94-2.06-.94 2.06-2.06.94z\"/><path d=\"M17.41 7.96l-1.37-1.37c-.4-.4-.92-.59-1.43-.59-.52 0-1.04.2-1.43.59L10.3 9.45l-7.72 7.72c-.78.78-.78 2.05 0 2.83L4 21.41c.39.39.9.59 1.41.59.51 0 1.02-.2 1.41-.59l7.78-7.78 2.81-2.81c.8-.78.8-2.07 0-2.86zM5.41 20L4 18.59l7.72-7.72 1.47 1.35L5.41 20z\"/>\n",
              "  </svg>\n",
              "      </button>\n",
              "      \n",
              "  <style>\n",
              "    .colab-df-container {\n",
              "      display:flex;\n",
              "      flex-wrap:wrap;\n",
              "      gap: 12px;\n",
              "    }\n",
              "\n",
              "    .colab-df-convert {\n",
              "      background-color: #E8F0FE;\n",
              "      border: none;\n",
              "      border-radius: 50%;\n",
              "      cursor: pointer;\n",
              "      display: none;\n",
              "      fill: #1967D2;\n",
              "      height: 32px;\n",
              "      padding: 0 0 0 0;\n",
              "      width: 32px;\n",
              "    }\n",
              "\n",
              "    .colab-df-convert:hover {\n",
              "      background-color: #E2EBFA;\n",
              "      box-shadow: 0px 1px 2px rgba(60, 64, 67, 0.3), 0px 1px 3px 1px rgba(60, 64, 67, 0.15);\n",
              "      fill: #174EA6;\n",
              "    }\n",
              "\n",
              "    [theme=dark] .colab-df-convert {\n",
              "      background-color: #3B4455;\n",
              "      fill: #D2E3FC;\n",
              "    }\n",
              "\n",
              "    [theme=dark] .colab-df-convert:hover {\n",
              "      background-color: #434B5C;\n",
              "      box-shadow: 0px 1px 3px 1px rgba(0, 0, 0, 0.15);\n",
              "      filter: drop-shadow(0px 1px 2px rgba(0, 0, 0, 0.3));\n",
              "      fill: #FFFFFF;\n",
              "    }\n",
              "  </style>\n",
              "\n",
              "      <script>\n",
              "        const buttonEl =\n",
              "          document.querySelector('#df-868c63e3-0c20-42a3-a26f-18cc939f2179 button.colab-df-convert');\n",
              "        buttonEl.style.display =\n",
              "          google.colab.kernel.accessAllowed ? 'block' : 'none';\n",
              "\n",
              "        async function convertToInteractive(key) {\n",
              "          const element = document.querySelector('#df-868c63e3-0c20-42a3-a26f-18cc939f2179');\n",
              "          const dataTable =\n",
              "            await google.colab.kernel.invokeFunction('convertToInteractive',\n",
              "                                                     [key], {});\n",
              "          if (!dataTable) return;\n",
              "\n",
              "          const docLinkHtml = 'Like what you see? Visit the ' +\n",
              "            '<a target=\"_blank\" href=https://colab.research.google.com/notebooks/data_table.ipynb>data table notebook</a>'\n",
              "            + ' to learn more about interactive tables.';\n",
              "          element.innerHTML = '';\n",
              "          dataTable['output_type'] = 'display_data';\n",
              "          await google.colab.output.renderOutput(dataTable, element);\n",
              "          const docLink = document.createElement('div');\n",
              "          docLink.innerHTML = docLinkHtml;\n",
              "          element.appendChild(docLink);\n",
              "        }\n",
              "      </script>\n",
              "    </div>\n",
              "  </div>\n",
              "  "
            ]
          },
          "metadata": {},
          "execution_count": 32
        },
        {
          "output_type": "stream",
          "name": "stdout",
          "text": [
            "Warning: Total number of columns (21) exceeds max_columns (20) limiting to first (20) columns.\n"
          ]
        }
      ],
      "source": [
        "df.groupby('is_fraud').count()"
      ]
    },
    {
      "cell_type": "code",
      "execution_count": 33,
      "metadata": {
        "colab": {
          "base_uri": "https://localhost:8080/",
          "height": 143
        },
        "id": "VP7IsLwXY2NE",
        "outputId": "5e4d5512-c76c-4ddf-c22b-4a7a936b3922"
      },
      "outputs": [
        {
          "output_type": "execute_result",
          "data": {
            "text/plain": [
              "                cc_num         amt           zip        lat       long  \\\n",
              "is_fraud                                                                 \n",
              "0         4.172901e+17   67.667110  48805.107481  38.536888 -90.228142   \n",
              "1         4.003577e+17  531.320092  48038.714229  38.663609 -89.916041   \n",
              "\n",
              "              city_pop     unix_time  merch_lat  merch_long        age  \n",
              "is_fraud                                                                \n",
              "0         88775.228137  1.349249e+09  38.536659  -90.228274  49.042680  \n",
              "1         97276.763256  1.348389e+09  38.653901  -89.915808  51.896882  "
            ],
            "text/html": [
              "\n",
              "  <div id=\"df-72080982-731b-4df2-97a3-91c500d346a0\">\n",
              "    <div class=\"colab-df-container\">\n",
              "      <div>\n",
              "<style scoped>\n",
              "    .dataframe tbody tr th:only-of-type {\n",
              "        vertical-align: middle;\n",
              "    }\n",
              "\n",
              "    .dataframe tbody tr th {\n",
              "        vertical-align: top;\n",
              "    }\n",
              "\n",
              "    .dataframe thead th {\n",
              "        text-align: right;\n",
              "    }\n",
              "</style>\n",
              "<table border=\"1\" class=\"dataframe\">\n",
              "  <thead>\n",
              "    <tr style=\"text-align: right;\">\n",
              "      <th></th>\n",
              "      <th>cc_num</th>\n",
              "      <th>amt</th>\n",
              "      <th>zip</th>\n",
              "      <th>lat</th>\n",
              "      <th>long</th>\n",
              "      <th>city_pop</th>\n",
              "      <th>unix_time</th>\n",
              "      <th>merch_lat</th>\n",
              "      <th>merch_long</th>\n",
              "      <th>age</th>\n",
              "    </tr>\n",
              "    <tr>\n",
              "      <th>is_fraud</th>\n",
              "      <th></th>\n",
              "      <th></th>\n",
              "      <th></th>\n",
              "      <th></th>\n",
              "      <th></th>\n",
              "      <th></th>\n",
              "      <th></th>\n",
              "      <th></th>\n",
              "      <th></th>\n",
              "      <th></th>\n",
              "    </tr>\n",
              "  </thead>\n",
              "  <tbody>\n",
              "    <tr>\n",
              "      <th>0</th>\n",
              "      <td>4.172901e+17</td>\n",
              "      <td>67.667110</td>\n",
              "      <td>48805.107481</td>\n",
              "      <td>38.536888</td>\n",
              "      <td>-90.228142</td>\n",
              "      <td>88775.228137</td>\n",
              "      <td>1.349249e+09</td>\n",
              "      <td>38.536659</td>\n",
              "      <td>-90.228274</td>\n",
              "      <td>49.042680</td>\n",
              "    </tr>\n",
              "    <tr>\n",
              "      <th>1</th>\n",
              "      <td>4.003577e+17</td>\n",
              "      <td>531.320092</td>\n",
              "      <td>48038.714229</td>\n",
              "      <td>38.663609</td>\n",
              "      <td>-89.916041</td>\n",
              "      <td>97276.763256</td>\n",
              "      <td>1.348389e+09</td>\n",
              "      <td>38.653901</td>\n",
              "      <td>-89.915808</td>\n",
              "      <td>51.896882</td>\n",
              "    </tr>\n",
              "  </tbody>\n",
              "</table>\n",
              "</div>\n",
              "      <button class=\"colab-df-convert\" onclick=\"convertToInteractive('df-72080982-731b-4df2-97a3-91c500d346a0')\"\n",
              "              title=\"Convert this dataframe to an interactive table.\"\n",
              "              style=\"display:none;\">\n",
              "        \n",
              "  <svg xmlns=\"http://www.w3.org/2000/svg\" height=\"24px\"viewBox=\"0 0 24 24\"\n",
              "       width=\"24px\">\n",
              "    <path d=\"M0 0h24v24H0V0z\" fill=\"none\"/>\n",
              "    <path d=\"M18.56 5.44l.94 2.06.94-2.06 2.06-.94-2.06-.94-.94-2.06-.94 2.06-2.06.94zm-11 1L8.5 8.5l.94-2.06 2.06-.94-2.06-.94L8.5 2.5l-.94 2.06-2.06.94zm10 10l.94 2.06.94-2.06 2.06-.94-2.06-.94-.94-2.06-.94 2.06-2.06.94z\"/><path d=\"M17.41 7.96l-1.37-1.37c-.4-.4-.92-.59-1.43-.59-.52 0-1.04.2-1.43.59L10.3 9.45l-7.72 7.72c-.78.78-.78 2.05 0 2.83L4 21.41c.39.39.9.59 1.41.59.51 0 1.02-.2 1.41-.59l7.78-7.78 2.81-2.81c.8-.78.8-2.07 0-2.86zM5.41 20L4 18.59l7.72-7.72 1.47 1.35L5.41 20z\"/>\n",
              "  </svg>\n",
              "      </button>\n",
              "      \n",
              "  <style>\n",
              "    .colab-df-container {\n",
              "      display:flex;\n",
              "      flex-wrap:wrap;\n",
              "      gap: 12px;\n",
              "    }\n",
              "\n",
              "    .colab-df-convert {\n",
              "      background-color: #E8F0FE;\n",
              "      border: none;\n",
              "      border-radius: 50%;\n",
              "      cursor: pointer;\n",
              "      display: none;\n",
              "      fill: #1967D2;\n",
              "      height: 32px;\n",
              "      padding: 0 0 0 0;\n",
              "      width: 32px;\n",
              "    }\n",
              "\n",
              "    .colab-df-convert:hover {\n",
              "      background-color: #E2EBFA;\n",
              "      box-shadow: 0px 1px 2px rgba(60, 64, 67, 0.3), 0px 1px 3px 1px rgba(60, 64, 67, 0.15);\n",
              "      fill: #174EA6;\n",
              "    }\n",
              "\n",
              "    [theme=dark] .colab-df-convert {\n",
              "      background-color: #3B4455;\n",
              "      fill: #D2E3FC;\n",
              "    }\n",
              "\n",
              "    [theme=dark] .colab-df-convert:hover {\n",
              "      background-color: #434B5C;\n",
              "      box-shadow: 0px 1px 3px 1px rgba(0, 0, 0, 0.15);\n",
              "      filter: drop-shadow(0px 1px 2px rgba(0, 0, 0, 0.3));\n",
              "      fill: #FFFFFF;\n",
              "    }\n",
              "  </style>\n",
              "\n",
              "      <script>\n",
              "        const buttonEl =\n",
              "          document.querySelector('#df-72080982-731b-4df2-97a3-91c500d346a0 button.colab-df-convert');\n",
              "        buttonEl.style.display =\n",
              "          google.colab.kernel.accessAllowed ? 'block' : 'none';\n",
              "\n",
              "        async function convertToInteractive(key) {\n",
              "          const element = document.querySelector('#df-72080982-731b-4df2-97a3-91c500d346a0');\n",
              "          const dataTable =\n",
              "            await google.colab.kernel.invokeFunction('convertToInteractive',\n",
              "                                                     [key], {});\n",
              "          if (!dataTable) return;\n",
              "\n",
              "          const docLinkHtml = 'Like what you see? Visit the ' +\n",
              "            '<a target=\"_blank\" href=https://colab.research.google.com/notebooks/data_table.ipynb>data table notebook</a>'\n",
              "            + ' to learn more about interactive tables.';\n",
              "          element.innerHTML = '';\n",
              "          dataTable['output_type'] = 'display_data';\n",
              "          await google.colab.output.renderOutput(dataTable, element);\n",
              "          const docLink = document.createElement('div');\n",
              "          docLink.innerHTML = docLinkHtml;\n",
              "          element.appendChild(docLink);\n",
              "        }\n",
              "      </script>\n",
              "    </div>\n",
              "  </div>\n",
              "  "
            ]
          },
          "metadata": {},
          "execution_count": 33
        }
      ],
      "source": [
        "df.groupby(['is_fraud']).mean()"
      ]
    },
    {
      "cell_type": "code",
      "execution_count": 34,
      "metadata": {
        "colab": {
          "base_uri": "https://localhost:8080/",
          "height": 358
        },
        "id": "sylR5UuBY85z",
        "outputId": "7775954e-8bc9-4895-e4f8-ccde4f3684f7"
      },
      "outputs": [
        {
          "output_type": "execute_result",
          "data": {
            "text/plain": [
              "        trans_date_trans_time            cc_num  \\\n",
              "787549    2019-12-01 16:19:23  4979422371139333   \n",
              "793677    2019-12-02 15:53:46      675909898057   \n",
              "1234797   2020-05-30 17:31:30       60423098130   \n",
              "606211    2019-09-14 22:19:01    30408301059761   \n",
              "\n",
              "                                 merchant category       amt        first  \\\n",
              "787549             fraud_Satterfield-Lowe   travel  28948.90        Kelly   \n",
              "793677   fraud_Monahan, Hermann and Johns   travel  27390.12  Christopher   \n",
              "1234797  fraud_Monahan, Hermann and Johns   travel  27119.77        Jason   \n",
              "606211                  fraud_Boyer-Haley   travel  26544.12      Brandon   \n",
              "\n",
              "              last gender                          street         city  ...  \\\n",
              "787549   Zimmerman      F               1893 Katie Tunnel  Westerville  ...   \n",
              "793677       Henry      M  1198 Robert Stravenue Apt. 479       Armonk  ...   \n",
              "1234797       Gray      M                   875 Amy Point      Amorita  ...   \n",
              "606211     Pittman      M               2881 Frey Village        Cross  ...   \n",
              "\n",
              "             lat     long  city_pop                             job  \\\n",
              "787549   41.4193 -99.3844        73                Product designer   \n",
              "793677   41.1360 -73.7009      7987  Television/film/video producer   \n",
              "1234797  36.9412 -98.2458        83               Barrister's clerk   \n",
              "606211   33.3364 -80.1859      4471          Occupational hygienist   \n",
              "\n",
              "                                trans_num   unix_time  merch_lat  merch_long  \\\n",
              "787549   309c4bf7fc47b1ddee5ad883bcf634b6  1354378763  42.317313  -99.139498   \n",
              "793677   2ca9bd5df126cc35e541a4f2c2551197  1354463626  41.665873  -74.663015   \n",
              "1234797  916093eeab1831be71d49362bf5b7be5  1369935090  37.286865  -97.249611   \n",
              "606211   dda9d800d37a9fc2c086a836d66b0588  1347661141  33.020256  -80.125607   \n",
              "\n",
              "         is_fraud   age  \n",
              "787549          0  88.0  \n",
              "793677          0  59.0  \n",
              "1234797         0  64.0  \n",
              "606211          0  49.0  \n",
              "\n",
              "[4 rows x 22 columns]"
            ],
            "text/html": [
              "\n",
              "  <div id=\"df-51a4d8b3-761f-4bad-8217-1413221ef319\">\n",
              "    <div class=\"colab-df-container\">\n",
              "      <div>\n",
              "<style scoped>\n",
              "    .dataframe tbody tr th:only-of-type {\n",
              "        vertical-align: middle;\n",
              "    }\n",
              "\n",
              "    .dataframe tbody tr th {\n",
              "        vertical-align: top;\n",
              "    }\n",
              "\n",
              "    .dataframe thead th {\n",
              "        text-align: right;\n",
              "    }\n",
              "</style>\n",
              "<table border=\"1\" class=\"dataframe\">\n",
              "  <thead>\n",
              "    <tr style=\"text-align: right;\">\n",
              "      <th></th>\n",
              "      <th>trans_date_trans_time</th>\n",
              "      <th>cc_num</th>\n",
              "      <th>merchant</th>\n",
              "      <th>category</th>\n",
              "      <th>amt</th>\n",
              "      <th>first</th>\n",
              "      <th>last</th>\n",
              "      <th>gender</th>\n",
              "      <th>street</th>\n",
              "      <th>city</th>\n",
              "      <th>...</th>\n",
              "      <th>lat</th>\n",
              "      <th>long</th>\n",
              "      <th>city_pop</th>\n",
              "      <th>job</th>\n",
              "      <th>trans_num</th>\n",
              "      <th>unix_time</th>\n",
              "      <th>merch_lat</th>\n",
              "      <th>merch_long</th>\n",
              "      <th>is_fraud</th>\n",
              "      <th>age</th>\n",
              "    </tr>\n",
              "  </thead>\n",
              "  <tbody>\n",
              "    <tr>\n",
              "      <th>787549</th>\n",
              "      <td>2019-12-01 16:19:23</td>\n",
              "      <td>4979422371139333</td>\n",
              "      <td>fraud_Satterfield-Lowe</td>\n",
              "      <td>travel</td>\n",
              "      <td>28948.90</td>\n",
              "      <td>Kelly</td>\n",
              "      <td>Zimmerman</td>\n",
              "      <td>F</td>\n",
              "      <td>1893 Katie Tunnel</td>\n",
              "      <td>Westerville</td>\n",
              "      <td>...</td>\n",
              "      <td>41.4193</td>\n",
              "      <td>-99.3844</td>\n",
              "      <td>73</td>\n",
              "      <td>Product designer</td>\n",
              "      <td>309c4bf7fc47b1ddee5ad883bcf634b6</td>\n",
              "      <td>1354378763</td>\n",
              "      <td>42.317313</td>\n",
              "      <td>-99.139498</td>\n",
              "      <td>0</td>\n",
              "      <td>88.0</td>\n",
              "    </tr>\n",
              "    <tr>\n",
              "      <th>793677</th>\n",
              "      <td>2019-12-02 15:53:46</td>\n",
              "      <td>675909898057</td>\n",
              "      <td>fraud_Monahan, Hermann and Johns</td>\n",
              "      <td>travel</td>\n",
              "      <td>27390.12</td>\n",
              "      <td>Christopher</td>\n",
              "      <td>Henry</td>\n",
              "      <td>M</td>\n",
              "      <td>1198 Robert Stravenue Apt. 479</td>\n",
              "      <td>Armonk</td>\n",
              "      <td>...</td>\n",
              "      <td>41.1360</td>\n",
              "      <td>-73.7009</td>\n",
              "      <td>7987</td>\n",
              "      <td>Television/film/video producer</td>\n",
              "      <td>2ca9bd5df126cc35e541a4f2c2551197</td>\n",
              "      <td>1354463626</td>\n",
              "      <td>41.665873</td>\n",
              "      <td>-74.663015</td>\n",
              "      <td>0</td>\n",
              "      <td>59.0</td>\n",
              "    </tr>\n",
              "    <tr>\n",
              "      <th>1234797</th>\n",
              "      <td>2020-05-30 17:31:30</td>\n",
              "      <td>60423098130</td>\n",
              "      <td>fraud_Monahan, Hermann and Johns</td>\n",
              "      <td>travel</td>\n",
              "      <td>27119.77</td>\n",
              "      <td>Jason</td>\n",
              "      <td>Gray</td>\n",
              "      <td>M</td>\n",
              "      <td>875 Amy Point</td>\n",
              "      <td>Amorita</td>\n",
              "      <td>...</td>\n",
              "      <td>36.9412</td>\n",
              "      <td>-98.2458</td>\n",
              "      <td>83</td>\n",
              "      <td>Barrister's clerk</td>\n",
              "      <td>916093eeab1831be71d49362bf5b7be5</td>\n",
              "      <td>1369935090</td>\n",
              "      <td>37.286865</td>\n",
              "      <td>-97.249611</td>\n",
              "      <td>0</td>\n",
              "      <td>64.0</td>\n",
              "    </tr>\n",
              "    <tr>\n",
              "      <th>606211</th>\n",
              "      <td>2019-09-14 22:19:01</td>\n",
              "      <td>30408301059761</td>\n",
              "      <td>fraud_Boyer-Haley</td>\n",
              "      <td>travel</td>\n",
              "      <td>26544.12</td>\n",
              "      <td>Brandon</td>\n",
              "      <td>Pittman</td>\n",
              "      <td>M</td>\n",
              "      <td>2881 Frey Village</td>\n",
              "      <td>Cross</td>\n",
              "      <td>...</td>\n",
              "      <td>33.3364</td>\n",
              "      <td>-80.1859</td>\n",
              "      <td>4471</td>\n",
              "      <td>Occupational hygienist</td>\n",
              "      <td>dda9d800d37a9fc2c086a836d66b0588</td>\n",
              "      <td>1347661141</td>\n",
              "      <td>33.020256</td>\n",
              "      <td>-80.125607</td>\n",
              "      <td>0</td>\n",
              "      <td>49.0</td>\n",
              "    </tr>\n",
              "  </tbody>\n",
              "</table>\n",
              "<p>4 rows × 22 columns</p>\n",
              "</div>\n",
              "      <button class=\"colab-df-convert\" onclick=\"convertToInteractive('df-51a4d8b3-761f-4bad-8217-1413221ef319')\"\n",
              "              title=\"Convert this dataframe to an interactive table.\"\n",
              "              style=\"display:none;\">\n",
              "        \n",
              "  <svg xmlns=\"http://www.w3.org/2000/svg\" height=\"24px\"viewBox=\"0 0 24 24\"\n",
              "       width=\"24px\">\n",
              "    <path d=\"M0 0h24v24H0V0z\" fill=\"none\"/>\n",
              "    <path d=\"M18.56 5.44l.94 2.06.94-2.06 2.06-.94-2.06-.94-.94-2.06-.94 2.06-2.06.94zm-11 1L8.5 8.5l.94-2.06 2.06-.94-2.06-.94L8.5 2.5l-.94 2.06-2.06.94zm10 10l.94 2.06.94-2.06 2.06-.94-2.06-.94-.94-2.06-.94 2.06-2.06.94z\"/><path d=\"M17.41 7.96l-1.37-1.37c-.4-.4-.92-.59-1.43-.59-.52 0-1.04.2-1.43.59L10.3 9.45l-7.72 7.72c-.78.78-.78 2.05 0 2.83L4 21.41c.39.39.9.59 1.41.59.51 0 1.02-.2 1.41-.59l7.78-7.78 2.81-2.81c.8-.78.8-2.07 0-2.86zM5.41 20L4 18.59l7.72-7.72 1.47 1.35L5.41 20z\"/>\n",
              "  </svg>\n",
              "      </button>\n",
              "      \n",
              "  <style>\n",
              "    .colab-df-container {\n",
              "      display:flex;\n",
              "      flex-wrap:wrap;\n",
              "      gap: 12px;\n",
              "    }\n",
              "\n",
              "    .colab-df-convert {\n",
              "      background-color: #E8F0FE;\n",
              "      border: none;\n",
              "      border-radius: 50%;\n",
              "      cursor: pointer;\n",
              "      display: none;\n",
              "      fill: #1967D2;\n",
              "      height: 32px;\n",
              "      padding: 0 0 0 0;\n",
              "      width: 32px;\n",
              "    }\n",
              "\n",
              "    .colab-df-convert:hover {\n",
              "      background-color: #E2EBFA;\n",
              "      box-shadow: 0px 1px 2px rgba(60, 64, 67, 0.3), 0px 1px 3px 1px rgba(60, 64, 67, 0.15);\n",
              "      fill: #174EA6;\n",
              "    }\n",
              "\n",
              "    [theme=dark] .colab-df-convert {\n",
              "      background-color: #3B4455;\n",
              "      fill: #D2E3FC;\n",
              "    }\n",
              "\n",
              "    [theme=dark] .colab-df-convert:hover {\n",
              "      background-color: #434B5C;\n",
              "      box-shadow: 0px 1px 3px 1px rgba(0, 0, 0, 0.15);\n",
              "      filter: drop-shadow(0px 1px 2px rgba(0, 0, 0, 0.3));\n",
              "      fill: #FFFFFF;\n",
              "    }\n",
              "  </style>\n",
              "\n",
              "      <script>\n",
              "        const buttonEl =\n",
              "          document.querySelector('#df-51a4d8b3-761f-4bad-8217-1413221ef319 button.colab-df-convert');\n",
              "        buttonEl.style.display =\n",
              "          google.colab.kernel.accessAllowed ? 'block' : 'none';\n",
              "\n",
              "        async function convertToInteractive(key) {\n",
              "          const element = document.querySelector('#df-51a4d8b3-761f-4bad-8217-1413221ef319');\n",
              "          const dataTable =\n",
              "            await google.colab.kernel.invokeFunction('convertToInteractive',\n",
              "                                                     [key], {});\n",
              "          if (!dataTable) return;\n",
              "\n",
              "          const docLinkHtml = 'Like what you see? Visit the ' +\n",
              "            '<a target=\"_blank\" href=https://colab.research.google.com/notebooks/data_table.ipynb>data table notebook</a>'\n",
              "            + ' to learn more about interactive tables.';\n",
              "          element.innerHTML = '';\n",
              "          dataTable['output_type'] = 'display_data';\n",
              "          await google.colab.output.renderOutput(dataTable, element);\n",
              "          const docLink = document.createElement('div');\n",
              "          docLink.innerHTML = docLinkHtml;\n",
              "          element.appendChild(docLink);\n",
              "        }\n",
              "      </script>\n",
              "    </div>\n",
              "  </div>\n",
              "  "
            ]
          },
          "metadata": {},
          "execution_count": 34
        },
        {
          "output_type": "stream",
          "name": "stdout",
          "text": [
            "Warning: Total number of columns (22) exceeds max_columns (20) limiting to first (20) columns.\n"
          ]
        }
      ],
      "source": [
        "df.nlargest(4,'amt')"
      ]
    },
    {
      "cell_type": "code",
      "execution_count": 35,
      "metadata": {
        "id": "aF6ON9GeZLQp"
      },
      "outputs": [],
      "source": [
        "df_copy=df.iloc[:,[4,-2]]"
      ]
    },
    {
      "cell_type": "code",
      "execution_count": 36,
      "metadata": {
        "colab": {
          "base_uri": "https://localhost:8080/",
          "height": 672
        },
        "id": "zIfzvmLnZYPN",
        "outputId": "6c53fdd0-0d1d-4494-92f9-d65f608e61eb"
      },
      "outputs": [
        {
          "output_type": "execute_result",
          "data": {
            "text/plain": [
              "         is_fraud Attribute   value\n",
              "0               0       amt    4.97\n",
              "1               0       amt  107.23\n",
              "2               0       amt  220.11\n",
              "3               0       amt   45.00\n",
              "4               0       amt   41.96\n",
              "...           ...       ...     ...\n",
              "1296670         0       amt   15.56\n",
              "1296671         0       amt   51.70\n",
              "1296672         0       amt  105.93\n",
              "1296673         0       amt   74.90\n",
              "1296674         0       amt    4.30\n",
              "\n",
              "[1296675 rows x 3 columns]"
            ],
            "text/html": [
              "\n",
              "  <div id=\"df-28ec7763-ce48-409d-8cf9-5b37654f6afe\">\n",
              "    <div class=\"colab-df-container\">\n",
              "      <div>\n",
              "<style scoped>\n",
              "    .dataframe tbody tr th:only-of-type {\n",
              "        vertical-align: middle;\n",
              "    }\n",
              "\n",
              "    .dataframe tbody tr th {\n",
              "        vertical-align: top;\n",
              "    }\n",
              "\n",
              "    .dataframe thead th {\n",
              "        text-align: right;\n",
              "    }\n",
              "</style>\n",
              "<table border=\"1\" class=\"dataframe\">\n",
              "  <thead>\n",
              "    <tr style=\"text-align: right;\">\n",
              "      <th></th>\n",
              "      <th>is_fraud</th>\n",
              "      <th>Attribute</th>\n",
              "      <th>value</th>\n",
              "    </tr>\n",
              "  </thead>\n",
              "  <tbody>\n",
              "    <tr>\n",
              "      <th>0</th>\n",
              "      <td>0</td>\n",
              "      <td>amt</td>\n",
              "      <td>4.97</td>\n",
              "    </tr>\n",
              "    <tr>\n",
              "      <th>1</th>\n",
              "      <td>0</td>\n",
              "      <td>amt</td>\n",
              "      <td>107.23</td>\n",
              "    </tr>\n",
              "    <tr>\n",
              "      <th>2</th>\n",
              "      <td>0</td>\n",
              "      <td>amt</td>\n",
              "      <td>220.11</td>\n",
              "    </tr>\n",
              "    <tr>\n",
              "      <th>3</th>\n",
              "      <td>0</td>\n",
              "      <td>amt</td>\n",
              "      <td>45.00</td>\n",
              "    </tr>\n",
              "    <tr>\n",
              "      <th>4</th>\n",
              "      <td>0</td>\n",
              "      <td>amt</td>\n",
              "      <td>41.96</td>\n",
              "    </tr>\n",
              "    <tr>\n",
              "      <th>...</th>\n",
              "      <td>...</td>\n",
              "      <td>...</td>\n",
              "      <td>...</td>\n",
              "    </tr>\n",
              "    <tr>\n",
              "      <th>1296670</th>\n",
              "      <td>0</td>\n",
              "      <td>amt</td>\n",
              "      <td>15.56</td>\n",
              "    </tr>\n",
              "    <tr>\n",
              "      <th>1296671</th>\n",
              "      <td>0</td>\n",
              "      <td>amt</td>\n",
              "      <td>51.70</td>\n",
              "    </tr>\n",
              "    <tr>\n",
              "      <th>1296672</th>\n",
              "      <td>0</td>\n",
              "      <td>amt</td>\n",
              "      <td>105.93</td>\n",
              "    </tr>\n",
              "    <tr>\n",
              "      <th>1296673</th>\n",
              "      <td>0</td>\n",
              "      <td>amt</td>\n",
              "      <td>74.90</td>\n",
              "    </tr>\n",
              "    <tr>\n",
              "      <th>1296674</th>\n",
              "      <td>0</td>\n",
              "      <td>amt</td>\n",
              "      <td>4.30</td>\n",
              "    </tr>\n",
              "  </tbody>\n",
              "</table>\n",
              "<p>1296675 rows × 3 columns</p>\n",
              "</div>\n",
              "      <button class=\"colab-df-convert\" onclick=\"convertToInteractive('df-28ec7763-ce48-409d-8cf9-5b37654f6afe')\"\n",
              "              title=\"Convert this dataframe to an interactive table.\"\n",
              "              style=\"display:none;\">\n",
              "        \n",
              "  <svg xmlns=\"http://www.w3.org/2000/svg\" height=\"24px\"viewBox=\"0 0 24 24\"\n",
              "       width=\"24px\">\n",
              "    <path d=\"M0 0h24v24H0V0z\" fill=\"none\"/>\n",
              "    <path d=\"M18.56 5.44l.94 2.06.94-2.06 2.06-.94-2.06-.94-.94-2.06-.94 2.06-2.06.94zm-11 1L8.5 8.5l.94-2.06 2.06-.94-2.06-.94L8.5 2.5l-.94 2.06-2.06.94zm10 10l.94 2.06.94-2.06 2.06-.94-2.06-.94-.94-2.06-.94 2.06-2.06.94z\"/><path d=\"M17.41 7.96l-1.37-1.37c-.4-.4-.92-.59-1.43-.59-.52 0-1.04.2-1.43.59L10.3 9.45l-7.72 7.72c-.78.78-.78 2.05 0 2.83L4 21.41c.39.39.9.59 1.41.59.51 0 1.02-.2 1.41-.59l7.78-7.78 2.81-2.81c.8-.78.8-2.07 0-2.86zM5.41 20L4 18.59l7.72-7.72 1.47 1.35L5.41 20z\"/>\n",
              "  </svg>\n",
              "      </button>\n",
              "      \n",
              "  <style>\n",
              "    .colab-df-container {\n",
              "      display:flex;\n",
              "      flex-wrap:wrap;\n",
              "      gap: 12px;\n",
              "    }\n",
              "\n",
              "    .colab-df-convert {\n",
              "      background-color: #E8F0FE;\n",
              "      border: none;\n",
              "      border-radius: 50%;\n",
              "      cursor: pointer;\n",
              "      display: none;\n",
              "      fill: #1967D2;\n",
              "      height: 32px;\n",
              "      padding: 0 0 0 0;\n",
              "      width: 32px;\n",
              "    }\n",
              "\n",
              "    .colab-df-convert:hover {\n",
              "      background-color: #E2EBFA;\n",
              "      box-shadow: 0px 1px 2px rgba(60, 64, 67, 0.3), 0px 1px 3px 1px rgba(60, 64, 67, 0.15);\n",
              "      fill: #174EA6;\n",
              "    }\n",
              "\n",
              "    [theme=dark] .colab-df-convert {\n",
              "      background-color: #3B4455;\n",
              "      fill: #D2E3FC;\n",
              "    }\n",
              "\n",
              "    [theme=dark] .colab-df-convert:hover {\n",
              "      background-color: #434B5C;\n",
              "      box-shadow: 0px 1px 3px 1px rgba(0, 0, 0, 0.15);\n",
              "      filter: drop-shadow(0px 1px 2px rgba(0, 0, 0, 0.3));\n",
              "      fill: #FFFFFF;\n",
              "    }\n",
              "  </style>\n",
              "\n",
              "      <script>\n",
              "        const buttonEl =\n",
              "          document.querySelector('#df-28ec7763-ce48-409d-8cf9-5b37654f6afe button.colab-df-convert');\n",
              "        buttonEl.style.display =\n",
              "          google.colab.kernel.accessAllowed ? 'block' : 'none';\n",
              "\n",
              "        async function convertToInteractive(key) {\n",
              "          const element = document.querySelector('#df-28ec7763-ce48-409d-8cf9-5b37654f6afe');\n",
              "          const dataTable =\n",
              "            await google.colab.kernel.invokeFunction('convertToInteractive',\n",
              "                                                     [key], {});\n",
              "          if (!dataTable) return;\n",
              "\n",
              "          const docLinkHtml = 'Like what you see? Visit the ' +\n",
              "            '<a target=\"_blank\" href=https://colab.research.google.com/notebooks/data_table.ipynb>data table notebook</a>'\n",
              "            + ' to learn more about interactive tables.';\n",
              "          element.innerHTML = '';\n",
              "          dataTable['output_type'] = 'display_data';\n",
              "          await google.colab.output.renderOutput(dataTable, element);\n",
              "          const docLink = document.createElement('div');\n",
              "          docLink.innerHTML = docLinkHtml;\n",
              "          element.appendChild(docLink);\n",
              "        }\n",
              "      </script>\n",
              "    </div>\n",
              "  </div>\n",
              "  "
            ]
          },
          "metadata": {},
          "execution_count": 36
        },
        {
          "output_type": "stream",
          "name": "stdout",
          "text": [
            "Warning: total number of rows (1296675) exceeds max_rows (20000). Limiting to first (20000) rows.\n"
          ]
        }
      ],
      "source": [
        "melted=pd.melt(df_copy,id_vars=['is_fraud'],var_name='Attribute')\n",
        "melted"
      ]
    },
    {
      "cell_type": "code",
      "execution_count": 37,
      "metadata": {
        "colab": {
          "base_uri": "https://localhost:8080/",
          "height": 655
        },
        "id": "9-1NpFjUZdGJ",
        "outputId": "7d813aac-860a-4385-d115-c4c72bf06582"
      },
      "outputs": [
        {
          "output_type": "execute_result",
          "data": {
            "text/plain": [
              "         is_fraud Attribute    value\n",
              "2449            1       amt   281.06\n",
              "2472            1       amt    11.52\n",
              "2523            1       amt   276.31\n",
              "2546            1       amt     7.03\n",
              "2553            1       amt   275.73\n",
              "...           ...       ...      ...\n",
              "1295399         1       amt   977.01\n",
              "1295491         1       amt  1210.91\n",
              "1295532         1       amt    10.24\n",
              "1295666         1       amt    21.69\n",
              "1295733         1       amt    10.20\n",
              "\n",
              "[7506 rows x 3 columns]"
            ],
            "text/html": [
              "\n",
              "  <div id=\"df-eff825db-2dc2-4c9d-974c-7f10500b0da9\">\n",
              "    <div class=\"colab-df-container\">\n",
              "      <div>\n",
              "<style scoped>\n",
              "    .dataframe tbody tr th:only-of-type {\n",
              "        vertical-align: middle;\n",
              "    }\n",
              "\n",
              "    .dataframe tbody tr th {\n",
              "        vertical-align: top;\n",
              "    }\n",
              "\n",
              "    .dataframe thead th {\n",
              "        text-align: right;\n",
              "    }\n",
              "</style>\n",
              "<table border=\"1\" class=\"dataframe\">\n",
              "  <thead>\n",
              "    <tr style=\"text-align: right;\">\n",
              "      <th></th>\n",
              "      <th>is_fraud</th>\n",
              "      <th>Attribute</th>\n",
              "      <th>value</th>\n",
              "    </tr>\n",
              "  </thead>\n",
              "  <tbody>\n",
              "    <tr>\n",
              "      <th>2449</th>\n",
              "      <td>1</td>\n",
              "      <td>amt</td>\n",
              "      <td>281.06</td>\n",
              "    </tr>\n",
              "    <tr>\n",
              "      <th>2472</th>\n",
              "      <td>1</td>\n",
              "      <td>amt</td>\n",
              "      <td>11.52</td>\n",
              "    </tr>\n",
              "    <tr>\n",
              "      <th>2523</th>\n",
              "      <td>1</td>\n",
              "      <td>amt</td>\n",
              "      <td>276.31</td>\n",
              "    </tr>\n",
              "    <tr>\n",
              "      <th>2546</th>\n",
              "      <td>1</td>\n",
              "      <td>amt</td>\n",
              "      <td>7.03</td>\n",
              "    </tr>\n",
              "    <tr>\n",
              "      <th>2553</th>\n",
              "      <td>1</td>\n",
              "      <td>amt</td>\n",
              "      <td>275.73</td>\n",
              "    </tr>\n",
              "    <tr>\n",
              "      <th>...</th>\n",
              "      <td>...</td>\n",
              "      <td>...</td>\n",
              "      <td>...</td>\n",
              "    </tr>\n",
              "    <tr>\n",
              "      <th>1295399</th>\n",
              "      <td>1</td>\n",
              "      <td>amt</td>\n",
              "      <td>977.01</td>\n",
              "    </tr>\n",
              "    <tr>\n",
              "      <th>1295491</th>\n",
              "      <td>1</td>\n",
              "      <td>amt</td>\n",
              "      <td>1210.91</td>\n",
              "    </tr>\n",
              "    <tr>\n",
              "      <th>1295532</th>\n",
              "      <td>1</td>\n",
              "      <td>amt</td>\n",
              "      <td>10.24</td>\n",
              "    </tr>\n",
              "    <tr>\n",
              "      <th>1295666</th>\n",
              "      <td>1</td>\n",
              "      <td>amt</td>\n",
              "      <td>21.69</td>\n",
              "    </tr>\n",
              "    <tr>\n",
              "      <th>1295733</th>\n",
              "      <td>1</td>\n",
              "      <td>amt</td>\n",
              "      <td>10.20</td>\n",
              "    </tr>\n",
              "  </tbody>\n",
              "</table>\n",
              "<p>7506 rows × 3 columns</p>\n",
              "</div>\n",
              "      <button class=\"colab-df-convert\" onclick=\"convertToInteractive('df-eff825db-2dc2-4c9d-974c-7f10500b0da9')\"\n",
              "              title=\"Convert this dataframe to an interactive table.\"\n",
              "              style=\"display:none;\">\n",
              "        \n",
              "  <svg xmlns=\"http://www.w3.org/2000/svg\" height=\"24px\"viewBox=\"0 0 24 24\"\n",
              "       width=\"24px\">\n",
              "    <path d=\"M0 0h24v24H0V0z\" fill=\"none\"/>\n",
              "    <path d=\"M18.56 5.44l.94 2.06.94-2.06 2.06-.94-2.06-.94-.94-2.06-.94 2.06-2.06.94zm-11 1L8.5 8.5l.94-2.06 2.06-.94-2.06-.94L8.5 2.5l-.94 2.06-2.06.94zm10 10l.94 2.06.94-2.06 2.06-.94-2.06-.94-.94-2.06-.94 2.06-2.06.94z\"/><path d=\"M17.41 7.96l-1.37-1.37c-.4-.4-.92-.59-1.43-.59-.52 0-1.04.2-1.43.59L10.3 9.45l-7.72 7.72c-.78.78-.78 2.05 0 2.83L4 21.41c.39.39.9.59 1.41.59.51 0 1.02-.2 1.41-.59l7.78-7.78 2.81-2.81c.8-.78.8-2.07 0-2.86zM5.41 20L4 18.59l7.72-7.72 1.47 1.35L5.41 20z\"/>\n",
              "  </svg>\n",
              "      </button>\n",
              "      \n",
              "  <style>\n",
              "    .colab-df-container {\n",
              "      display:flex;\n",
              "      flex-wrap:wrap;\n",
              "      gap: 12px;\n",
              "    }\n",
              "\n",
              "    .colab-df-convert {\n",
              "      background-color: #E8F0FE;\n",
              "      border: none;\n",
              "      border-radius: 50%;\n",
              "      cursor: pointer;\n",
              "      display: none;\n",
              "      fill: #1967D2;\n",
              "      height: 32px;\n",
              "      padding: 0 0 0 0;\n",
              "      width: 32px;\n",
              "    }\n",
              "\n",
              "    .colab-df-convert:hover {\n",
              "      background-color: #E2EBFA;\n",
              "      box-shadow: 0px 1px 2px rgba(60, 64, 67, 0.3), 0px 1px 3px 1px rgba(60, 64, 67, 0.15);\n",
              "      fill: #174EA6;\n",
              "    }\n",
              "\n",
              "    [theme=dark] .colab-df-convert {\n",
              "      background-color: #3B4455;\n",
              "      fill: #D2E3FC;\n",
              "    }\n",
              "\n",
              "    [theme=dark] .colab-df-convert:hover {\n",
              "      background-color: #434B5C;\n",
              "      box-shadow: 0px 1px 3px 1px rgba(0, 0, 0, 0.15);\n",
              "      filter: drop-shadow(0px 1px 2px rgba(0, 0, 0, 0.3));\n",
              "      fill: #FFFFFF;\n",
              "    }\n",
              "  </style>\n",
              "\n",
              "      <script>\n",
              "        const buttonEl =\n",
              "          document.querySelector('#df-eff825db-2dc2-4c9d-974c-7f10500b0da9 button.colab-df-convert');\n",
              "        buttonEl.style.display =\n",
              "          google.colab.kernel.accessAllowed ? 'block' : 'none';\n",
              "\n",
              "        async function convertToInteractive(key) {\n",
              "          const element = document.querySelector('#df-eff825db-2dc2-4c9d-974c-7f10500b0da9');\n",
              "          const dataTable =\n",
              "            await google.colab.kernel.invokeFunction('convertToInteractive',\n",
              "                                                     [key], {});\n",
              "          if (!dataTable) return;\n",
              "\n",
              "          const docLinkHtml = 'Like what you see? Visit the ' +\n",
              "            '<a target=\"_blank\" href=https://colab.research.google.com/notebooks/data_table.ipynb>data table notebook</a>'\n",
              "            + ' to learn more about interactive tables.';\n",
              "          element.innerHTML = '';\n",
              "          dataTable['output_type'] = 'display_data';\n",
              "          await google.colab.output.renderOutput(dataTable, element);\n",
              "          const docLink = document.createElement('div');\n",
              "          docLink.innerHTML = docLinkHtml;\n",
              "          element.appendChild(docLink);\n",
              "        }\n",
              "      </script>\n",
              "    </div>\n",
              "  </div>\n",
              "  "
            ]
          },
          "metadata": {},
          "execution_count": 37
        }
      ],
      "source": [
        "melted[melted['is_fraud']==1]"
      ]
    },
    {
      "cell_type": "code",
      "execution_count": 38,
      "metadata": {
        "colab": {
          "base_uri": "https://localhost:8080/",
          "height": 149
        },
        "id": "gwoCug_WZgvW",
        "outputId": "85fcd455-cca9-454e-9570-16cbb5cce9ec"
      },
      "outputs": [
        {
          "output_type": "execute_result",
          "data": {
            "text/plain": [
              "Attribute         amt\n",
              "is_fraud             \n",
              "0           67.667110\n",
              "1          531.320092"
            ],
            "text/html": [
              "\n",
              "  <div id=\"df-de143ea8-9699-46bf-ae90-4d3cee5482ef\">\n",
              "    <div class=\"colab-df-container\">\n",
              "      <div>\n",
              "<style scoped>\n",
              "    .dataframe tbody tr th:only-of-type {\n",
              "        vertical-align: middle;\n",
              "    }\n",
              "\n",
              "    .dataframe tbody tr th {\n",
              "        vertical-align: top;\n",
              "    }\n",
              "\n",
              "    .dataframe thead th {\n",
              "        text-align: right;\n",
              "    }\n",
              "</style>\n",
              "<table border=\"1\" class=\"dataframe\">\n",
              "  <thead>\n",
              "    <tr style=\"text-align: right;\">\n",
              "      <th>Attribute</th>\n",
              "      <th>amt</th>\n",
              "    </tr>\n",
              "    <tr>\n",
              "      <th>is_fraud</th>\n",
              "      <th></th>\n",
              "    </tr>\n",
              "  </thead>\n",
              "  <tbody>\n",
              "    <tr>\n",
              "      <th>0</th>\n",
              "      <td>67.667110</td>\n",
              "    </tr>\n",
              "    <tr>\n",
              "      <th>1</th>\n",
              "      <td>531.320092</td>\n",
              "    </tr>\n",
              "  </tbody>\n",
              "</table>\n",
              "</div>\n",
              "      <button class=\"colab-df-convert\" onclick=\"convertToInteractive('df-de143ea8-9699-46bf-ae90-4d3cee5482ef')\"\n",
              "              title=\"Convert this dataframe to an interactive table.\"\n",
              "              style=\"display:none;\">\n",
              "        \n",
              "  <svg xmlns=\"http://www.w3.org/2000/svg\" height=\"24px\"viewBox=\"0 0 24 24\"\n",
              "       width=\"24px\">\n",
              "    <path d=\"M0 0h24v24H0V0z\" fill=\"none\"/>\n",
              "    <path d=\"M18.56 5.44l.94 2.06.94-2.06 2.06-.94-2.06-.94-.94-2.06-.94 2.06-2.06.94zm-11 1L8.5 8.5l.94-2.06 2.06-.94-2.06-.94L8.5 2.5l-.94 2.06-2.06.94zm10 10l.94 2.06.94-2.06 2.06-.94-2.06-.94-.94-2.06-.94 2.06-2.06.94z\"/><path d=\"M17.41 7.96l-1.37-1.37c-.4-.4-.92-.59-1.43-.59-.52 0-1.04.2-1.43.59L10.3 9.45l-7.72 7.72c-.78.78-.78 2.05 0 2.83L4 21.41c.39.39.9.59 1.41.59.51 0 1.02-.2 1.41-.59l7.78-7.78 2.81-2.81c.8-.78.8-2.07 0-2.86zM5.41 20L4 18.59l7.72-7.72 1.47 1.35L5.41 20z\"/>\n",
              "  </svg>\n",
              "      </button>\n",
              "      \n",
              "  <style>\n",
              "    .colab-df-container {\n",
              "      display:flex;\n",
              "      flex-wrap:wrap;\n",
              "      gap: 12px;\n",
              "    }\n",
              "\n",
              "    .colab-df-convert {\n",
              "      background-color: #E8F0FE;\n",
              "      border: none;\n",
              "      border-radius: 50%;\n",
              "      cursor: pointer;\n",
              "      display: none;\n",
              "      fill: #1967D2;\n",
              "      height: 32px;\n",
              "      padding: 0 0 0 0;\n",
              "      width: 32px;\n",
              "    }\n",
              "\n",
              "    .colab-df-convert:hover {\n",
              "      background-color: #E2EBFA;\n",
              "      box-shadow: 0px 1px 2px rgba(60, 64, 67, 0.3), 0px 1px 3px 1px rgba(60, 64, 67, 0.15);\n",
              "      fill: #174EA6;\n",
              "    }\n",
              "\n",
              "    [theme=dark] .colab-df-convert {\n",
              "      background-color: #3B4455;\n",
              "      fill: #D2E3FC;\n",
              "    }\n",
              "\n",
              "    [theme=dark] .colab-df-convert:hover {\n",
              "      background-color: #434B5C;\n",
              "      box-shadow: 0px 1px 3px 1px rgba(0, 0, 0, 0.15);\n",
              "      filter: drop-shadow(0px 1px 2px rgba(0, 0, 0, 0.3));\n",
              "      fill: #FFFFFF;\n",
              "    }\n",
              "  </style>\n",
              "\n",
              "      <script>\n",
              "        const buttonEl =\n",
              "          document.querySelector('#df-de143ea8-9699-46bf-ae90-4d3cee5482ef button.colab-df-convert');\n",
              "        buttonEl.style.display =\n",
              "          google.colab.kernel.accessAllowed ? 'block' : 'none';\n",
              "\n",
              "        async function convertToInteractive(key) {\n",
              "          const element = document.querySelector('#df-de143ea8-9699-46bf-ae90-4d3cee5482ef');\n",
              "          const dataTable =\n",
              "            await google.colab.kernel.invokeFunction('convertToInteractive',\n",
              "                                                     [key], {});\n",
              "          if (!dataTable) return;\n",
              "\n",
              "          const docLinkHtml = 'Like what you see? Visit the ' +\n",
              "            '<a target=\"_blank\" href=https://colab.research.google.com/notebooks/data_table.ipynb>data table notebook</a>'\n",
              "            + ' to learn more about interactive tables.';\n",
              "          element.innerHTML = '';\n",
              "          dataTable['output_type'] = 'display_data';\n",
              "          await google.colab.output.renderOutput(dataTable, element);\n",
              "          const docLink = document.createElement('div');\n",
              "          docLink.innerHTML = docLinkHtml;\n",
              "          element.appendChild(docLink);\n",
              "        }\n",
              "      </script>\n",
              "    </div>\n",
              "  </div>\n",
              "  "
            ]
          },
          "metadata": {},
          "execution_count": 38
        }
      ],
      "source": [
        "unmelt=melted.pivot_table(index=['is_fraud'],columns='Attribute',values='value',aggfunc='mean')\n",
        "unmelt"
      ]
    },
    {
      "cell_type": "code",
      "execution_count": 39,
      "metadata": {
        "colab": {
          "base_uri": "https://localhost:8080/",
          "height": 672
        },
        "id": "GEHjg4nXZkE4",
        "outputId": "9d3ffe6d-1a4b-4b6c-b54c-fa8349047e13"
      },
      "outputs": [
        {
          "output_type": "execute_result",
          "data": {
            "text/plain": [
              "is_fraud    0  1\n",
              "amt             \n",
              "1.00      222  0\n",
              "1.01      523  0\n",
              "1.02      533  0\n",
              "1.03      499  0\n",
              "1.04      538  0\n",
              "...       ... ..\n",
              "25086.94    1  0\n",
              "26544.12    1  0\n",
              "27119.77    1  0\n",
              "27390.12    1  0\n",
              "28948.90    1  0\n",
              "\n",
              "[52928 rows x 2 columns]"
            ],
            "text/html": [
              "\n",
              "  <div id=\"df-775c9bfa-85ed-46df-905e-000496044c0d\">\n",
              "    <div class=\"colab-df-container\">\n",
              "      <div>\n",
              "<style scoped>\n",
              "    .dataframe tbody tr th:only-of-type {\n",
              "        vertical-align: middle;\n",
              "    }\n",
              "\n",
              "    .dataframe tbody tr th {\n",
              "        vertical-align: top;\n",
              "    }\n",
              "\n",
              "    .dataframe thead th {\n",
              "        text-align: right;\n",
              "    }\n",
              "</style>\n",
              "<table border=\"1\" class=\"dataframe\">\n",
              "  <thead>\n",
              "    <tr style=\"text-align: right;\">\n",
              "      <th>is_fraud</th>\n",
              "      <th>0</th>\n",
              "      <th>1</th>\n",
              "    </tr>\n",
              "    <tr>\n",
              "      <th>amt</th>\n",
              "      <th></th>\n",
              "      <th></th>\n",
              "    </tr>\n",
              "  </thead>\n",
              "  <tbody>\n",
              "    <tr>\n",
              "      <th>1.00</th>\n",
              "      <td>222</td>\n",
              "      <td>0</td>\n",
              "    </tr>\n",
              "    <tr>\n",
              "      <th>1.01</th>\n",
              "      <td>523</td>\n",
              "      <td>0</td>\n",
              "    </tr>\n",
              "    <tr>\n",
              "      <th>1.02</th>\n",
              "      <td>533</td>\n",
              "      <td>0</td>\n",
              "    </tr>\n",
              "    <tr>\n",
              "      <th>1.03</th>\n",
              "      <td>499</td>\n",
              "      <td>0</td>\n",
              "    </tr>\n",
              "    <tr>\n",
              "      <th>1.04</th>\n",
              "      <td>538</td>\n",
              "      <td>0</td>\n",
              "    </tr>\n",
              "    <tr>\n",
              "      <th>...</th>\n",
              "      <td>...</td>\n",
              "      <td>...</td>\n",
              "    </tr>\n",
              "    <tr>\n",
              "      <th>25086.94</th>\n",
              "      <td>1</td>\n",
              "      <td>0</td>\n",
              "    </tr>\n",
              "    <tr>\n",
              "      <th>26544.12</th>\n",
              "      <td>1</td>\n",
              "      <td>0</td>\n",
              "    </tr>\n",
              "    <tr>\n",
              "      <th>27119.77</th>\n",
              "      <td>1</td>\n",
              "      <td>0</td>\n",
              "    </tr>\n",
              "    <tr>\n",
              "      <th>27390.12</th>\n",
              "      <td>1</td>\n",
              "      <td>0</td>\n",
              "    </tr>\n",
              "    <tr>\n",
              "      <th>28948.90</th>\n",
              "      <td>1</td>\n",
              "      <td>0</td>\n",
              "    </tr>\n",
              "  </tbody>\n",
              "</table>\n",
              "<p>52928 rows × 2 columns</p>\n",
              "</div>\n",
              "      <button class=\"colab-df-convert\" onclick=\"convertToInteractive('df-775c9bfa-85ed-46df-905e-000496044c0d')\"\n",
              "              title=\"Convert this dataframe to an interactive table.\"\n",
              "              style=\"display:none;\">\n",
              "        \n",
              "  <svg xmlns=\"http://www.w3.org/2000/svg\" height=\"24px\"viewBox=\"0 0 24 24\"\n",
              "       width=\"24px\">\n",
              "    <path d=\"M0 0h24v24H0V0z\" fill=\"none\"/>\n",
              "    <path d=\"M18.56 5.44l.94 2.06.94-2.06 2.06-.94-2.06-.94-.94-2.06-.94 2.06-2.06.94zm-11 1L8.5 8.5l.94-2.06 2.06-.94-2.06-.94L8.5 2.5l-.94 2.06-2.06.94zm10 10l.94 2.06.94-2.06 2.06-.94-2.06-.94-.94-2.06-.94 2.06-2.06.94z\"/><path d=\"M17.41 7.96l-1.37-1.37c-.4-.4-.92-.59-1.43-.59-.52 0-1.04.2-1.43.59L10.3 9.45l-7.72 7.72c-.78.78-.78 2.05 0 2.83L4 21.41c.39.39.9.59 1.41.59.51 0 1.02-.2 1.41-.59l7.78-7.78 2.81-2.81c.8-.78.8-2.07 0-2.86zM5.41 20L4 18.59l7.72-7.72 1.47 1.35L5.41 20z\"/>\n",
              "  </svg>\n",
              "      </button>\n",
              "      \n",
              "  <style>\n",
              "    .colab-df-container {\n",
              "      display:flex;\n",
              "      flex-wrap:wrap;\n",
              "      gap: 12px;\n",
              "    }\n",
              "\n",
              "    .colab-df-convert {\n",
              "      background-color: #E8F0FE;\n",
              "      border: none;\n",
              "      border-radius: 50%;\n",
              "      cursor: pointer;\n",
              "      display: none;\n",
              "      fill: #1967D2;\n",
              "      height: 32px;\n",
              "      padding: 0 0 0 0;\n",
              "      width: 32px;\n",
              "    }\n",
              "\n",
              "    .colab-df-convert:hover {\n",
              "      background-color: #E2EBFA;\n",
              "      box-shadow: 0px 1px 2px rgba(60, 64, 67, 0.3), 0px 1px 3px 1px rgba(60, 64, 67, 0.15);\n",
              "      fill: #174EA6;\n",
              "    }\n",
              "\n",
              "    [theme=dark] .colab-df-convert {\n",
              "      background-color: #3B4455;\n",
              "      fill: #D2E3FC;\n",
              "    }\n",
              "\n",
              "    [theme=dark] .colab-df-convert:hover {\n",
              "      background-color: #434B5C;\n",
              "      box-shadow: 0px 1px 3px 1px rgba(0, 0, 0, 0.15);\n",
              "      filter: drop-shadow(0px 1px 2px rgba(0, 0, 0, 0.3));\n",
              "      fill: #FFFFFF;\n",
              "    }\n",
              "  </style>\n",
              "\n",
              "      <script>\n",
              "        const buttonEl =\n",
              "          document.querySelector('#df-775c9bfa-85ed-46df-905e-000496044c0d button.colab-df-convert');\n",
              "        buttonEl.style.display =\n",
              "          google.colab.kernel.accessAllowed ? 'block' : 'none';\n",
              "\n",
              "        async function convertToInteractive(key) {\n",
              "          const element = document.querySelector('#df-775c9bfa-85ed-46df-905e-000496044c0d');\n",
              "          const dataTable =\n",
              "            await google.colab.kernel.invokeFunction('convertToInteractive',\n",
              "                                                     [key], {});\n",
              "          if (!dataTable) return;\n",
              "\n",
              "          const docLinkHtml = 'Like what you see? Visit the ' +\n",
              "            '<a target=\"_blank\" href=https://colab.research.google.com/notebooks/data_table.ipynb>data table notebook</a>'\n",
              "            + ' to learn more about interactive tables.';\n",
              "          element.innerHTML = '';\n",
              "          dataTable['output_type'] = 'display_data';\n",
              "          await google.colab.output.renderOutput(dataTable, element);\n",
              "          const docLink = document.createElement('div');\n",
              "          docLink.innerHTML = docLinkHtml;\n",
              "          element.appendChild(docLink);\n",
              "        }\n",
              "      </script>\n",
              "    </div>\n",
              "  </div>\n",
              "  "
            ]
          },
          "metadata": {},
          "execution_count": 39
        },
        {
          "output_type": "stream",
          "name": "stdout",
          "text": [
            "Warning: total number of rows (52928) exceeds max_rows (20000). Limiting to first (20000) rows.\n"
          ]
        }
      ],
      "source": [
        "pd.crosstab(df.amt,df.is_fraud)"
      ]
    },
    {
      "cell_type": "code",
      "execution_count": 40,
      "metadata": {
        "id": "7REXIm-3Z5Ll"
      },
      "outputs": [],
      "source": [
        "df_proper = df.loc[df['is_fraud']==0,['amt']]\n",
        "df_fraud = df.loc[df['is_fraud']==1,['amt']]"
      ]
    },
    {
      "cell_type": "markdown",
      "metadata": {
        "id": "aLJ7WyJ0Tio4"
      },
      "source": [
        "###**Label Encoder**"
      ]
    },
    {
      "cell_type": "code",
      "execution_count": 41,
      "metadata": {
        "id": "GNaB_NYMo40l"
      },
      "outputs": [],
      "source": [
        "from sklearn.preprocessing import LabelEncoder\n",
        "\n",
        "# label_encoder \n",
        "label_encoder = LabelEncoder()\n",
        " \n",
        "# Encode labels in column 'gender'.\n",
        "df['gender']= label_encoder.fit_transform(df['gender'])"
      ]
    },
    {
      "cell_type": "code",
      "execution_count": 42,
      "metadata": {
        "colab": {
          "base_uri": "https://localhost:8080/",
          "height": 672
        },
        "id": "tLN6WsPro8P5",
        "outputId": "81dbfc0e-b9a3-4e8c-b427-2929106ccec4"
      },
      "outputs": [
        {
          "output_type": "execute_result",
          "data": {
            "text/plain": [
              "                      cc_num     amt  gender    zip      lat      long  \\\n",
              "0           2703186189652095    4.97       0  28654  36.0788  -81.1781   \n",
              "1               630423337322  107.23       0  99160  48.8878 -118.2105   \n",
              "2             38859492057661  220.11       1  83252  42.1808 -112.2620   \n",
              "3           3534093764340240   45.00       1  59632  46.2306 -112.1138   \n",
              "4            375534208663984   41.96       1  24433  38.4207  -79.4629   \n",
              "...                      ...     ...     ...    ...      ...       ...   \n",
              "1296670       30263540414123   15.56       1  84735  37.7175 -112.4777   \n",
              "1296671     6011149206456997   51.70       1  21790  39.2667  -77.5101   \n",
              "1296672     3514865930894695  105.93       1  88325  32.9396 -105.8189   \n",
              "1296673     2720012583106919   74.90       1  57756  43.3526 -102.5411   \n",
              "1296674  4292902571056973207    4.30       1  59871  45.8433 -113.8748   \n",
              "\n",
              "         city_pop   unix_time  merch_lat  merch_long  is_fraud   age  \n",
              "0            3495  1325376018  36.011293  -82.048315         0  35.0  \n",
              "1             149  1325376044  49.159047 -118.186462         0  44.0  \n",
              "2            4154  1325376051  43.150704 -112.154481         0  61.0  \n",
              "3            1939  1325376076  47.034331 -112.561071         0  56.0  \n",
              "4              99  1325376186  38.674999  -78.632459         0  37.0  \n",
              "...           ...         ...        ...         ...       ...   ...  \n",
              "1296670       258  1371816728  36.841266 -111.690765         0  61.0  \n",
              "1296671       100  1371816739  38.906881  -78.246528         0  43.0  \n",
              "1296672       899  1371816752  33.619513 -105.130529         0  55.0  \n",
              "1296673      1126  1371816816  42.788940 -103.241160         0  42.0  \n",
              "1296674       218  1371816817  46.565983 -114.186110         0  27.0  \n",
              "\n",
              "[1296675 rows x 12 columns]"
            ],
            "text/html": [
              "\n",
              "  <div id=\"df-09b1b750-3c01-46b3-9311-78dbc8c8ae69\">\n",
              "    <div class=\"colab-df-container\">\n",
              "      <div>\n",
              "<style scoped>\n",
              "    .dataframe tbody tr th:only-of-type {\n",
              "        vertical-align: middle;\n",
              "    }\n",
              "\n",
              "    .dataframe tbody tr th {\n",
              "        vertical-align: top;\n",
              "    }\n",
              "\n",
              "    .dataframe thead th {\n",
              "        text-align: right;\n",
              "    }\n",
              "</style>\n",
              "<table border=\"1\" class=\"dataframe\">\n",
              "  <thead>\n",
              "    <tr style=\"text-align: right;\">\n",
              "      <th></th>\n",
              "      <th>cc_num</th>\n",
              "      <th>amt</th>\n",
              "      <th>gender</th>\n",
              "      <th>zip</th>\n",
              "      <th>lat</th>\n",
              "      <th>long</th>\n",
              "      <th>city_pop</th>\n",
              "      <th>unix_time</th>\n",
              "      <th>merch_lat</th>\n",
              "      <th>merch_long</th>\n",
              "      <th>is_fraud</th>\n",
              "      <th>age</th>\n",
              "    </tr>\n",
              "  </thead>\n",
              "  <tbody>\n",
              "    <tr>\n",
              "      <th>0</th>\n",
              "      <td>2703186189652095</td>\n",
              "      <td>4.97</td>\n",
              "      <td>0</td>\n",
              "      <td>28654</td>\n",
              "      <td>36.0788</td>\n",
              "      <td>-81.1781</td>\n",
              "      <td>3495</td>\n",
              "      <td>1325376018</td>\n",
              "      <td>36.011293</td>\n",
              "      <td>-82.048315</td>\n",
              "      <td>0</td>\n",
              "      <td>35.0</td>\n",
              "    </tr>\n",
              "    <tr>\n",
              "      <th>1</th>\n",
              "      <td>630423337322</td>\n",
              "      <td>107.23</td>\n",
              "      <td>0</td>\n",
              "      <td>99160</td>\n",
              "      <td>48.8878</td>\n",
              "      <td>-118.2105</td>\n",
              "      <td>149</td>\n",
              "      <td>1325376044</td>\n",
              "      <td>49.159047</td>\n",
              "      <td>-118.186462</td>\n",
              "      <td>0</td>\n",
              "      <td>44.0</td>\n",
              "    </tr>\n",
              "    <tr>\n",
              "      <th>2</th>\n",
              "      <td>38859492057661</td>\n",
              "      <td>220.11</td>\n",
              "      <td>1</td>\n",
              "      <td>83252</td>\n",
              "      <td>42.1808</td>\n",
              "      <td>-112.2620</td>\n",
              "      <td>4154</td>\n",
              "      <td>1325376051</td>\n",
              "      <td>43.150704</td>\n",
              "      <td>-112.154481</td>\n",
              "      <td>0</td>\n",
              "      <td>61.0</td>\n",
              "    </tr>\n",
              "    <tr>\n",
              "      <th>3</th>\n",
              "      <td>3534093764340240</td>\n",
              "      <td>45.00</td>\n",
              "      <td>1</td>\n",
              "      <td>59632</td>\n",
              "      <td>46.2306</td>\n",
              "      <td>-112.1138</td>\n",
              "      <td>1939</td>\n",
              "      <td>1325376076</td>\n",
              "      <td>47.034331</td>\n",
              "      <td>-112.561071</td>\n",
              "      <td>0</td>\n",
              "      <td>56.0</td>\n",
              "    </tr>\n",
              "    <tr>\n",
              "      <th>4</th>\n",
              "      <td>375534208663984</td>\n",
              "      <td>41.96</td>\n",
              "      <td>1</td>\n",
              "      <td>24433</td>\n",
              "      <td>38.4207</td>\n",
              "      <td>-79.4629</td>\n",
              "      <td>99</td>\n",
              "      <td>1325376186</td>\n",
              "      <td>38.674999</td>\n",
              "      <td>-78.632459</td>\n",
              "      <td>0</td>\n",
              "      <td>37.0</td>\n",
              "    </tr>\n",
              "    <tr>\n",
              "      <th>...</th>\n",
              "      <td>...</td>\n",
              "      <td>...</td>\n",
              "      <td>...</td>\n",
              "      <td>...</td>\n",
              "      <td>...</td>\n",
              "      <td>...</td>\n",
              "      <td>...</td>\n",
              "      <td>...</td>\n",
              "      <td>...</td>\n",
              "      <td>...</td>\n",
              "      <td>...</td>\n",
              "      <td>...</td>\n",
              "    </tr>\n",
              "    <tr>\n",
              "      <th>1296670</th>\n",
              "      <td>30263540414123</td>\n",
              "      <td>15.56</td>\n",
              "      <td>1</td>\n",
              "      <td>84735</td>\n",
              "      <td>37.7175</td>\n",
              "      <td>-112.4777</td>\n",
              "      <td>258</td>\n",
              "      <td>1371816728</td>\n",
              "      <td>36.841266</td>\n",
              "      <td>-111.690765</td>\n",
              "      <td>0</td>\n",
              "      <td>61.0</td>\n",
              "    </tr>\n",
              "    <tr>\n",
              "      <th>1296671</th>\n",
              "      <td>6011149206456997</td>\n",
              "      <td>51.70</td>\n",
              "      <td>1</td>\n",
              "      <td>21790</td>\n",
              "      <td>39.2667</td>\n",
              "      <td>-77.5101</td>\n",
              "      <td>100</td>\n",
              "      <td>1371816739</td>\n",
              "      <td>38.906881</td>\n",
              "      <td>-78.246528</td>\n",
              "      <td>0</td>\n",
              "      <td>43.0</td>\n",
              "    </tr>\n",
              "    <tr>\n",
              "      <th>1296672</th>\n",
              "      <td>3514865930894695</td>\n",
              "      <td>105.93</td>\n",
              "      <td>1</td>\n",
              "      <td>88325</td>\n",
              "      <td>32.9396</td>\n",
              "      <td>-105.8189</td>\n",
              "      <td>899</td>\n",
              "      <td>1371816752</td>\n",
              "      <td>33.619513</td>\n",
              "      <td>-105.130529</td>\n",
              "      <td>0</td>\n",
              "      <td>55.0</td>\n",
              "    </tr>\n",
              "    <tr>\n",
              "      <th>1296673</th>\n",
              "      <td>2720012583106919</td>\n",
              "      <td>74.90</td>\n",
              "      <td>1</td>\n",
              "      <td>57756</td>\n",
              "      <td>43.3526</td>\n",
              "      <td>-102.5411</td>\n",
              "      <td>1126</td>\n",
              "      <td>1371816816</td>\n",
              "      <td>42.788940</td>\n",
              "      <td>-103.241160</td>\n",
              "      <td>0</td>\n",
              "      <td>42.0</td>\n",
              "    </tr>\n",
              "    <tr>\n",
              "      <th>1296674</th>\n",
              "      <td>4292902571056973207</td>\n",
              "      <td>4.30</td>\n",
              "      <td>1</td>\n",
              "      <td>59871</td>\n",
              "      <td>45.8433</td>\n",
              "      <td>-113.8748</td>\n",
              "      <td>218</td>\n",
              "      <td>1371816817</td>\n",
              "      <td>46.565983</td>\n",
              "      <td>-114.186110</td>\n",
              "      <td>0</td>\n",
              "      <td>27.0</td>\n",
              "    </tr>\n",
              "  </tbody>\n",
              "</table>\n",
              "<p>1296675 rows × 12 columns</p>\n",
              "</div>\n",
              "      <button class=\"colab-df-convert\" onclick=\"convertToInteractive('df-09b1b750-3c01-46b3-9311-78dbc8c8ae69')\"\n",
              "              title=\"Convert this dataframe to an interactive table.\"\n",
              "              style=\"display:none;\">\n",
              "        \n",
              "  <svg xmlns=\"http://www.w3.org/2000/svg\" height=\"24px\"viewBox=\"0 0 24 24\"\n",
              "       width=\"24px\">\n",
              "    <path d=\"M0 0h24v24H0V0z\" fill=\"none\"/>\n",
              "    <path d=\"M18.56 5.44l.94 2.06.94-2.06 2.06-.94-2.06-.94-.94-2.06-.94 2.06-2.06.94zm-11 1L8.5 8.5l.94-2.06 2.06-.94-2.06-.94L8.5 2.5l-.94 2.06-2.06.94zm10 10l.94 2.06.94-2.06 2.06-.94-2.06-.94-.94-2.06-.94 2.06-2.06.94z\"/><path d=\"M17.41 7.96l-1.37-1.37c-.4-.4-.92-.59-1.43-.59-.52 0-1.04.2-1.43.59L10.3 9.45l-7.72 7.72c-.78.78-.78 2.05 0 2.83L4 21.41c.39.39.9.59 1.41.59.51 0 1.02-.2 1.41-.59l7.78-7.78 2.81-2.81c.8-.78.8-2.07 0-2.86zM5.41 20L4 18.59l7.72-7.72 1.47 1.35L5.41 20z\"/>\n",
              "  </svg>\n",
              "      </button>\n",
              "      \n",
              "  <style>\n",
              "    .colab-df-container {\n",
              "      display:flex;\n",
              "      flex-wrap:wrap;\n",
              "      gap: 12px;\n",
              "    }\n",
              "\n",
              "    .colab-df-convert {\n",
              "      background-color: #E8F0FE;\n",
              "      border: none;\n",
              "      border-radius: 50%;\n",
              "      cursor: pointer;\n",
              "      display: none;\n",
              "      fill: #1967D2;\n",
              "      height: 32px;\n",
              "      padding: 0 0 0 0;\n",
              "      width: 32px;\n",
              "    }\n",
              "\n",
              "    .colab-df-convert:hover {\n",
              "      background-color: #E2EBFA;\n",
              "      box-shadow: 0px 1px 2px rgba(60, 64, 67, 0.3), 0px 1px 3px 1px rgba(60, 64, 67, 0.15);\n",
              "      fill: #174EA6;\n",
              "    }\n",
              "\n",
              "    [theme=dark] .colab-df-convert {\n",
              "      background-color: #3B4455;\n",
              "      fill: #D2E3FC;\n",
              "    }\n",
              "\n",
              "    [theme=dark] .colab-df-convert:hover {\n",
              "      background-color: #434B5C;\n",
              "      box-shadow: 0px 1px 3px 1px rgba(0, 0, 0, 0.15);\n",
              "      filter: drop-shadow(0px 1px 2px rgba(0, 0, 0, 0.3));\n",
              "      fill: #FFFFFF;\n",
              "    }\n",
              "  </style>\n",
              "\n",
              "      <script>\n",
              "        const buttonEl =\n",
              "          document.querySelector('#df-09b1b750-3c01-46b3-9311-78dbc8c8ae69 button.colab-df-convert');\n",
              "        buttonEl.style.display =\n",
              "          google.colab.kernel.accessAllowed ? 'block' : 'none';\n",
              "\n",
              "        async function convertToInteractive(key) {\n",
              "          const element = document.querySelector('#df-09b1b750-3c01-46b3-9311-78dbc8c8ae69');\n",
              "          const dataTable =\n",
              "            await google.colab.kernel.invokeFunction('convertToInteractive',\n",
              "                                                     [key], {});\n",
              "          if (!dataTable) return;\n",
              "\n",
              "          const docLinkHtml = 'Like what you see? Visit the ' +\n",
              "            '<a target=\"_blank\" href=https://colab.research.google.com/notebooks/data_table.ipynb>data table notebook</a>'\n",
              "            + ' to learn more about interactive tables.';\n",
              "          element.innerHTML = '';\n",
              "          dataTable['output_type'] = 'display_data';\n",
              "          await google.colab.output.renderOutput(dataTable, element);\n",
              "          const docLink = document.createElement('div');\n",
              "          docLink.innerHTML = docLinkHtml;\n",
              "          element.appendChild(docLink);\n",
              "        }\n",
              "      </script>\n",
              "    </div>\n",
              "  </div>\n",
              "  "
            ]
          },
          "metadata": {},
          "execution_count": 42
        },
        {
          "output_type": "stream",
          "name": "stdout",
          "text": [
            "Warning: total number of rows (1296675) exceeds max_rows (20000). Limiting to first (20000) rows.\n"
          ]
        }
      ],
      "source": [
        "# Seperating nominal from numeric\n",
        "df1 = df.loc[:,df.dtypes!=np.object]\n",
        "df1"
      ]
    },
    {
      "cell_type": "markdown",
      "metadata": {
        "id": "A-M3EdpFLFsN"
      },
      "source": [
        "# **Hypothesis Testing**"
      ]
    },
    {
      "cell_type": "markdown",
      "metadata": {
        "id": "DNcdM-fu_qgK"
      },
      "source": [
        "##**z-test**"
      ]
    },
    {
      "cell_type": "code",
      "execution_count": 43,
      "metadata": {
        "colab": {
          "base_uri": "https://localhost:8080/"
        },
        "id": "GMSOuHIp_xQe",
        "outputId": "d3501b98-5dab-45d2-c257-dacb5c1d07fe"
      },
      "outputs": [
        {
          "output_type": "execute_result",
          "data": {
            "text/plain": [
              "70.35103545607033"
            ]
          },
          "metadata": {},
          "execution_count": 43
        }
      ],
      "source": [
        "pop_mean = df['amt'].mean()\n",
        "pop_mean"
      ]
    },
    {
      "cell_type": "code",
      "execution_count": 44,
      "metadata": {
        "id": "gEzc2yhvAIVR"
      },
      "outputs": [],
      "source": [
        "pop_std = df['amt'].std()"
      ]
    },
    {
      "cell_type": "code",
      "execution_count": 45,
      "metadata": {
        "id": "3g_AvZd5AgXP"
      },
      "outputs": [],
      "source": [
        "data = df['amt'].sample(42)"
      ]
    },
    {
      "cell_type": "code",
      "execution_count": 46,
      "metadata": {
        "colab": {
          "base_uri": "https://localhost:8080/"
        },
        "id": "1dGmDLuaCtGf",
        "outputId": "e7d41bca-3ecb-4cde-8a79-43146d11e746"
      },
      "outputs": [
        {
          "output_type": "execute_result",
          "data": {
            "text/plain": [
              "89.56619047619047"
            ]
          },
          "metadata": {},
          "execution_count": 46
        }
      ],
      "source": [
        "sample_mean=np.mean(data)\n",
        "sample_mean"
      ]
    },
    {
      "cell_type": "code",
      "execution_count": 47,
      "metadata": {
        "colab": {
          "base_uri": "https://localhost:8080/"
        },
        "id": "xvx7U3dPAYQG",
        "outputId": "64aadf6c-d105-4755-ecda-76c2db559bf2"
      },
      "outputs": [
        {
          "output_type": "execute_result",
          "data": {
            "text/plain": [
              "(86.1491979023648, 92.98318305001614)"
            ]
          },
          "metadata": {},
          "execution_count": 47
        }
      ],
      "source": [
        "import scipy.stats as st\n",
        "st.norm.interval(alpha=0.1,loc=np.mean(data),scale=st.sem(data))"
      ]
    },
    {
      "cell_type": "code",
      "execution_count": 48,
      "metadata": {
        "colab": {
          "base_uri": "https://localhost:8080/"
        },
        "id": "jawKzVERBszh",
        "outputId": "08ef0a7e-ff1f-4939-ba42-96436e206fc7"
      },
      "outputs": [
        {
          "output_type": "execute_result",
          "data": {
            "text/plain": [
              "-1.6448536269514729"
            ]
          },
          "metadata": {},
          "execution_count": 48
        }
      ],
      "source": [
        "#two tailed \n",
        "Z_critical = st.norm.ppf(0.1/2)\n",
        "Z_critical"
      ]
    },
    {
      "cell_type": "code",
      "execution_count": 49,
      "metadata": {
        "id": "Hac4Y77Y_22y"
      },
      "outputs": [],
      "source": [
        "# H0 : mu = 70.35   :  mu!= 70.35\n",
        "n = 42 \n",
        "xbar = sample_mean #sample mean\n",
        "mu = pop_mean       #population mean\n",
        "sigma =  pop_std    #population standard deviation\n",
        "alpha = 0.1"
      ]
    },
    {
      "cell_type": "code",
      "execution_count": 50,
      "metadata": {
        "colab": {
          "base_uri": "https://localhost:8080/"
        },
        "id": "m7zcCBu9A1WA",
        "outputId": "a9a7d8f7-0afb-4d9a-9b1b-c42d4a704c51"
      },
      "outputs": [
        {
          "output_type": "execute_result",
          "data": {
            "text/plain": [
              "0.7767684273806964"
            ]
          },
          "metadata": {},
          "execution_count": 50
        }
      ],
      "source": [
        "z_value = (xbar-mu)/(sigma/np.sqrt(n))\n",
        "z_value"
      ]
    },
    {
      "cell_type": "code",
      "execution_count": 51,
      "metadata": {
        "colab": {
          "base_uri": "https://localhost:8080/"
        },
        "id": "vb3Itv8xCoSC",
        "outputId": "1ead87eb-27e6-4b05-def8-c3088e7257ee"
      },
      "outputs": [
        {
          "output_type": "execute_result",
          "data": {
            "text/plain": [
              "0.43729540730951744"
            ]
          },
          "metadata": {},
          "execution_count": 51
        }
      ],
      "source": [
        "p_value = 2*(1- st.norm.cdf(z_value))\n",
        "p_value"
      ]
    },
    {
      "cell_type": "code",
      "execution_count": 52,
      "metadata": {
        "colab": {
          "base_uri": "https://localhost:8080/"
        },
        "id": "KV_3mRKRA8IS",
        "outputId": "90796da3-b633-4b33-fd81-8a7f637cd6c5"
      },
      "outputs": [
        {
          "output_type": "stream",
          "name": "stdout",
          "text": [
            "Accept Null Hypothesis\n"
          ]
        }
      ],
      "source": [
        "if(p_value>alpha):\n",
        "   print('Accept Null Hypothesis')\n",
        "else:\n",
        "   print('Reject Null Hypothesis')"
      ]
    },
    {
      "cell_type": "code",
      "execution_count": 53,
      "metadata": {
        "colab": {
          "base_uri": "https://localhost:8080/"
        },
        "id": "z6GnySm1LiRQ",
        "outputId": "2ff07f53-aebb-4496-d96a-1794dc5c79da"
      },
      "outputs": [
        {
          "output_type": "execute_result",
          "data": {
            "text/plain": [
              "(36.270705844285146, 142.8616751080958)"
            ]
          },
          "metadata": {},
          "execution_count": 53
        }
      ],
      "source": [
        "import scipy.stats as st\n",
        "st.norm.interval(alpha=0.95,loc=np.mean(data),scale=st.sem(data))"
      ]
    },
    {
      "cell_type": "code",
      "execution_count": 54,
      "metadata": {
        "colab": {
          "base_uri": "https://localhost:8080/"
        },
        "id": "8NGTgtsxceP2",
        "outputId": "d857a8ce-d93f-4636-942f-ab7527aac486"
      },
      "outputs": [
        {
          "output_type": "execute_result",
          "data": {
            "text/plain": [
              "(19.524050852937435, 159.6083300994435)"
            ]
          },
          "metadata": {},
          "execution_count": 54
        }
      ],
      "source": [
        "import scipy.stats as st\n",
        "st.norm.interval(alpha=0.99,loc=np.mean(data),scale=st.sem(data))"
      ]
    },
    {
      "cell_type": "markdown",
      "metadata": {
        "id": "YU3E8WWFK1x_"
      },
      "source": [
        "##**t-test**"
      ]
    },
    {
      "cell_type": "code",
      "execution_count": 55,
      "metadata": {
        "id": "x2daItgBK5tE"
      },
      "outputs": [],
      "source": [
        "#H0 : mu=75.35  Ha :  mu=75.35\n",
        "n = 42 \n",
        "degrees_of_freedom = n-1\n",
        "xbar =  sample_mean       #sample mean\n",
        "mu = pop_mean             #population mean\n",
        "sigma =  pop_std               \n",
        "alpha = 0.1"
      ]
    },
    {
      "cell_type": "code",
      "execution_count": 56,
      "metadata": {
        "colab": {
          "base_uri": "https://localhost:8080/"
        },
        "id": "BUOVvZ4sK5wl",
        "outputId": "92046c3a-af08-499c-f080-36929cee931a"
      },
      "outputs": [
        {
          "output_type": "execute_result",
          "data": {
            "text/plain": [
              "0.7767684273806964"
            ]
          },
          "metadata": {},
          "execution_count": 56
        }
      ],
      "source": [
        "t_value=(xbar-mu)/(sigma/np.sqrt(n))\n",
        "t_value"
      ]
    },
    {
      "cell_type": "code",
      "execution_count": 57,
      "metadata": {
        "colab": {
          "base_uri": "https://localhost:8080/"
        },
        "id": "tJjB7JHlLDmt",
        "outputId": "a8cd8e0e-ea65-4161-ba9a-34f2aca23712"
      },
      "outputs": [
        {
          "output_type": "execute_result",
          "data": {
            "text/plain": [
              "1.682878000411292"
            ]
          },
          "metadata": {},
          "execution_count": 57
        }
      ],
      "source": [
        "t_critical=abs(st.t.ppf(alpha/2,degrees_of_freedom))\n",
        "t_critical"
      ]
    },
    {
      "cell_type": "code",
      "execution_count": 58,
      "metadata": {
        "colab": {
          "base_uri": "https://localhost:8080/"
        },
        "id": "BlJ1Egy3LDqR",
        "outputId": "77506b4e-870e-4ce4-dfeb-b3be2dc7461c"
      },
      "outputs": [
        {
          "output_type": "stream",
          "name": "stdout",
          "text": [
            "Accept Null hypothesis\n"
          ]
        }
      ],
      "source": [
        "if(t_value<t_critical): #2 tail\n",
        "  print('Accept Null hypothesis')\n",
        "else:\n",
        "  print('Reject Null Hypothesis')"
      ]
    },
    {
      "cell_type": "markdown",
      "metadata": {
        "id": "wTrzCpxtQgG4"
      },
      "source": [
        "# **Visualisation**"
      ]
    },
    {
      "cell_type": "code",
      "execution_count": 59,
      "metadata": {
        "colab": {
          "base_uri": "https://localhost:8080/"
        },
        "id": "1gpg_bEAPjJz",
        "outputId": "5715d9fe-d529-4b2d-f70a-77e6eefad022"
      },
      "outputs": [
        {
          "output_type": "stream",
          "name": "stdout",
          "text": [
            "Total Number of Outliers : 67290\n",
            "Number of Outliers in Fraudulent Class : 5705\n",
            "Number of Outliers in Normal Class : 61585\n"
          ]
        }
      ],
      "source": [
        "# OUTLIERS\n",
        "\n",
        "# Finding the 1st and 3rd Quantile for Amount Column\n",
        "Q1 = np.percentile(df['amt'], 25)\n",
        "Q3 = np.percentile(df['amt'], 75)\n",
        "\n",
        "# interquartile range\n",
        "IQR = (Q3 - Q1)\n",
        "\n",
        "# computing lower bound and upper bound\n",
        "lower_bound = Q1 - (IQR * 1.5)\n",
        "upper_bound = Q3 + (IQR * 1.5)\n",
        "\n",
        "#  Remove values less than lower bound and greater than upper bound\n",
        "outliers_data = (df['amt'] < lower_bound) | (df['amt'] > upper_bound)\n",
        "\n",
        "# Finding outliers from dataset\n",
        "outliers = df[outliers_data]['amt']\n",
        "fraud_outliers = df[(df['is_fraud'] == 1) & outliers_data]['amt']\n",
        "proper_outliers = df[(df['is_fraud'] == 0) & outliers_data]['amt']\n",
        "print(f\"Total Number of Outliers : {outliers.count()}\")\n",
        "print(f\"Number of Outliers in Fraudulent Class : {fraud_outliers.count()}\")\n",
        "print(f\"Number of Outliers in Normal Class : {proper_outliers.count()}\")"
      ]
    },
    {
      "cell_type": "code",
      "execution_count": 60,
      "metadata": {
        "colab": {
          "base_uri": "https://localhost:8080/",
          "height": 279
        },
        "id": "UdkFsuhPPjYI",
        "outputId": "00593ecb-05fa-43c1-8a2d-f426b5d7cf46"
      },
      "outputs": [
        {
          "output_type": "display_data",
          "data": {
            "text/plain": [
              "<Figure size 432x288 with 1 Axes>"
            ],
            "image/png": "[encoded data removed]"
          },
          "metadata": {
            "needs_background": "light"
          }
        }
      ],
      "source": [
        "sns.boxplot(x = \"amt\", data = df)\n",
        "plt.show()"
      ]
    },
    {
      "cell_type": "code",
      "execution_count": 61,
      "metadata": {
        "colab": {
          "base_uri": "https://localhost:8080/",
          "height": 282
        },
        "id": "27PkMBhVQsxX",
        "outputId": "94b6f617-99a7-48e4-f34c-bed06900d2e5"
      },
      "outputs": [
        {
          "output_type": "display_data",
          "data": {
            "text/plain": [
              "<Figure size 432x288 with 1 Axes>"
            ],
            "image/png": "[encoded data removed]"
          },
          "metadata": {
            "needs_background": "light"
          }
        }
      ],
      "source": [
        "sns.boxplot(x = \"is_fraud\", y = \"amt\", data = df)\n",
        "plt.show()"
      ]
    },
    {
      "cell_type": "code",
      "execution_count": 62,
      "metadata": {
        "colab": {
          "base_uri": "https://localhost:8080/",
          "height": 284
        },
        "id": "HGqu9ul-Qs1T",
        "outputId": "33481b7a-5d8b-475d-91d3-a5100f9283f8"
      },
      "outputs": [
        {
          "output_type": "display_data",
          "data": {
            "text/plain": [
              "<Figure size 432x288 with 1 Axes>"
            ],
            "image/png": "[encoded data removed]"
          },
          "metadata": {
            "needs_background": "light"
          }
        }
      ],
      "source": [
        "sns.boxplot(x = \"is_fraud\", y = \"amt\", data = df)\n",
        "plt.ylim(0, 3000)\n",
        "plt.show()"
      ]
    },
    {
      "cell_type": "code",
      "execution_count": 63,
      "metadata": {
        "colab": {
          "base_uri": "https://localhost:8080/",
          "height": 966
        },
        "id": "jlKis6jJPjbc",
        "outputId": "67c59514-d0fa-43e0-acbe-92cde18f5ad4"
      },
      "outputs": [
        {
          "output_type": "execute_result",
          "data": {
            "text/plain": [
              "Text(0.5, 1.0, 'Title')"
            ]
          },
          "metadata": {},
          "execution_count": 63
        },
        {
          "output_type": "display_data",
          "data": {
            "text/plain": [
              "<Figure size 1296x1152 with 1 Axes>"
            ],
            "image/png": "[encoded data removed]"
          },
          "metadata": {
            "needs_background": "light"
          }
        }
      ],
      "source": [
        "plt.figure(figsize=(18,16))\n",
        "sns.boxenplot(x=df.is_fraud, y=df.amt).set_title(\"Title\")"
      ]
    },
    {
      "cell_type": "code",
      "execution_count": 64,
      "metadata": {
        "id": "dfzTMFITPjeX"
      },
      "outputs": [],
      "source": [
        "#data = df[['amt','age', 'is_fraud']]\n",
        "#sns.set_style(\"whitegrid\")\n",
        "#sns.pairplot(data, hue='is_fraud',size=5)\n",
        "#plt.show()"
      ]
    },
    {
      "cell_type": "code",
      "execution_count": 65,
      "metadata": {
        "id": "5K393EuRQ19s"
      },
      "outputs": [],
      "source": [
        "# Creating fraudulent dataframe\n",
        "data_fraud = df[df['is_fraud'] == 1]\n",
        "\n",
        "# Creating non fraudulent dataframe\n",
        "data_proper = df[df['is_fraud'] == 0]"
      ]
    },
    {
      "cell_type": "code",
      "execution_count": 66,
      "metadata": {
        "colab": {
          "base_uri": "https://localhost:8080/",
          "height": 334
        },
        "id": "E8fT-65FQ2As",
        "outputId": "636a5e3e-3267-46f6-bc4a-7610e1c86bfc"
      },
      "outputs": [
        {
          "output_type": "display_data",
          "data": {
            "text/plain": [
              "<Figure size 576x360 with 1 Axes>"
            ],
            "image/png": "[encoded data removed]"
          },
          "metadata": {
            "needs_background": "light"
          }
        }
      ],
      "source": [
        "# Distribution plot\n",
        "plt.figure(figsize=(8,5))\n",
        "ax = sns.distplot(data_fraud['age'],label='fraudulent',hist=False)\n",
        "ax = sns.distplot(data_proper['age'],label='non-fraudulent',hist=False)\n",
        "ax.set(xlabel='age')\n",
        "plt.show()"
      ]
    },
    {
      "cell_type": "code",
      "execution_count": 67,
      "metadata": {
        "colab": {
          "base_uri": "https://localhost:8080/",
          "height": 334
        },
        "id": "xu1s_X2ZQ2DU",
        "outputId": "08ae45b4-cc18-4f41-b514-011ec06a1cc0"
      },
      "outputs": [
        {
          "output_type": "display_data",
          "data": {
            "text/plain": [
              "<Figure size 576x360 with 1 Axes>"
            ],
            "image/png": "[encoded data removed]"
          },
          "metadata": {
            "needs_background": "light"
          }
        }
      ],
      "source": [
        "# Distribution plot\n",
        "plt.figure(figsize=(8,5))\n",
        "ax = sns.distplot(data_fraud['amt'],label='fraudulent',hist=False)\n",
        "ax = sns.distplot(data_proper['amt'],label='non fraudulent',hist=False)\n",
        "ax.set(xlabel='Transction Amount')\n",
        "plt.show()"
      ]
    },
    {
      "cell_type": "code",
      "execution_count": 68,
      "metadata": {
        "colab": {
          "base_uri": "https://localhost:8080/",
          "height": 295
        },
        "id": "UwoaonO9Q2GS",
        "outputId": "bcec7eec-da15-4367-cfdb-85c802e4325e"
      },
      "outputs": [
        {
          "output_type": "display_data",
          "data": {
            "text/plain": [
              "<Figure size 432x288 with 1 Axes>"
            ],
            "image/png": "[encoded data removed]"
          },
          "metadata": {
            "needs_background": "light"
          }
        }
      ],
      "source": [
        "# Scatter plot\n",
        "sns.scatterplot(df[\"amt\"], df[\"is_fraud\"],hue=df['is_fraud'])\n",
        "plt.title(\"amt vs is_fraud\")\n",
        "plt.show()"
      ]
    },
    {
      "cell_type": "code",
      "execution_count": 69,
      "metadata": {
        "colab": {
          "base_uri": "https://localhost:8080/",
          "height": 280
        },
        "id": "wrUWCusOQ_jp",
        "outputId": "1f070aa7-02c9-4bf9-a6a2-d480bbd38594"
      },
      "outputs": [
        {
          "output_type": "display_data",
          "data": {
            "text/plain": [
              "<Figure size 432x288 with 1 Axes>"
            ],
            "image/png": "[encoded data removed]"
          },
          "metadata": {
            "needs_background": "light"
          }
        }
      ],
      "source": [
        "#Boxplot\n",
        "sns.boxplot(x = \"is_fraud\", y = \"age\", data = df)\n",
        "plt.show()"
      ]
    },
    {
      "cell_type": "code",
      "execution_count": 70,
      "metadata": {
        "colab": {
          "base_uri": "https://localhost:8080/",
          "height": 265
        },
        "id": "EDkPkGhpQ_md",
        "outputId": "5e5ff467-33aa-4f37-fb05-c78e31eb02ca"
      },
      "outputs": [
        {
          "output_type": "display_data",
          "data": {
            "text/plain": [
              "<Figure size 432x288 with 1 Axes>"
            ],
            "image/png": "[encoded data removed]"
          },
          "metadata": {
            "needs_background": "light"
          }
        }
      ],
      "source": [
        "plt.plot(df_proper[\"amt\"], np.zeros_like(df_proper[\"amt\"]), \"o\")\n",
        "plt.plot(df_fraud[\"amt\"], np.zeros_like(df_fraud[\"amt\"]), \"o\")\n",
        "plt.show()"
      ]
    },
    {
      "cell_type": "code",
      "execution_count": 71,
      "metadata": {
        "colab": {
          "base_uri": "https://localhost:8080/",
          "height": 443
        },
        "id": "dZxIMrfTREMl",
        "outputId": "18010bb5-67a0-4c56-8eb1-f2c27d95680d"
      },
      "outputs": [
        {
          "output_type": "display_data",
          "data": {
            "text/plain": [
              "<Figure size 720x504 with 1 Axes>"
            ],
            "image/png": "[encoded data removed]"
          },
          "metadata": {
            "needs_background": "light"
          }
        }
      ],
      "source": [
        "plt.figure(figsize=(10,7))\n",
        "sns.violinplot(x=df['is_fraud'],y=df['amt'], data = df,hue='gender')\n",
        "plt.show()"
      ]
    },
    {
      "cell_type": "code",
      "execution_count": 72,
      "metadata": {
        "colab": {
          "base_uri": "https://localhost:8080/",
          "height": 443
        },
        "id": "jCZzJZWTREQv",
        "outputId": "75ebaa30-7ab4-484d-953a-e27c3cb59abe"
      },
      "outputs": [
        {
          "output_type": "display_data",
          "data": {
            "text/plain": [
              "<Figure size 720x504 with 1 Axes>"
            ],
            "image/png": "[encoded data removed]"
          },
          "metadata": {
            "needs_background": "light"
          }
        }
      ],
      "source": [
        "plt.figure(figsize=(10,7))\n",
        "sns.violinplot(x=df['is_fraud'],y=df['amt'], data = df, hue='gender',split=True)\n",
        "plt.show()"
      ]
    },
    {
      "cell_type": "code",
      "execution_count": 73,
      "metadata": {
        "colab": {
          "base_uri": "https://localhost:8080/",
          "height": 968
        },
        "id": "PfLI4ovFQ_pO",
        "outputId": "01d3de98-9a43-4e2b-9496-1564971af447"
      },
      "outputs": [
        {
          "output_type": "display_data",
          "data": {
            "text/plain": [
              "<Figure size 1440x1224 with 1 Axes>"
            ],
            "image/png": "[encoded data removed]"
          },
          "metadata": {
            "needs_background": "light"
          }
        }
      ],
      "source": [
        "plt.figure(figsize=(20,17))\n",
        "sns.violinplot(x=df['is_fraud'],y=df['amt'], data = df,inner='quartile',scale='count',bw=.7)\n",
        "plt.show()"
      ]
    },
    {
      "cell_type": "code",
      "execution_count": 74,
      "metadata": {
        "colab": {
          "base_uri": "https://localhost:8080/",
          "height": 341
        },
        "id": "lr_WuO08YKZR",
        "outputId": "f36bcace-5b02-42c9-a030-7d6f93e19e6e"
      },
      "outputs": [
        {
          "output_type": "display_data",
          "data": {
            "text/plain": [
              "<Figure size 1440x360 with 3 Axes>"
            ],
            "image/png": "[encoded data removed]"
          },
          "metadata": {
            "needs_background": "light"
          }
        }
      ],
      "source": [
        "fig, ax = plt.subplots(1,3,figsize=(20,5))\n",
        "ax[0].hist(df[df['amt']<=1500]['amt'], bins=50)\n",
        "ax[1].hist(df[(df['is_fraud']==0) & (df['amt']<=1500)]['amt'], bins=50)\n",
        "ax[2].hist(df[(df['is_fraud']==1) & (df['amt']<=1500)]['amt'], bins=50)\n",
        "\n",
        "ax[0].set_title('Overall Amt Distribution')\n",
        "ax[1].set_title('Non Fraud Amt Distribution')\n",
        "ax[2].set_title('Fraud Amt Distribution')\n",
        "\n",
        "ax[0].set_xlabel('Transaction Amount')\n",
        "ax[0].set_ylabel('No.of Transactions')\n",
        "\n",
        "ax[1].set_xlabel('Transaction Amount')\n",
        "ax[2].set_xlabel('Transaction Amount')\n",
        "plt.show()"
      ]
    },
    {
      "cell_type": "markdown",
      "metadata": {
        "id": "XP6NGPe-RhKb"
      },
      "source": [
        "# **Feature Scaling**"
      ]
    },
    {
      "cell_type": "code",
      "execution_count": 75,
      "metadata": {
        "id": "xO2uINDNRh2a"
      },
      "outputs": [],
      "source": [
        "df2=df1.drop(['cc_num','is_fraud'],axis=1)"
      ]
    },
    {
      "cell_type": "code",
      "execution_count": 76,
      "metadata": {
        "id": "jLaFvs7aRqqH"
      },
      "outputs": [],
      "source": [
        "from sklearn.preprocessing import MinMaxScaler, StandardScaler\n",
        "scaler = StandardScaler()\n",
        "standard_df = scaler.fit_transform(df2)\n",
        "standard_df = pd.DataFrame(standard_df)\n",
        "  \n",
        "scaler = MinMaxScaler()\n",
        "minmax_df = scaler.fit_transform(df2)\n",
        "minmax_df = pd.DataFrame(minmax_df)"
      ]
    },
    {
      "cell_type": "code",
      "execution_count": 77,
      "metadata": {
        "colab": {
          "base_uri": "https://localhost:8080/",
          "height": 364
        },
        "id": "jwPkgtSbRqsF",
        "outputId": "fed0e595-8ccd-4ece-8ae4-9ca3b830eae3"
      },
      "outputs": [
        {
          "output_type": "execute_result",
          "data": {
            "text/plain": [
              "<matplotlib.axes._subplots.AxesSubplot at 0x7ff79e943dd0>"
            ]
          },
          "metadata": {},
          "execution_count": 77
        },
        {
          "output_type": "display_data",
          "data": {
            "text/plain": [
              "<Figure size 1440x360 with 3 Axes>"
            ],
            "image/png": "[encoded data removed]"
          },
          "metadata": {
            "needs_background": "light"
          }
        }
      ],
      "source": [
        "# using KDE plot\n",
        "#Only some columns are opted out in order to speed up the process\n",
        "fig, (ax1,ax3,ax4) = plt.subplots(ncols = 3, figsize =(20, 5))\n",
        "ax1.set_title('Before Scaling')\n",
        "sns.kdeplot(df2['merch_long'], ax = ax1)\n",
        "sns.kdeplot(df2['merch_lat'], ax = ax1)\n",
        "sns.kdeplot(df2['city_pop'], ax = ax1)\n",
        "sns.kdeplot(df2['long'], ax = ax1)\n",
        "sns.kdeplot(df2['lat'], ax = ax1)\n",
        "\n",
        "ax3.set_title('After Standard Scaling')  \n",
        "sns.kdeplot(standard_df[9], ax = ax3)\n",
        "sns.kdeplot(standard_df[8], ax = ax3)\n",
        "sns.kdeplot(standard_df[7], ax = ax3)\n",
        "sns.kdeplot(standard_df[5], ax = ax3)\n",
        "sns.kdeplot(standard_df[4], ax = ax3)\n",
        "\n",
        "\n",
        "ax4.set_title('After Min-Max Scaling')  \n",
        "sns.kdeplot(minmax_df[9], ax = ax4)\n",
        "sns.kdeplot(minmax_df[8], ax = ax4)\n",
        "sns.kdeplot(minmax_df[7], ax = ax4)\n",
        "sns.kdeplot(minmax_df[5], ax = ax4)\n",
        "sns.kdeplot(minmax_df[4], ax = ax4)"
      ]
    },
    {
      "cell_type": "code",
      "execution_count": 78,
      "metadata": {
        "id": "o1RABnEaRqvo"
      },
      "outputs": [],
      "source": [
        "standard_df.columns = ['amt','gender','zip','lat','long','city_pop','unix_time','merch_lat','merch_long','age']"
      ]
    },
    {
      "cell_type": "code",
      "execution_count": 79,
      "metadata": {
        "id": "u8Mmrm2vxyVK"
      },
      "outputs": [],
      "source": [
        "standard_df['is_fraud']=df1['is_fraud']"
      ]
    },
    {
      "cell_type": "code",
      "execution_count": 80,
      "metadata": {
        "colab": {
          "base_uri": "https://localhost:8080/",
          "height": 689
        },
        "id": "CjDze-L9Rz2a",
        "outputId": "484e4277-bbd2-4311-8247-39c13615b00d"
      },
      "outputs": [
        {
          "output_type": "execute_result",
          "data": {
            "text/plain": [
              "              amt    gender       zip       lat      long  city_pop  \\\n",
              "0       -0.407826 -0.909206 -0.749136 -0.484420  0.657620 -0.282589   \n",
              "1        0.230039 -0.909206  1.872567  2.039120 -2.033870 -0.293670   \n",
              "2        0.934149  1.099861  1.281042  0.717754 -1.601537 -0.280406   \n",
              "3       -0.158132  1.099861  0.402753  1.515617 -1.590766 -0.287742   \n",
              "4       -0.177094  1.099861 -0.906090 -0.023035  0.782279 -0.293835   \n",
              "...           ...       ...       ...       ...       ...       ...   \n",
              "1296670 -0.341769  1.099861  1.336186 -0.161575 -1.617214 -0.293309   \n",
              "1296671 -0.116339  1.099861 -1.004368  0.143638  0.924207 -0.293832   \n",
              "1296672  0.221930  1.099861  1.469677 -1.102883 -1.133257 -0.291186   \n",
              "1296673  0.028375  1.099861  0.332996  0.948613 -0.895029 -0.290434   \n",
              "1296674 -0.412005  1.099861  0.411640  1.439314 -1.718754 -0.293441   \n",
              "\n",
              "         unix_time  merch_lat  merch_long       age  is_fraud  \n",
              "0        -1.858664  -0.494354    0.593864 -0.807932         0  \n",
              "1        -1.858662   2.078699   -2.030341 -0.290734         0  \n",
              "2        -1.858662   0.902849   -1.592323  0.686195         0  \n",
              "3        -1.858660   1.662886   -1.621848  0.398863         0  \n",
              "4        -1.858651   0.026941    0.841909 -0.692999         0  \n",
              "...            ...        ...         ...       ...       ...  \n",
              "1296670   1.757855  -0.331926   -1.558650  0.686195         0  \n",
              "1296671   1.757855   0.072321    0.869934 -0.348201         0  \n",
              "1296672   1.757856  -0.962433   -1.082272  0.341397         0  \n",
              "1296673   1.757861   0.832051   -0.945074 -0.405667         0  \n",
              "1296674   1.757862   1.571229   -1.739852 -1.267664         0  \n",
              "\n",
              "[1296675 rows x 11 columns]"
            ],
            "text/html": [
              "\n",
              "  <div id=\"df-39960b41-e2d8-44ef-a718-5b0884863089\">\n",
              "    <div class=\"colab-df-container\">\n",
              "      <div>\n",
              "<style scoped>\n",
              "    .dataframe tbody tr th:only-of-type {\n",
              "        vertical-align: middle;\n",
              "    }\n",
              "\n",
              "    .dataframe tbody tr th {\n",
              "        vertical-align: top;\n",
              "    }\n",
              "\n",
              "    .dataframe thead th {\n",
              "        text-align: right;\n",
              "    }\n",
              "</style>\n",
              "<table border=\"1\" class=\"dataframe\">\n",
              "  <thead>\n",
              "    <tr style=\"text-align: right;\">\n",
              "      <th></th>\n",
              "      <th>amt</th>\n",
              "      <th>gender</th>\n",
              "      <th>zip</th>\n",
              "      <th>lat</th>\n",
              "      <th>long</th>\n",
              "      <th>city_pop</th>\n",
              "      <th>unix_time</th>\n",
              "      <th>merch_lat</th>\n",
              "      <th>merch_long</th>\n",
              "      <th>age</th>\n",
              "      <th>is_fraud</th>\n",
              "    </tr>\n",
              "  </thead>\n",
              "  <tbody>\n",
              "    <tr>\n",
              "      <th>0</th>\n",
              "      <td>-0.407826</td>\n",
              "      <td>-0.909206</td>\n",
              "      <td>-0.749136</td>\n",
              "      <td>-0.484420</td>\n",
              "      <td>0.657620</td>\n",
              "      <td>-0.282589</td>\n",
              "      <td>-1.858664</td>\n",
              "      <td>-0.494354</td>\n",
              "      <td>0.593864</td>\n",
              "      <td>-0.807932</td>\n",
              "      <td>0</td>\n",
              "    </tr>\n",
              "    <tr>\n",
              "      <th>1</th>\n",
              "      <td>0.230039</td>\n",
              "      <td>-0.909206</td>\n",
              "      <td>1.872567</td>\n",
              "      <td>2.039120</td>\n",
              "      <td>-2.033870</td>\n",
              "      <td>-0.293670</td>\n",
              "      <td>-1.858662</td>\n",
              "      <td>2.078699</td>\n",
              "      <td>-2.030341</td>\n",
              "      <td>-0.290734</td>\n",
              "      <td>0</td>\n",
              "    </tr>\n",
              "    <tr>\n",
              "      <th>2</th>\n",
              "      <td>0.934149</td>\n",
              "      <td>1.099861</td>\n",
              "      <td>1.281042</td>\n",
              "      <td>0.717754</td>\n",
              "      <td>-1.601537</td>\n",
              "      <td>-0.280406</td>\n",
              "      <td>-1.858662</td>\n",
              "      <td>0.902849</td>\n",
              "      <td>-1.592323</td>\n",
              "      <td>0.686195</td>\n",
              "      <td>0</td>\n",
              "    </tr>\n",
              "    <tr>\n",
              "      <th>3</th>\n",
              "      <td>-0.158132</td>\n",
              "      <td>1.099861</td>\n",
              "      <td>0.402753</td>\n",
              "      <td>1.515617</td>\n",
              "      <td>-1.590766</td>\n",
              "      <td>-0.287742</td>\n",
              "      <td>-1.858660</td>\n",
              "      <td>1.662886</td>\n",
              "      <td>-1.621848</td>\n",
              "      <td>0.398863</td>\n",
              "      <td>0</td>\n",
              "    </tr>\n",
              "    <tr>\n",
              "      <th>4</th>\n",
              "      <td>-0.177094</td>\n",
              "      <td>1.099861</td>\n",
              "      <td>-0.906090</td>\n",
              "      <td>-0.023035</td>\n",
              "      <td>0.782279</td>\n",
              "      <td>-0.293835</td>\n",
              "      <td>-1.858651</td>\n",
              "      <td>0.026941</td>\n",
              "      <td>0.841909</td>\n",
              "      <td>-0.692999</td>\n",
              "      <td>0</td>\n",
              "    </tr>\n",
              "    <tr>\n",
              "      <th>...</th>\n",
              "      <td>...</td>\n",
              "      <td>...</td>\n",
              "      <td>...</td>\n",
              "      <td>...</td>\n",
              "      <td>...</td>\n",
              "      <td>...</td>\n",
              "      <td>...</td>\n",
              "      <td>...</td>\n",
              "      <td>...</td>\n",
              "      <td>...</td>\n",
              "      <td>...</td>\n",
              "    </tr>\n",
              "    <tr>\n",
              "      <th>1296670</th>\n",
              "      <td>-0.341769</td>\n",
              "      <td>1.099861</td>\n",
              "      <td>1.336186</td>\n",
              "      <td>-0.161575</td>\n",
              "      <td>-1.617214</td>\n",
              "      <td>-0.293309</td>\n",
              "      <td>1.757855</td>\n",
              "      <td>-0.331926</td>\n",
              "      <td>-1.558650</td>\n",
              "      <td>0.686195</td>\n",
              "      <td>0</td>\n",
              "    </tr>\n",
              "    <tr>\n",
              "      <th>1296671</th>\n",
              "      <td>-0.116339</td>\n",
              "      <td>1.099861</td>\n",
              "      <td>-1.004368</td>\n",
              "      <td>0.143638</td>\n",
              "      <td>0.924207</td>\n",
              "      <td>-0.293832</td>\n",
              "      <td>1.757855</td>\n",
              "      <td>0.072321</td>\n",
              "      <td>0.869934</td>\n",
              "      <td>-0.348201</td>\n",
              "      <td>0</td>\n",
              "    </tr>\n",
              "    <tr>\n",
              "      <th>1296672</th>\n",
              "      <td>0.221930</td>\n",
              "      <td>1.099861</td>\n",
              "      <td>1.469677</td>\n",
              "      <td>-1.102883</td>\n",
              "      <td>-1.133257</td>\n",
              "      <td>-0.291186</td>\n",
              "      <td>1.757856</td>\n",
              "      <td>-0.962433</td>\n",
              "      <td>-1.082272</td>\n",
              "      <td>0.341397</td>\n",
              "      <td>0</td>\n",
              "    </tr>\n",
              "    <tr>\n",
              "      <th>1296673</th>\n",
              "      <td>0.028375</td>\n",
              "      <td>1.099861</td>\n",
              "      <td>0.332996</td>\n",
              "      <td>0.948613</td>\n",
              "      <td>-0.895029</td>\n",
              "      <td>-0.290434</td>\n",
              "      <td>1.757861</td>\n",
              "      <td>0.832051</td>\n",
              "      <td>-0.945074</td>\n",
              "      <td>-0.405667</td>\n",
              "      <td>0</td>\n",
              "    </tr>\n",
              "    <tr>\n",
              "      <th>1296674</th>\n",
              "      <td>-0.412005</td>\n",
              "      <td>1.099861</td>\n",
              "      <td>0.411640</td>\n",
              "      <td>1.439314</td>\n",
              "      <td>-1.718754</td>\n",
              "      <td>-0.293441</td>\n",
              "      <td>1.757862</td>\n",
              "      <td>1.571229</td>\n",
              "      <td>-1.739852</td>\n",
              "      <td>-1.267664</td>\n",
              "      <td>0</td>\n",
              "    </tr>\n",
              "  </tbody>\n",
              "</table>\n",
              "<p>1296675 rows × 11 columns</p>\n",
              "</div>\n",
              "      <button class=\"colab-df-convert\" onclick=\"convertToInteractive('df-39960b41-e2d8-44ef-a718-5b0884863089')\"\n",
              "              title=\"Convert this dataframe to an interactive table.\"\n",
              "              style=\"display:none;\">\n",
              "        \n",
              "  <svg xmlns=\"http://www.w3.org/2000/svg\" height=\"24px\"viewBox=\"0 0 24 24\"\n",
              "       width=\"24px\">\n",
              "    <path d=\"M0 0h24v24H0V0z\" fill=\"none\"/>\n",
              "    <path d=\"M18.56 5.44l.94 2.06.94-2.06 2.06-.94-2.06-.94-.94-2.06-.94 2.06-2.06.94zm-11 1L8.5 8.5l.94-2.06 2.06-.94-2.06-.94L8.5 2.5l-.94 2.06-2.06.94zm10 10l.94 2.06.94-2.06 2.06-.94-2.06-.94-.94-2.06-.94 2.06-2.06.94z\"/><path d=\"M17.41 7.96l-1.37-1.37c-.4-.4-.92-.59-1.43-.59-.52 0-1.04.2-1.43.59L10.3 9.45l-7.72 7.72c-.78.78-.78 2.05 0 2.83L4 21.41c.39.39.9.59 1.41.59.51 0 1.02-.2 1.41-.59l7.78-7.78 2.81-2.81c.8-.78.8-2.07 0-2.86zM5.41 20L4 18.59l7.72-7.72 1.47 1.35L5.41 20z\"/>\n",
              "  </svg>\n",
              "      </button>\n",
              "      \n",
              "  <style>\n",
              "    .colab-df-container {\n",
              "      display:flex;\n",
              "      flex-wrap:wrap;\n",
              "      gap: 12px;\n",
              "    }\n",
              "\n",
              "    .colab-df-convert {\n",
              "      background-color: #E8F0FE;\n",
              "      border: none;\n",
              "      border-radius: 50%;\n",
              "      cursor: pointer;\n",
              "      display: none;\n",
              "      fill: #1967D2;\n",
              "      height: 32px;\n",
              "      padding: 0 0 0 0;\n",
              "      width: 32px;\n",
              "    }\n",
              "\n",
              "    .colab-df-convert:hover {\n",
              "      background-color: #E2EBFA;\n",
              "      box-shadow: 0px 1px 2px rgba(60, 64, 67, 0.3), 0px 1px 3px 1px rgba(60, 64, 67, 0.15);\n",
              "      fill: #174EA6;\n",
              "    }\n",
              "\n",
              "    [theme=dark] .colab-df-convert {\n",
              "      background-color: #3B4455;\n",
              "      fill: #D2E3FC;\n",
              "    }\n",
              "\n",
              "    [theme=dark] .colab-df-convert:hover {\n",
              "      background-color: #434B5C;\n",
              "      box-shadow: 0px 1px 3px 1px rgba(0, 0, 0, 0.15);\n",
              "      filter: drop-shadow(0px 1px 2px rgba(0, 0, 0, 0.3));\n",
              "      fill: #FFFFFF;\n",
              "    }\n",
              "  </style>\n",
              "\n",
              "      <script>\n",
              "        const buttonEl =\n",
              "          document.querySelector('#df-39960b41-e2d8-44ef-a718-5b0884863089 button.colab-df-convert');\n",
              "        buttonEl.style.display =\n",
              "          google.colab.kernel.accessAllowed ? 'block' : 'none';\n",
              "\n",
              "        async function convertToInteractive(key) {\n",
              "          const element = document.querySelector('#df-39960b41-e2d8-44ef-a718-5b0884863089');\n",
              "          const dataTable =\n",
              "            await google.colab.kernel.invokeFunction('convertToInteractive',\n",
              "                                                     [key], {});\n",
              "          if (!dataTable) return;\n",
              "\n",
              "          const docLinkHtml = 'Like what you see? Visit the ' +\n",
              "            '<a target=\"_blank\" href=https://colab.research.google.com/notebooks/data_table.ipynb>data table notebook</a>'\n",
              "            + ' to learn more about interactive tables.';\n",
              "          element.innerHTML = '';\n",
              "          dataTable['output_type'] = 'display_data';\n",
              "          await google.colab.output.renderOutput(dataTable, element);\n",
              "          const docLink = document.createElement('div');\n",
              "          docLink.innerHTML = docLinkHtml;\n",
              "          element.appendChild(docLink);\n",
              "        }\n",
              "      </script>\n",
              "    </div>\n",
              "  </div>\n",
              "  "
            ]
          },
          "metadata": {},
          "execution_count": 80
        },
        {
          "output_type": "stream",
          "name": "stdout",
          "text": [
            "Warning: total number of rows (1296675) exceeds max_rows (20000). Limiting to first (20000) rows.\n"
          ]
        }
      ],
      "source": [
        "standard_df"
      ]
    },
    {
      "cell_type": "markdown",
      "metadata": {
        "id": "KvZJO4BNStUO"
      },
      "source": [
        "###**Resampling using SMOTE(Synthetic Minority Over-sampling Technique)**"
      ]
    },
    {
      "cell_type": "code",
      "execution_count": 81,
      "metadata": {
        "id": "ep0JiGBUo8ol"
      },
      "outputs": [],
      "source": [
        "X = standard_df.drop('is_fraud',axis=1)\n",
        "y = standard_df['is_fraud']"
      ]
    },
    {
      "cell_type": "code",
      "execution_count": 82,
      "metadata": {
        "colab": {
          "base_uri": "https://localhost:8080/",
          "height": 332
        },
        "id": "O73EMv42pAz8",
        "outputId": "98abf288-bece-4d65-a4c5-36cbfb7d74bc"
      },
      "outputs": [
        {
          "output_type": "display_data",
          "data": {
            "text/plain": [
              "<Figure size 1080x360 with 2 Axes>"
            ],
            "image/png": "[encoded data removed]"
          },
          "metadata": {
            "needs_background": "light"
          }
        }
      ],
      "source": [
        "# Resampling via SMOTE\n",
        "from imblearn.over_sampling import SMOTE\n",
        "sm = SMOTE()\n",
        "X_smote, y_smote = sm.fit_resample(X, y.ravel())\n",
        "\n",
        "# to demonstrate the effect of SMOTE over imbalanced datasets\n",
        "fig, (ax1, ax2) = plt.subplots(ncols = 2, figsize =(15, 5))\n",
        "ax1.set_title('Before SMOTE')\n",
        "pd.Series(y).value_counts().plot.bar(ax=ax1)\n",
        "\n",
        "ax2.set_title('After SMOTE')  \n",
        "pd.Series(y_smote).value_counts().plot.bar(ax=ax2)\n",
        "\n",
        "plt.show()"
      ]
    },
    {
      "cell_type": "code",
      "execution_count": 83,
      "metadata": {
        "id": "cApyCbrppOgk"
      },
      "outputs": [],
      "source": [
        "X=pd.DataFrame(X_smote)\n",
        "X.columns =['amt','gender','zip','lat','long','city_pop','unix_time','merch_lat','merch_long','age']"
      ]
    },
    {
      "cell_type": "code",
      "execution_count": 84,
      "metadata": {
        "colab": {
          "base_uri": "https://localhost:8080/"
        },
        "id": "LG9yLAn65mO-",
        "outputId": "58dccd7b-bc4e-47c2-e2c8-9cc6192a01fb"
      },
      "outputs": [
        {
          "output_type": "execute_result",
          "data": {
            "text/plain": [
              "0          0\n",
              "1          0\n",
              "2          0\n",
              "3          0\n",
              "4          0\n",
              "          ..\n",
              "2578333    1\n",
              "2578334    1\n",
              "2578335    1\n",
              "2578336    1\n",
              "2578337    1\n",
              "Length: 2578338, dtype: int64"
            ]
          },
          "metadata": {},
          "execution_count": 84
        }
      ],
      "source": [
        "y = pd.Series(y_smote)\n",
        "y"
      ]
    },
    {
      "cell_type": "code",
      "execution_count": 85,
      "metadata": {
        "colab": {
          "base_uri": "https://localhost:8080/"
        },
        "id": "5AJpxothpST1",
        "outputId": "125b8d85-b2bd-4e1a-bc8d-4072e24e04ce"
      },
      "outputs": [
        {
          "output_type": "execute_result",
          "data": {
            "text/plain": [
              "array([0, 1])"
            ]
          },
          "metadata": {},
          "execution_count": 85
        }
      ],
      "source": [
        "np.unique(y)"
      ]
    },
    {
      "cell_type": "code",
      "execution_count": 86,
      "metadata": {
        "colab": {
          "base_uri": "https://localhost:8080/"
        },
        "id": "p9UjgU7-pU1k",
        "outputId": "86909597-be43-4e0d-8b5c-d284c1fcecd2"
      },
      "outputs": [
        {
          "output_type": "execute_result",
          "data": {
            "text/plain": [
              "array([1289169, 1289169])"
            ]
          },
          "metadata": {},
          "execution_count": 86
        }
      ],
      "source": [
        "values, counts = np.unique(y, return_counts=True)\n",
        "counts"
      ]
    },
    {
      "cell_type": "markdown",
      "metadata": {
        "id": "LpznfpJpZ0xj"
      },
      "source": [
        "## **EDA**"
      ]
    },
    {
      "cell_type": "markdown",
      "metadata": {
        "id": "KNkp6CgHZ2aZ"
      },
      "source": [
        "# **Descriptive Statistics**"
      ]
    },
    {
      "cell_type": "code",
      "execution_count": 87,
      "metadata": {
        "colab": {
          "base_uri": "https://localhost:8080/"
        },
        "id": "MNX8dDnqZ_e-",
        "outputId": "65fa32aa-fbdd-4569-cf0a-71272d87a36c"
      },
      "outputs": [
        {
          "output_type": "stream",
          "name": "stdout",
          "text": [
            "Means of the fraud and proper transactions:\n",
            "Mean of transaction amount of proper transactions:  67.6671098126002\n",
            "Mean of transaction amount of fraud transactions:  531.3200919264589\n"
          ]
        }
      ],
      "source": [
        "# MEAN\n",
        "print(\"Means of the fraud and proper transactions:\")\n",
        "print(\"Mean of transaction amount of proper transactions: \",np.mean(df_proper[\"amt\"]))\n",
        "print(\"Mean of transaction amount of fraud transactions: \",np.mean(df_fraud[\"amt\"]))"
      ]
    },
    {
      "cell_type": "code",
      "execution_count": 88,
      "metadata": {
        "colab": {
          "base_uri": "https://localhost:8080/"
        },
        "id": "9DlXNib5Z60T",
        "outputId": "933b696c-ad12-4bc5-a086-021a8ed3c56b"
      },
      "outputs": [
        {
          "output_type": "stream",
          "name": "stdout",
          "text": [
            "Median of the fraud and proper transactions:\n",
            "Median of transaction amount of proper transactions:  47.28\n",
            "Median of transaction amount of fraud transactions:  396.505\n"
          ]
        }
      ],
      "source": [
        "# MEDIAN\n",
        "print(\"Median of the fraud and proper transactions:\")\n",
        "print(\"Median of transaction amount of proper transactions: \", np.median(df_proper[\"amt\"]))\n",
        "print(\"Median of transaction amount of fraud transactions: \", np.median(df_fraud[\"amt\"]))"
      ]
    },
    {
      "cell_type": "code",
      "execution_count": 89,
      "metadata": {
        "colab": {
          "base_uri": "https://localhost:8080/"
        },
        "id": "-9ooDZQQaFvM",
        "outputId": "c256a766-9875-45a9-a3f2-2f70afce7900"
      },
      "outputs": [
        {
          "output_type": "stream",
          "name": "stdout",
          "text": [
            "Standard Deviation of the fraud and proper transactions:\n",
            "Std-Deviation of transaction amount of proper transactions:  154.00791081459795\n",
            "Std-Deviation of transaction amount of fraud transactions:  390.53405233419215\n"
          ]
        }
      ],
      "source": [
        "# STANDARD DEVIATION\n",
        "print(\"Standard Deviation of the fraud and proper transactions:\")\n",
        "print(\"Std-Deviation of transaction amount of proper transactions: \", np.std(df_proper[\"amt\"]))\n",
        "print(\"Std-Deviation of transaction amount of fraud transactions: \", np.std(df_fraud[\"amt\"]))"
      ]
    },
    {
      "cell_type": "code",
      "execution_count": 90,
      "metadata": {
        "colab": {
          "base_uri": "https://localhost:8080/"
        },
        "id": "ziDaDsy5aJpT",
        "outputId": "d3639dda-f078-40b5-8101-861c4ac7c0cb"
      },
      "outputs": [
        {
          "output_type": "stream",
          "name": "stdout",
          "text": [
            "Variance of the fraud and proper transactions:\n",
            "Variance of transaction amount of proper transactions:  23718.436593477156\n",
            "Variance of transaction amount of fraud transactions:  152516.84603256552\n"
          ]
        }
      ],
      "source": [
        "# VARIANCE\n",
        "print(\"Variance of the fraud and proper transactions:\")\n",
        "print(\"Variance of transaction amount of proper transactions: \", np.var(df_proper[\"amt\"]))\n",
        "print(\"Variance of transaction amount of fraud transactions: \", np.var(df_fraud[\"amt\"]))"
      ]
    },
    {
      "cell_type": "code",
      "execution_count": 91,
      "metadata": {
        "colab": {
          "base_uri": "https://localhost:8080/"
        },
        "id": "zWDWiSmSeMJz",
        "outputId": "90663bdb-011b-4602-b6aa-ba6bd2796f5f"
      },
      "outputs": [
        {
          "output_type": "execute_result",
          "data": {
            "text/plain": [
              "5369.470710133239"
            ]
          },
          "metadata": {},
          "execution_count": 91
        }
      ],
      "source": [
        "# KURTOSIS \n",
        "#Proper\n",
        "df.loc[df['is_fraud']==0,'amt'].kurt()"
      ]
    },
    {
      "cell_type": "code",
      "execution_count": 92,
      "metadata": {
        "colab": {
          "base_uri": "https://localhost:8080/"
        },
        "id": "7cpykRVheAET",
        "outputId": "4cb375c6-de86-4b50-e4f0-9630b2c8e646"
      },
      "outputs": [
        {
          "output_type": "execute_result",
          "data": {
            "text/plain": [
              "-1.4998715572316823"
            ]
          },
          "metadata": {},
          "execution_count": 92
        }
      ],
      "source": [
        "#Fraud\n",
        "df.loc[df['is_fraud']==1,'amt'].kurt()"
      ]
    },
    {
      "cell_type": "code",
      "execution_count": 93,
      "metadata": {
        "colab": {
          "base_uri": "https://localhost:8080/"
        },
        "id": "eQQXtS31eOi4",
        "outputId": "abb81354-2d8c-452a-d169-d21ca6729b17"
      },
      "outputs": [
        {
          "output_type": "execute_result",
          "data": {
            "text/plain": [
              "0.02584608402403506"
            ]
          },
          "metadata": {},
          "execution_count": 93
        }
      ],
      "source": [
        "# SKEWNESS\n",
        "# Fraud\n",
        "df.loc[df['is_fraud']==1,'amt'].skew()"
      ]
    },
    {
      "cell_type": "code",
      "execution_count": 94,
      "metadata": {
        "colab": {
          "base_uri": "https://localhost:8080/"
        },
        "id": "19e91vk-eP_i",
        "outputId": "563a981a-fd65-4d62-d370-caff32e280b5"
      },
      "outputs": [
        {
          "output_type": "execute_result",
          "data": {
            "text/plain": [
              "47.523765335989694"
            ]
          },
          "metadata": {},
          "execution_count": 94
        }
      ],
      "source": [
        "#Proper\n",
        "df.loc[df['is_fraud']==0,'amt'].skew()"
      ]
    },
    {
      "cell_type": "code",
      "execution_count": 95,
      "metadata": {
        "id": "mP4nJ1Qqa_cF"
      },
      "outputs": [],
      "source": [
        "var = standard_df.columns"
      ]
    },
    {
      "cell_type": "code",
      "execution_count": 96,
      "metadata": {
        "colab": {
          "base_uri": "https://localhost:8080/"
        },
        "id": "OpWMynmta_eC",
        "outputId": "aff7cba7-c80d-427b-bd43-1d93220f128b"
      },
      "outputs": [
        {
          "output_type": "execute_result",
          "data": {
            "text/plain": [
              "Index(['amt', 'gender', 'zip', 'lat', 'long', 'city_pop', 'unix_time',\n",
              "       'merch_lat', 'merch_long', 'age', 'is_fraud'],\n",
              "      dtype='object')"
            ]
          },
          "metadata": {},
          "execution_count": 96
        }
      ],
      "source": [
        "var"
      ]
    },
    {
      "cell_type": "code",
      "execution_count": 97,
      "metadata": {
        "colab": {
          "base_uri": "https://localhost:8080/",
          "height": 416
        },
        "id": "ZdYfbu5Ka_ga",
        "outputId": "ab8000ef-972b-413b-cf49-1cd7e9dab960"
      },
      "outputs": [
        {
          "output_type": "execute_result",
          "data": {
            "text/plain": [
              "Text(0.5, 1.0, 'Means')"
            ]
          },
          "metadata": {},
          "execution_count": 97
        },
        {
          "output_type": "display_data",
          "data": {
            "text/plain": [
              "<Figure size 1040x480 with 1 Axes>"
            ],
            "image/png": "[encoded data removed]"
          },
          "metadata": {
            "needs_background": "light"
          }
        }
      ],
      "source": [
        "plt.figure(figsize=(52,24), dpi=20)\n",
        "x=sns.barplot(x=var, y=standard_df[var].mean())\n",
        "plt.xlabel('Column')\n",
        "plt.ylabel('Mean')\n",
        "plt.title('Means')"
      ]
    },
    {
      "cell_type": "code",
      "execution_count": 98,
      "metadata": {
        "colab": {
          "base_uri": "https://localhost:8080/",
          "height": 376
        },
        "id": "n4PhmiDhbHaM",
        "outputId": "6c1692fd-2f60-4fe6-8494-59bd46c7616c"
      },
      "outputs": [
        {
          "output_type": "execute_result",
          "data": {
            "text/plain": [
              "Text(0.5, 1.0, 'Standard Deviations')"
            ]
          },
          "metadata": {},
          "execution_count": 98
        },
        {
          "output_type": "display_data",
          "data": {
            "text/plain": [
              "<Figure size 840x420 with 1 Axes>"
            ],
            "image/png": "[encoded data removed]"
          },
          "metadata": {
            "needs_background": "light"
          }
        }
      ],
      "source": [
        "plt.figure(figsize=(28,14), dpi=30)\n",
        "sns.barplot(x=var, y=standard_df[var].std(), color='darkred')\n",
        "plt.xlabel('Column')\n",
        "plt.ylabel('Standard Deviation')\n",
        "plt.title('Standard Deviations')"
      ]
    },
    {
      "cell_type": "code",
      "execution_count": 99,
      "metadata": {
        "colab": {
          "base_uri": "https://localhost:8080/",
          "height": 489
        },
        "id": "hdxUKZNnbHdn",
        "outputId": "ef5c2b52-afdc-421b-8b77-a98ff69089ae"
      },
      "outputs": [
        {
          "output_type": "execute_result",
          "data": {
            "text/plain": [
              "Text(0.5, 1.0, 'Medians')"
            ]
          },
          "metadata": {},
          "execution_count": 99
        },
        {
          "output_type": "display_data",
          "data": {
            "text/plain": [
              "<Figure size 1120x560 with 1 Axes>"
            ],
            "image/png": "[encoded data removed]"
          },
          "metadata": {
            "needs_background": "light"
          }
        }
      ],
      "source": [
        "plt.figure(figsize=(28,14), dpi=40)\n",
        "sns.barplot(x=var, y=standard_df[var].median(), color='darkblue')\n",
        "plt.xlabel('Column')\n",
        "plt.ylabel('Median')\n",
        "plt.title('Medians')"
      ]
    },
    {
      "cell_type": "code",
      "execution_count": 100,
      "metadata": {
        "colab": {
          "base_uri": "https://localhost:8080/",
          "height": 489
        },
        "id": "MySZbicWa_j-",
        "outputId": "d18b3a6b-f276-4644-b277-2fdc87d015e4"
      },
      "outputs": [
        {
          "output_type": "execute_result",
          "data": {
            "text/plain": [
              "Text(0.5, 1.0, 'IQRs')"
            ]
          },
          "metadata": {},
          "execution_count": 100
        },
        {
          "output_type": "display_data",
          "data": {
            "text/plain": [
              "<Figure size 1120x560 with 1 Axes>"
            ],
            "image/png": "[encoded data removed]"
          },
          "metadata": {
            "needs_background": "light"
          }
        }
      ],
      "source": [
        "plt.figure(figsize=(28,14), dpi=40)\n",
        "sns.barplot(x=var, y=standard_df[var].quantile(0.75) - standard_df[var].quantile(0.25), color='darkred')\n",
        "plt.xlabel('Column')\n",
        "plt.ylabel('IQR')\n",
        "plt.title('IQRs')"
      ]
    },
    {
      "cell_type": "code",
      "execution_count": 101,
      "metadata": {
        "colab": {
          "base_uri": "https://localhost:8080/",
          "height": 602
        },
        "id": "F3-VhoX8bPGs",
        "outputId": "b2bf089a-d6c5-4ebd-9d54-465866cc7a4e"
      },
      "outputs": [
        {
          "output_type": "execute_result",
          "data": {
            "text/plain": [
              "Text(0.5, 1.0, 'Skewnesses')"
            ]
          },
          "metadata": {},
          "execution_count": 101
        },
        {
          "output_type": "display_data",
          "data": {
            "text/plain": [
              "<Figure size 840x720 with 1 Axes>"
            ],
            "image/png": "[encoded data removed]"
          },
          "metadata": {
            "needs_background": "light"
          }
        }
      ],
      "source": [
        "plt.figure(figsize=(28,24), dpi=30)\n",
        "sns.barplot(x=var, y=standard_df[var].skew(), color='darkgreen')\n",
        "plt.xlabel('Column')\n",
        "plt.ylabel('Skewness')\n",
        "plt.title('Skewnesses')"
      ]
    },
    {
      "cell_type": "code",
      "execution_count": 102,
      "metadata": {
        "colab": {
          "base_uri": "https://localhost:8080/",
          "height": 489
        },
        "id": "ZfMXVcqmbPKL",
        "outputId": "c699ba78-6cc4-4549-835a-ddbab4d18724"
      },
      "outputs": [
        {
          "output_type": "execute_result",
          "data": {
            "text/plain": [
              "Text(0.5, 1.0, 'Kurtoses')"
            ]
          },
          "metadata": {},
          "execution_count": 102
        },
        {
          "output_type": "display_data",
          "data": {
            "text/plain": [
              "<Figure size 1120x560 with 1 Axes>"
            ],
            "image/png": "[encoded data removed]"
          },
          "metadata": {
            "needs_background": "light"
          }
        }
      ],
      "source": [
        "plt.figure(figsize=(28,14), dpi=40)\n",
        "plt.yscale('log')\n",
        "sns.barplot(x=var, y=standard_df[var].skew(), color='darkorange')\n",
        "plt.xlabel('Column')\n",
        "plt.ylabel('Kurtosis')\n",
        "plt.title('Kurtoses')"
      ]
    },
    {
      "cell_type": "markdown",
      "metadata": {
        "id": "LZDzzNGRugRK"
      },
      "source": [
        "# **Feature Selection using Correlation**"
      ]
    },
    {
      "cell_type": "code",
      "execution_count": 103,
      "metadata": {
        "id": "3VAMCltbuk5t"
      },
      "outputs": [],
      "source": [
        "from sklearn.model_selection import train_test_split\n",
        "X_train, X_test, y_train, y_test = train_test_split(X,y,test_size=0.2)"
      ]
    },
    {
      "cell_type": "code",
      "execution_count": 104,
      "metadata": {
        "colab": {
          "base_uri": "https://localhost:8080/"
        },
        "id": "b9OI7or-1VAv",
        "outputId": "d7b29e90-945a-41cc-e5cd-f846d22cb5da"
      },
      "outputs": [
        {
          "output_type": "execute_result",
          "data": {
            "text/plain": [
              "pandas.core.frame.DataFrame"
            ]
          },
          "metadata": {},
          "execution_count": 104
        }
      ],
      "source": [
        "type(X_train)"
      ]
    },
    {
      "cell_type": "code",
      "execution_count": 105,
      "metadata": {
        "colab": {
          "base_uri": "https://localhost:8080/",
          "height": 338
        },
        "id": "uVpaCq1U0Rzq",
        "outputId": "315a3c43-1d12-4d43-be13-0878a1cfdaa8"
      },
      "outputs": [
        {
          "output_type": "execute_result",
          "data": {
            "text/plain": [
              "                 amt    gender       zip       lat      long  city_pop  \\\n",
              "amt         1.000000  0.081503 -0.019054  0.009378  0.017834  0.021076   \n",
              "gender      0.081503  1.000000 -0.047247  0.056957  0.035590 -0.027685   \n",
              "zip        -0.019054 -0.047247  1.000000 -0.086022 -0.911185  0.100884   \n",
              "lat         0.009378  0.056957 -0.086022  1.000000 -0.064116 -0.168800   \n",
              "long        0.017834  0.035590 -0.911185 -0.064116  1.000000 -0.069237   \n",
              "city_pop    0.021076 -0.027685  0.100884 -0.168800 -0.069237  1.000000   \n",
              "unix_time  -0.007442  0.008986  0.007300 -0.018982 -0.003552  0.002449   \n",
              "merch_lat   0.008629  0.056509 -0.085263  0.994665 -0.064229 -0.169033   \n",
              "merch_long  0.017972  0.035602 -0.910470 -0.064050  0.999288 -0.069304   \n",
              "age         0.067638 -0.000852  0.003637  0.021809 -0.019506 -0.064300   \n",
              "\n",
              "            unix_time  merch_lat  merch_long       age  \n",
              "amt         -0.007442   0.008629    0.017972  0.067638  \n",
              "gender       0.008986   0.056509    0.035602 -0.000852  \n",
              "zip          0.007300  -0.085263   -0.910470  0.003637  \n",
              "lat         -0.018982   0.994665   -0.064050  0.021809  \n",
              "long        -0.003552  -0.064229    0.999288 -0.019506  \n",
              "city_pop     0.002449  -0.169033   -0.069304 -0.064300  \n",
              "unix_time    1.000000  -0.019245   -0.003552  0.012273  \n",
              "merch_lat   -0.019245   1.000000   -0.064131  0.021372  \n",
              "merch_long  -0.003552  -0.064131    1.000000 -0.019272  \n",
              "age          0.012273   0.021372   -0.019272  1.000000  "
            ],
            "text/html": [
              "\n",
              "  <div id=\"df-e89e5dd7-d9a3-4b09-986b-e449b5d76f7c\">\n",
              "    <div class=\"colab-df-container\">\n",
              "      <div>\n",
              "<style scoped>\n",
              "    .dataframe tbody tr th:only-of-type {\n",
              "        vertical-align: middle;\n",
              "    }\n",
              "\n",
              "    .dataframe tbody tr th {\n",
              "        vertical-align: top;\n",
              "    }\n",
              "\n",
              "    .dataframe thead th {\n",
              "        text-align: right;\n",
              "    }\n",
              "</style>\n",
              "<table border=\"1\" class=\"dataframe\">\n",
              "  <thead>\n",
              "    <tr style=\"text-align: right;\">\n",
              "      <th></th>\n",
              "      <th>amt</th>\n",
              "      <th>gender</th>\n",
              "      <th>zip</th>\n",
              "      <th>lat</th>\n",
              "      <th>long</th>\n",
              "      <th>city_pop</th>\n",
              "      <th>unix_time</th>\n",
              "      <th>merch_lat</th>\n",
              "      <th>merch_long</th>\n",
              "      <th>age</th>\n",
              "    </tr>\n",
              "  </thead>\n",
              "  <tbody>\n",
              "    <tr>\n",
              "      <th>amt</th>\n",
              "      <td>1.000000</td>\n",
              "      <td>0.081503</td>\n",
              "      <td>-0.019054</td>\n",
              "      <td>0.009378</td>\n",
              "      <td>0.017834</td>\n",
              "      <td>0.021076</td>\n",
              "      <td>-0.007442</td>\n",
              "      <td>0.008629</td>\n",
              "      <td>0.017972</td>\n",
              "      <td>0.067638</td>\n",
              "    </tr>\n",
              "    <tr>\n",
              "      <th>gender</th>\n",
              "      <td>0.081503</td>\n",
              "      <td>1.000000</td>\n",
              "      <td>-0.047247</td>\n",
              "      <td>0.056957</td>\n",
              "      <td>0.035590</td>\n",
              "      <td>-0.027685</td>\n",
              "      <td>0.008986</td>\n",
              "      <td>0.056509</td>\n",
              "      <td>0.035602</td>\n",
              "      <td>-0.000852</td>\n",
              "    </tr>\n",
              "    <tr>\n",
              "      <th>zip</th>\n",
              "      <td>-0.019054</td>\n",
              "      <td>-0.047247</td>\n",
              "      <td>1.000000</td>\n",
              "      <td>-0.086022</td>\n",
              "      <td>-0.911185</td>\n",
              "      <td>0.100884</td>\n",
              "      <td>0.007300</td>\n",
              "      <td>-0.085263</td>\n",
              "      <td>-0.910470</td>\n",
              "      <td>0.003637</td>\n",
              "    </tr>\n",
              "    <tr>\n",
              "      <th>lat</th>\n",
              "      <td>0.009378</td>\n",
              "      <td>0.056957</td>\n",
              "      <td>-0.086022</td>\n",
              "      <td>1.000000</td>\n",
              "      <td>-0.064116</td>\n",
              "      <td>-0.168800</td>\n",
              "      <td>-0.018982</td>\n",
              "      <td>0.994665</td>\n",
              "      <td>-0.064050</td>\n",
              "      <td>0.021809</td>\n",
              "    </tr>\n",
              "    <tr>\n",
              "      <th>long</th>\n",
              "      <td>0.017834</td>\n",
              "      <td>0.035590</td>\n",
              "      <td>-0.911185</td>\n",
              "      <td>-0.064116</td>\n",
              "      <td>1.000000</td>\n",
              "      <td>-0.069237</td>\n",
              "      <td>-0.003552</td>\n",
              "      <td>-0.064229</td>\n",
              "      <td>0.999288</td>\n",
              "      <td>-0.019506</td>\n",
              "    </tr>\n",
              "    <tr>\n",
              "      <th>city_pop</th>\n",
              "      <td>0.021076</td>\n",
              "      <td>-0.027685</td>\n",
              "      <td>0.100884</td>\n",
              "      <td>-0.168800</td>\n",
              "      <td>-0.069237</td>\n",
              "      <td>1.000000</td>\n",
              "      <td>0.002449</td>\n",
              "      <td>-0.169033</td>\n",
              "      <td>-0.069304</td>\n",
              "      <td>-0.064300</td>\n",
              "    </tr>\n",
              "    <tr>\n",
              "      <th>unix_time</th>\n",
              "      <td>-0.007442</td>\n",
              "      <td>0.008986</td>\n",
              "      <td>0.007300</td>\n",
              "      <td>-0.018982</td>\n",
              "      <td>-0.003552</td>\n",
              "      <td>0.002449</td>\n",
              "      <td>1.000000</td>\n",
              "      <td>-0.019245</td>\n",
              "      <td>-0.003552</td>\n",
              "      <td>0.012273</td>\n",
              "    </tr>\n",
              "    <tr>\n",
              "      <th>merch_lat</th>\n",
              "      <td>0.008629</td>\n",
              "      <td>0.056509</td>\n",
              "      <td>-0.085263</td>\n",
              "      <td>0.994665</td>\n",
              "      <td>-0.064229</td>\n",
              "      <td>-0.169033</td>\n",
              "      <td>-0.019245</td>\n",
              "      <td>1.000000</td>\n",
              "      <td>-0.064131</td>\n",
              "      <td>0.021372</td>\n",
              "    </tr>\n",
              "    <tr>\n",
              "      <th>merch_long</th>\n",
              "      <td>0.017972</td>\n",
              "      <td>0.035602</td>\n",
              "      <td>-0.910470</td>\n",
              "      <td>-0.064050</td>\n",
              "      <td>0.999288</td>\n",
              "      <td>-0.069304</td>\n",
              "      <td>-0.003552</td>\n",
              "      <td>-0.064131</td>\n",
              "      <td>1.000000</td>\n",
              "      <td>-0.019272</td>\n",
              "    </tr>\n",
              "    <tr>\n",
              "      <th>age</th>\n",
              "      <td>0.067638</td>\n",
              "      <td>-0.000852</td>\n",
              "      <td>0.003637</td>\n",
              "      <td>0.021809</td>\n",
              "      <td>-0.019506</td>\n",
              "      <td>-0.064300</td>\n",
              "      <td>0.012273</td>\n",
              "      <td>0.021372</td>\n",
              "      <td>-0.019272</td>\n",
              "      <td>1.000000</td>\n",
              "    </tr>\n",
              "  </tbody>\n",
              "</table>\n",
              "</div>\n",
              "      <button class=\"colab-df-convert\" onclick=\"convertToInteractive('df-e89e5dd7-d9a3-4b09-986b-e449b5d76f7c')\"\n",
              "              title=\"Convert this dataframe to an interactive table.\"\n",
              "              style=\"display:none;\">\n",
              "        \n",
              "  <svg xmlns=\"http://www.w3.org/2000/svg\" height=\"24px\"viewBox=\"0 0 24 24\"\n",
              "       width=\"24px\">\n",
              "    <path d=\"M0 0h24v24H0V0z\" fill=\"none\"/>\n",
              "    <path d=\"M18.56 5.44l.94 2.06.94-2.06 2.06-.94-2.06-.94-.94-2.06-.94 2.06-2.06.94zm-11 1L8.5 8.5l.94-2.06 2.06-.94-2.06-.94L8.5 2.5l-.94 2.06-2.06.94zm10 10l.94 2.06.94-2.06 2.06-.94-2.06-.94-.94-2.06-.94 2.06-2.06.94z\"/><path d=\"M17.41 7.96l-1.37-1.37c-.4-.4-.92-.59-1.43-.59-.52 0-1.04.2-1.43.59L10.3 9.45l-7.72 7.72c-.78.78-.78 2.05 0 2.83L4 21.41c.39.39.9.59 1.41.59.51 0 1.02-.2 1.41-.59l7.78-7.78 2.81-2.81c.8-.78.8-2.07 0-2.86zM5.41 20L4 18.59l7.72-7.72 1.47 1.35L5.41 20z\"/>\n",
              "  </svg>\n",
              "      </button>\n",
              "      \n",
              "  <style>\n",
              "    .colab-df-container {\n",
              "      display:flex;\n",
              "      flex-wrap:wrap;\n",
              "      gap: 12px;\n",
              "    }\n",
              "\n",
              "    .colab-df-convert {\n",
              "      background-color: #E8F0FE;\n",
              "      border: none;\n",
              "      border-radius: 50%;\n",
              "      cursor: pointer;\n",
              "      display: none;\n",
              "      fill: #1967D2;\n",
              "      height: 32px;\n",
              "      padding: 0 0 0 0;\n",
              "      width: 32px;\n",
              "    }\n",
              "\n",
              "    .colab-df-convert:hover {\n",
              "      background-color: #E2EBFA;\n",
              "      box-shadow: 0px 1px 2px rgba(60, 64, 67, 0.3), 0px 1px 3px 1px rgba(60, 64, 67, 0.15);\n",
              "      fill: #174EA6;\n",
              "    }\n",
              "\n",
              "    [theme=dark] .colab-df-convert {\n",
              "      background-color: #3B4455;\n",
              "      fill: #D2E3FC;\n",
              "    }\n",
              "\n",
              "    [theme=dark] .colab-df-convert:hover {\n",
              "      background-color: #434B5C;\n",
              "      box-shadow: 0px 1px 3px 1px rgba(0, 0, 0, 0.15);\n",
              "      filter: drop-shadow(0px 1px 2px rgba(0, 0, 0, 0.3));\n",
              "      fill: #FFFFFF;\n",
              "    }\n",
              "  </style>\n",
              "\n",
              "      <script>\n",
              "        const buttonEl =\n",
              "          document.querySelector('#df-e89e5dd7-d9a3-4b09-986b-e449b5d76f7c button.colab-df-convert');\n",
              "        buttonEl.style.display =\n",
              "          google.colab.kernel.accessAllowed ? 'block' : 'none';\n",
              "\n",
              "        async function convertToInteractive(key) {\n",
              "          const element = document.querySelector('#df-e89e5dd7-d9a3-4b09-986b-e449b5d76f7c');\n",
              "          const dataTable =\n",
              "            await google.colab.kernel.invokeFunction('convertToInteractive',\n",
              "                                                     [key], {});\n",
              "          if (!dataTable) return;\n",
              "\n",
              "          const docLinkHtml = 'Like what you see? Visit the ' +\n",
              "            '<a target=\"_blank\" href=https://colab.research.google.com/notebooks/data_table.ipynb>data table notebook</a>'\n",
              "            + ' to learn more about interactive tables.';\n",
              "          element.innerHTML = '';\n",
              "          dataTable['output_type'] = 'display_data';\n",
              "          await google.colab.output.renderOutput(dataTable, element);\n",
              "          const docLink = document.createElement('div');\n",
              "          docLink.innerHTML = docLinkHtml;\n",
              "          element.appendChild(docLink);\n",
              "        }\n",
              "      </script>\n",
              "    </div>\n",
              "  </div>\n",
              "  "
            ]
          },
          "metadata": {},
          "execution_count": 105
        }
      ],
      "source": [
        "X_train.corr()"
      ]
    },
    {
      "cell_type": "code",
      "execution_count": 106,
      "metadata": {
        "colab": {
          "base_uri": "https://localhost:8080/",
          "height": 535
        },
        "id": "Id86sezu80ZF",
        "outputId": "065253e1-9b4a-4668-e250-45ec88d3d6d0"
      },
      "outputs": [
        {
          "output_type": "display_data",
          "data": {
            "text/plain": [
              "<Figure size 720x576 with 2 Axes>"
            ],
            "image/png": "[encoded data removed]"
          },
          "metadata": {
            "needs_background": "light"
          }
        }
      ],
      "source": [
        "import seaborn as sns\n",
        "#Using Pearson Correlation\n",
        "plt.figure(figsize=(10,8))\n",
        "cor = X_train.corr()\n",
        "sns.heatmap(cor, annot=True, cmap=plt.cm.CMRmap_r)\n",
        "plt.show()"
      ]
    },
    {
      "cell_type": "code",
      "execution_count": 107,
      "metadata": {
        "id": "n_xnKyhj0Sgi"
      },
      "outputs": [],
      "source": [
        "def correlation(dataset, threshold):\n",
        "    col_corr = set()  # Set of all the names of correlated columns\n",
        "    corr_matrix = dataset.corr()\n",
        "    for i in range(len(corr_matrix.columns)):\n",
        "        for j in range(i):\n",
        "            if abs(corr_matrix.iloc[i, j]) > threshold: # we are interested in absolute coeff value\n",
        "                colname = corr_matrix.columns[i]  # getting the name of column\n",
        "                col_corr.add(colname)\n",
        "    return col_corr"
      ]
    },
    {
      "cell_type": "code",
      "execution_count": 108,
      "metadata": {
        "colab": {
          "base_uri": "https://localhost:8080/"
        },
        "id": "05cvHZRD-uOC",
        "outputId": "c07dcd19-1267-4921-8c8e-ad29795f4923"
      },
      "outputs": [
        {
          "output_type": "execute_result",
          "data": {
            "text/plain": [
              "3"
            ]
          },
          "metadata": {},
          "execution_count": 108
        }
      ],
      "source": [
        "corr_features = correlation(X_train, 0.7)\n",
        "len(set(corr_features))"
      ]
    },
    {
      "cell_type": "code",
      "execution_count": 109,
      "metadata": {
        "colab": {
          "base_uri": "https://localhost:8080/"
        },
        "id": "oMLHY1j494Ch",
        "outputId": "df6cfa40-1968-4890-db83-7d750cd0bd1e"
      },
      "outputs": [
        {
          "output_type": "execute_result",
          "data": {
            "text/plain": [
              "{'long', 'merch_lat', 'merch_long'}"
            ]
          },
          "metadata": {},
          "execution_count": 109
        }
      ],
      "source": [
        "corr_features"
      ]
    },
    {
      "cell_type": "code",
      "execution_count": 110,
      "metadata": {
        "colab": {
          "base_uri": "https://localhost:8080/",
          "height": 672
        },
        "id": "sEf5OlQw94_k",
        "outputId": "c202024b-e0cb-499a-81ea-941247a77d86"
      },
      "outputs": [
        {
          "output_type": "execute_result",
          "data": {
            "text/plain": [
              "              amt    gender       zip       lat  city_pop  unix_time       age\n",
              "1947820 -0.362543 -0.909206  1.042156 -1.138752 -0.286731   1.509790  2.053723\n",
              "277512  -0.338463 -0.909206 -0.705816 -0.887548 -0.289120  -0.932475 -0.635533\n",
              "125865  -0.171418  1.099861 -0.769104 -0.581902 -0.063027  -1.387945  1.145927\n",
              "2161314  5.640581  1.099861 -0.140893  0.508226 -0.286932  -0.262948  2.319430\n",
              "2436183  1.362867  1.099861  0.128774  0.989267 -0.270233  -0.688828 -1.024459\n",
              "...           ...       ...       ...       ...       ...        ...       ...\n",
              "2055181  1.500893 -0.909206 -0.597761 -1.784261  0.095616   0.016250  1.630239\n",
              "1684326  5.892137 -0.909206  0.864840 -0.661673 -0.294041  -1.266768  0.916061\n",
              "87913   -0.413689  1.099861 -0.689530 -1.063205 -0.280459  -1.511704  0.226464\n",
              "311831   0.423594 -0.909206  0.749235  0.377591 -0.293067  -0.841976  1.318326\n",
              "2279124 -0.322725 -0.909206  1.117597 -1.138465 -0.286878   1.414079  0.985959\n",
              "\n",
              "[515668 rows x 7 columns]"
            ],
            "text/html": [
              "\n",
              "  <div id=\"df-9cedb044-e055-4433-9cc1-57169aed7eca\">\n",
              "    <div class=\"colab-df-container\">\n",
              "      <div>\n",
              "<style scoped>\n",
              "    .dataframe tbody tr th:only-of-type {\n",
              "        vertical-align: middle;\n",
              "    }\n",
              "\n",
              "    .dataframe tbody tr th {\n",
              "        vertical-align: top;\n",
              "    }\n",
              "\n",
              "    .dataframe thead th {\n",
              "        text-align: right;\n",
              "    }\n",
              "</style>\n",
              "<table border=\"1\" class=\"dataframe\">\n",
              "  <thead>\n",
              "    <tr style=\"text-align: right;\">\n",
              "      <th></th>\n",
              "      <th>amt</th>\n",
              "      <th>gender</th>\n",
              "      <th>zip</th>\n",
              "      <th>lat</th>\n",
              "      <th>city_pop</th>\n",
              "      <th>unix_time</th>\n",
              "      <th>age</th>\n",
              "    </tr>\n",
              "  </thead>\n",
              "  <tbody>\n",
              "    <tr>\n",
              "      <th>1947820</th>\n",
              "      <td>-0.362543</td>\n",
              "      <td>-0.909206</td>\n",
              "      <td>1.042156</td>\n",
              "      <td>-1.138752</td>\n",
              "      <td>-0.286731</td>\n",
              "      <td>1.509790</td>\n",
              "      <td>2.053723</td>\n",
              "    </tr>\n",
              "    <tr>\n",
              "      <th>277512</th>\n",
              "      <td>-0.338463</td>\n",
              "      <td>-0.909206</td>\n",
              "      <td>-0.705816</td>\n",
              "      <td>-0.887548</td>\n",
              "      <td>-0.289120</td>\n",
              "      <td>-0.932475</td>\n",
              "      <td>-0.635533</td>\n",
              "    </tr>\n",
              "    <tr>\n",
              "      <th>125865</th>\n",
              "      <td>-0.171418</td>\n",
              "      <td>1.099861</td>\n",
              "      <td>-0.769104</td>\n",
              "      <td>-0.581902</td>\n",
              "      <td>-0.063027</td>\n",
              "      <td>-1.387945</td>\n",
              "      <td>1.145927</td>\n",
              "    </tr>\n",
              "    <tr>\n",
              "      <th>2161314</th>\n",
              "      <td>5.640581</td>\n",
              "      <td>1.099861</td>\n",
              "      <td>-0.140893</td>\n",
              "      <td>0.508226</td>\n",
              "      <td>-0.286932</td>\n",
              "      <td>-0.262948</td>\n",
              "      <td>2.319430</td>\n",
              "    </tr>\n",
              "    <tr>\n",
              "      <th>2436183</th>\n",
              "      <td>1.362867</td>\n",
              "      <td>1.099861</td>\n",
              "      <td>0.128774</td>\n",
              "      <td>0.989267</td>\n",
              "      <td>-0.270233</td>\n",
              "      <td>-0.688828</td>\n",
              "      <td>-1.024459</td>\n",
              "    </tr>\n",
              "    <tr>\n",
              "      <th>...</th>\n",
              "      <td>...</td>\n",
              "      <td>...</td>\n",
              "      <td>...</td>\n",
              "      <td>...</td>\n",
              "      <td>...</td>\n",
              "      <td>...</td>\n",
              "      <td>...</td>\n",
              "    </tr>\n",
              "    <tr>\n",
              "      <th>2055181</th>\n",
              "      <td>1.500893</td>\n",
              "      <td>-0.909206</td>\n",
              "      <td>-0.597761</td>\n",
              "      <td>-1.784261</td>\n",
              "      <td>0.095616</td>\n",
              "      <td>0.016250</td>\n",
              "      <td>1.630239</td>\n",
              "    </tr>\n",
              "    <tr>\n",
              "      <th>1684326</th>\n",
              "      <td>5.892137</td>\n",
              "      <td>-0.909206</td>\n",
              "      <td>0.864840</td>\n",
              "      <td>-0.661673</td>\n",
              "      <td>-0.294041</td>\n",
              "      <td>-1.266768</td>\n",
              "      <td>0.916061</td>\n",
              "    </tr>\n",
              "    <tr>\n",
              "      <th>87913</th>\n",
              "      <td>-0.413689</td>\n",
              "      <td>1.099861</td>\n",
              "      <td>-0.689530</td>\n",
              "      <td>-1.063205</td>\n",
              "      <td>-0.280459</td>\n",
              "      <td>-1.511704</td>\n",
              "      <td>0.226464</td>\n",
              "    </tr>\n",
              "    <tr>\n",
              "      <th>311831</th>\n",
              "      <td>0.423594</td>\n",
              "      <td>-0.909206</td>\n",
              "      <td>0.749235</td>\n",
              "      <td>0.377591</td>\n",
              "      <td>-0.293067</td>\n",
              "      <td>-0.841976</td>\n",
              "      <td>1.318326</td>\n",
              "    </tr>\n",
              "    <tr>\n",
              "      <th>2279124</th>\n",
              "      <td>-0.322725</td>\n",
              "      <td>-0.909206</td>\n",
              "      <td>1.117597</td>\n",
              "      <td>-1.138465</td>\n",
              "      <td>-0.286878</td>\n",
              "      <td>1.414079</td>\n",
              "      <td>0.985959</td>\n",
              "    </tr>\n",
              "  </tbody>\n",
              "</table>\n",
              "<p>515668 rows × 7 columns</p>\n",
              "</div>\n",
              "      <button class=\"colab-df-convert\" onclick=\"convertToInteractive('df-9cedb044-e055-4433-9cc1-57169aed7eca')\"\n",
              "              title=\"Convert this dataframe to an interactive table.\"\n",
              "              style=\"display:none;\">\n",
              "        \n",
              "  <svg xmlns=\"http://www.w3.org/2000/svg\" height=\"24px\"viewBox=\"0 0 24 24\"\n",
              "       width=\"24px\">\n",
              "    <path d=\"M0 0h24v24H0V0z\" fill=\"none\"/>\n",
              "    <path d=\"M18.56 5.44l.94 2.06.94-2.06 2.06-.94-2.06-.94-.94-2.06-.94 2.06-2.06.94zm-11 1L8.5 8.5l.94-2.06 2.06-.94-2.06-.94L8.5 2.5l-.94 2.06-2.06.94zm10 10l.94 2.06.94-2.06 2.06-.94-2.06-.94-.94-2.06-.94 2.06-2.06.94z\"/><path d=\"M17.41 7.96l-1.37-1.37c-.4-.4-.92-.59-1.43-.59-.52 0-1.04.2-1.43.59L10.3 9.45l-7.72 7.72c-.78.78-.78 2.05 0 2.83L4 21.41c.39.39.9.59 1.41.59.51 0 1.02-.2 1.41-.59l7.78-7.78 2.81-2.81c.8-.78.8-2.07 0-2.86zM5.41 20L4 18.59l7.72-7.72 1.47 1.35L5.41 20z\"/>\n",
              "  </svg>\n",
              "      </button>\n",
              "      \n",
              "  <style>\n",
              "    .colab-df-container {\n",
              "      display:flex;\n",
              "      flex-wrap:wrap;\n",
              "      gap: 12px;\n",
              "    }\n",
              "\n",
              "    .colab-df-convert {\n",
              "      background-color: #E8F0FE;\n",
              "      border: none;\n",
              "      border-radius: 50%;\n",
              "      cursor: pointer;\n",
              "      display: none;\n",
              "      fill: #1967D2;\n",
              "      height: 32px;\n",
              "      padding: 0 0 0 0;\n",
              "      width: 32px;\n",
              "    }\n",
              "\n",
              "    .colab-df-convert:hover {\n",
              "      background-color: #E2EBFA;\n",
              "      box-shadow: 0px 1px 2px rgba(60, 64, 67, 0.3), 0px 1px 3px 1px rgba(60, 64, 67, 0.15);\n",
              "      fill: #174EA6;\n",
              "    }\n",
              "\n",
              "    [theme=dark] .colab-df-convert {\n",
              "      background-color: #3B4455;\n",
              "      fill: #D2E3FC;\n",
              "    }\n",
              "\n",
              "    [theme=dark] .colab-df-convert:hover {\n",
              "      background-color: #434B5C;\n",
              "      box-shadow: 0px 1px 3px 1px rgba(0, 0, 0, 0.15);\n",
              "      filter: drop-shadow(0px 1px 2px rgba(0, 0, 0, 0.3));\n",
              "      fill: #FFFFFF;\n",
              "    }\n",
              "  </style>\n",
              "\n",
              "      <script>\n",
              "        const buttonEl =\n",
              "          document.querySelector('#df-9cedb044-e055-4433-9cc1-57169aed7eca button.colab-df-convert');\n",
              "        buttonEl.style.display =\n",
              "          google.colab.kernel.accessAllowed ? 'block' : 'none';\n",
              "\n",
              "        async function convertToInteractive(key) {\n",
              "          const element = document.querySelector('#df-9cedb044-e055-4433-9cc1-57169aed7eca');\n",
              "          const dataTable =\n",
              "            await google.colab.kernel.invokeFunction('convertToInteractive',\n",
              "                                                     [key], {});\n",
              "          if (!dataTable) return;\n",
              "\n",
              "          const docLinkHtml = 'Like what you see? Visit the ' +\n",
              "            '<a target=\"_blank\" href=https://colab.research.google.com/notebooks/data_table.ipynb>data table notebook</a>'\n",
              "            + ' to learn more about interactive tables.';\n",
              "          element.innerHTML = '';\n",
              "          dataTable['output_type'] = 'display_data';\n",
              "          await google.colab.output.renderOutput(dataTable, element);\n",
              "          const docLink = document.createElement('div');\n",
              "          docLink.innerHTML = docLinkHtml;\n",
              "          element.appendChild(docLink);\n",
              "        }\n",
              "      </script>\n",
              "    </div>\n",
              "  </div>\n",
              "  "
            ]
          },
          "metadata": {},
          "execution_count": 110
        },
        {
          "output_type": "stream",
          "name": "stdout",
          "text": [
            "Warning: total number of rows (515668) exceeds max_rows (20000). Limiting to first (20000) rows.\n"
          ]
        }
      ],
      "source": [
        "X_train.drop(corr_features,axis=1)\n",
        "X_test.drop(corr_features,axis=1)"
      ]
    },
    {
      "cell_type": "markdown",
      "metadata": {
        "id": "XPT2IMtq_Qks"
      },
      "source": [
        "#**Mutual Information Gain**"
      ]
    },
    {
      "cell_type": "code",
      "execution_count": 111,
      "metadata": {
        "colab": {
          "base_uri": "https://localhost:8080/"
        },
        "id": "pHZt7gcKh48Z",
        "outputId": "ccfb8a24-4422-4664-e333-92b749da3f7b"
      },
      "outputs": [
        {
          "output_type": "execute_result",
          "data": {
            "text/plain": [
              "array([0.58610215, 0.12721551, 0.33090717, 0.33149989, 0.33170869,\n",
              "       0.31547275, 0.06170908, 0.00477174, 0.0069527 , 0.20588482])"
            ]
          },
          "metadata": {},
          "execution_count": 111
        }
      ],
      "source": [
        "from sklearn.feature_selection import mutual_info_classif\n",
        "mutual_info = mutual_info_classif(X_train,y_train)\n",
        "mutual_info"
      ]
    },
    {
      "cell_type": "code",
      "execution_count": 112,
      "metadata": {
        "colab": {
          "base_uri": "https://localhost:8080/"
        },
        "id": "iHmBiWoa9hA9",
        "outputId": "2651e36c-38b2-4139-96c0-63bba6cd0c65"
      },
      "outputs": [
        {
          "output_type": "execute_result",
          "data": {
            "text/plain": [
              "amt           0.586102\n",
              "long          0.331709\n",
              "lat           0.331500\n",
              "zip           0.330907\n",
              "city_pop      0.315473\n",
              "age           0.205885\n",
              "gender        0.127216\n",
              "unix_time     0.061709\n",
              "merch_long    0.006953\n",
              "merch_lat     0.004772\n",
              "dtype: float64"
            ]
          },
          "metadata": {},
          "execution_count": 112
        }
      ],
      "source": [
        "mutual_info = pd.Series(mutual_info)\n",
        "mutual_info.index = X_train.columns\n",
        "mutual_info.sort_values(ascending=False)"
      ]
    },
    {
      "cell_type": "code",
      "execution_count": 113,
      "metadata": {
        "colab": {
          "base_uri": "https://localhost:8080/"
        },
        "id": "Y3F181Y69hEE",
        "outputId": "33b1a461-2f96-4fa8-d169-8d094a34bfbc"
      },
      "outputs": [
        {
          "output_type": "execute_result",
          "data": {
            "text/plain": [
              "Index(['amt', 'gender', 'zip', 'lat', 'long', 'city_pop', 'unix_time',\n",
              "       'merch_lat', 'merch_long', 'age'],\n",
              "      dtype='object')"
            ]
          },
          "metadata": {},
          "execution_count": 113
        }
      ],
      "source": [
        "X_train.columns"
      ]
    },
    {
      "cell_type": "code",
      "execution_count": 114,
      "metadata": {
        "colab": {
          "base_uri": "https://localhost:8080/"
        },
        "id": "WdGo3Pm99hHs",
        "outputId": "81856507-9025-4ea3-df95-7ef087614879"
      },
      "outputs": [
        {
          "output_type": "execute_result",
          "data": {
            "text/plain": [
              "Index(['amt', 'gender', 'zip', 'lat', 'long', 'city_pop', 'unix_time',\n",
              "       'merch_lat', 'merch_long', 'age'],\n",
              "      dtype='object')"
            ]
          },
          "metadata": {},
          "execution_count": 114
        }
      ],
      "source": [
        "X_test.columns"
      ]
    },
    {
      "cell_type": "code",
      "execution_count": 115,
      "metadata": {
        "id": "XutJNeiF9hLv"
      },
      "outputs": [],
      "source": [
        "from sklearn.feature_selection import SelectKBest"
      ]
    },
    {
      "cell_type": "code",
      "execution_count": 116,
      "metadata": {
        "colab": {
          "base_uri": "https://localhost:8080/"
        },
        "id": "fSKL3N649hiM",
        "outputId": "8e7ac713-e4f4-4c5b-d594-2c9c75c15263"
      },
      "outputs": [
        {
          "output_type": "execute_result",
          "data": {
            "text/plain": [
              "Index(['amt', 'zip', 'lat', 'long', 'city_pop'], dtype='object')"
            ]
          },
          "metadata": {},
          "execution_count": 116
        }
      ],
      "source": [
        "sel_five=SelectKBest(mutual_info_classif,k=5)\n",
        "sel_five.fit(X_train,y_train)\n",
        "X_train.columns[sel_five.get_support()]"
      ]
    },
    {
      "cell_type": "code",
      "execution_count": 117,
      "metadata": {
        "id": "ZofceDgr9hlH"
      },
      "outputs": [],
      "source": [
        "from sklearn.feature_selection import SelectPercentile"
      ]
    },
    {
      "cell_type": "code",
      "execution_count": 118,
      "metadata": {
        "colab": {
          "base_uri": "https://localhost:8080/"
        },
        "id": "KH5VuJln9sul",
        "outputId": "01aa81a0-a67f-4060-f535-34b1ab7f3f9e"
      },
      "outputs": [
        {
          "output_type": "execute_result",
          "data": {
            "text/plain": [
              "SelectPercentile(percentile=20,\n",
              "                 score_func=<function mutual_info_classif at 0x7ff7a56204d0>)"
            ]
          },
          "metadata": {},
          "execution_count": 118
        }
      ],
      "source": [
        "selected_top_columns = SelectPercentile(mutual_info_classif, percentile=20)\n",
        "selected_top_columns.fit(X_train.fillna(0), y_train)"
      ]
    },
    {
      "cell_type": "code",
      "execution_count": 119,
      "metadata": {
        "colab": {
          "base_uri": "https://localhost:8080/"
        },
        "id": "eU3GT7jR9sxv",
        "outputId": "8f623828-6e1f-4d8e-e964-2a7ee54d13e0"
      },
      "outputs": [
        {
          "output_type": "execute_result",
          "data": {
            "text/plain": [
              "Index(['amt', 'lat'], dtype='object')"
            ]
          },
          "metadata": {},
          "execution_count": 119
        }
      ],
      "source": [
        "X_train.columns[selected_top_columns.get_support()]"
      ]
    },
    {
      "cell_type": "markdown",
      "metadata": {
        "id": "lpcqKM8q_1fX"
      },
      "source": [
        "#**MODELS**"
      ]
    },
    {
      "cell_type": "code",
      "execution_count": 120,
      "metadata": {
        "id": "0IQJsUkq_33m"
      },
      "outputs": [],
      "source": [
        "from sklearn.linear_model import LinearRegression,LogisticRegression,SGDRegressor , Ridge,Lasso\n",
        "from sklearn.model_selection import train_test_split,GridSearchCV\n",
        "from sklearn.preprocessing import LabelEncoder,StandardScaler\n",
        "from warnings import filterwarnings\n",
        "filterwarnings('ignore')\n",
        "from sklearn.metrics import accuracy_score,precision_score,confusion_matrix\n",
        "from sklearn.metrics import classification_report,roc_curve,roc_auc_score\n",
        "from sklearn.neighbors import KNeighborsClassifier\n",
        "from sklearn.naive_bayes import GaussianNB"
      ]
    },
    {
      "cell_type": "code",
      "execution_count": 121,
      "metadata": {
        "id": "t45LMMNU_7Ei"
      },
      "outputs": [],
      "source": [
        "lr = LogisticRegression()\n",
        "model_v1 = lr.fit(X_train,y_train)\n",
        "lr_acc = accuracy_score(y_test, model_v1.predict(X_test))"
      ]
    },
    {
      "cell_type": "code",
      "execution_count": 122,
      "metadata": {
        "colab": {
          "base_uri": "https://localhost:8080/",
          "height": 265
        },
        "id": "M1fumXvn_8rt",
        "outputId": "197a961c-a840-4536-e934-1d64c8698a14"
      },
      "outputs": [
        {
          "output_type": "display_data",
          "data": {
            "text/plain": [
              "<Figure size 432x288 with 2 Axes>"
            ],
            "image/png": "[encoded data removed]"
          },
          "metadata": {
            "needs_background": "light"
          }
        }
      ],
      "source": [
        "ypred = model_v1.predict(X_test)\n",
        "cm  = confusion_matrix(y_test,ypred)\n",
        "sns.heatmap(cm,annot=True)\n",
        "plt.show()"
      ]
    },
    {
      "cell_type": "code",
      "execution_count": 123,
      "metadata": {
        "colab": {
          "base_uri": "https://localhost:8080/"
        },
        "id": "VxU_Mwu9AAvt",
        "outputId": "b5ab77ac-8aab-4b9e-8d33-b8893c978944"
      },
      "outputs": [
        {
          "output_type": "stream",
          "name": "stdout",
          "text": [
            "              precision    recall  f1-score   support\n",
            "\n",
            "           0       0.80      0.95      0.87    257705\n",
            "           1       0.94      0.76      0.84    257963\n",
            "\n",
            "    accuracy                           0.86    515668\n",
            "   macro avg       0.87      0.86      0.85    515668\n",
            "weighted avg       0.87      0.86      0.85    515668\n",
            "\n"
          ]
        }
      ],
      "source": [
        "print(classification_report(y_test,ypred))"
      ]
    },
    {
      "cell_type": "code",
      "execution_count": 124,
      "metadata": {
        "id": "6K7xtAr9ABh6"
      },
      "outputs": [],
      "source": [
        "#KNN model\n",
        "knn = KNeighborsClassifier()\n",
        "model_v2 = knn.fit(X_train,y_train)\n",
        "knn_acc = accuracy_score(y_test, knn.predict(X_test))\n",
        "ypred1 = model_v2.predict(X_test)"
      ]
    },
    {
      "cell_type": "code",
      "execution_count": 125,
      "metadata": {
        "colab": {
          "base_uri": "https://localhost:8080/",
          "height": 282
        },
        "id": "89LjPagFAE8I",
        "outputId": "08572b4b-625d-4efb-c0d5-d457eb1443dd"
      },
      "outputs": [
        {
          "output_type": "execute_result",
          "data": {
            "text/plain": [
              "<matplotlib.axes._subplots.AxesSubplot at 0x7ff7a4d6a9d0>"
            ]
          },
          "metadata": {},
          "execution_count": 125
        },
        {
          "output_type": "display_data",
          "data": {
            "text/plain": [
              "<Figure size 432x288 with 2 Axes>"
            ],
            "image/png": "[encoded data removed]"
          },
          "metadata": {
            "needs_background": "light"
          }
        }
      ],
      "source": [
        "cm_knn = confusion_matrix(y_test,ypred1)\n",
        "sns.heatmap(cm_knn,annot=True)"
      ]
    },
    {
      "cell_type": "code",
      "execution_count": 126,
      "metadata": {
        "colab": {
          "base_uri": "https://localhost:8080/"
        },
        "id": "uMrY4fQkAHsT",
        "outputId": "b3803638-13c9-44be-bbb1-ad2d5327410e"
      },
      "outputs": [
        {
          "output_type": "stream",
          "name": "stdout",
          "text": [
            "              precision    recall  f1-score   support\n",
            "\n",
            "           0       0.80      0.95      0.87    257705\n",
            "           1       0.94      0.76      0.84    257963\n",
            "\n",
            "    accuracy                           0.86    515668\n",
            "   macro avg       0.87      0.86      0.85    515668\n",
            "weighted avg       0.87      0.86      0.85    515668\n",
            "\n"
          ]
        }
      ],
      "source": [
        "print(classification_report(y_test,ypred))"
      ]
    },
    {
      "cell_type": "code",
      "execution_count": 127,
      "metadata": {
        "id": "p2MP7XhUALLY"
      },
      "outputs": [],
      "source": [
        "nb =GaussianNB()\n",
        "model_v3 = nb.fit(X_train,y_train)\n",
        "nb_acc = accuracy_score(y_test, model_v3.predict(X_test))\n"
      ]
    },
    {
      "cell_type": "code",
      "execution_count": 128,
      "metadata": {
        "colab": {
          "base_uri": "https://localhost:8080/",
          "height": 286
        },
        "id": "ggBHJqTTAM3y",
        "outputId": "28625273-841d-4016-a42c-fdd095bfda77"
      },
      "outputs": [
        {
          "output_type": "execute_result",
          "data": {
            "text/plain": [
              "<matplotlib.axes._subplots.AxesSubplot at 0x7ff7a4ca83d0>"
            ]
          },
          "metadata": {},
          "execution_count": 128
        },
        {
          "output_type": "display_data",
          "data": {
            "text/plain": [
              "<Figure size 432x288 with 2 Axes>"
            ],
            "image/png": "[encoded data removed]"
          },
          "metadata": {
            "needs_background": "light"
          }
        }
      ],
      "source": [
        "ypred = model_v3.predict(X_test)\n",
        "cm = confusion_matrix(y_test,ypred)\n",
        "sns.heatmap(cm,annot=True)"
      ]
    },
    {
      "cell_type": "code",
      "execution_count": 129,
      "metadata": {
        "colab": {
          "base_uri": "https://localhost:8080/"
        },
        "id": "ykiArLjyAOub",
        "outputId": "c04acf00-8592-4cc1-96a3-ca3af5723038"
      },
      "outputs": [
        {
          "output_type": "stream",
          "name": "stdout",
          "text": [
            "              precision    recall  f1-score   support\n",
            "\n",
            "           0       0.74      0.97      0.84    257705\n",
            "           1       0.96      0.66      0.78    257963\n",
            "\n",
            "    accuracy                           0.81    515668\n",
            "   macro avg       0.85      0.81      0.81    515668\n",
            "weighted avg       0.85      0.81      0.81    515668\n",
            "\n"
          ]
        }
      ],
      "source": [
        "print(classification_report(y_test,ypred))"
      ]
    },
    {
      "cell_type": "code",
      "execution_count": 130,
      "metadata": {
        "colab": {
          "base_uri": "https://localhost:8080/",
          "height": 295
        },
        "id": "Bozwacl_AQjj",
        "outputId": "096e457d-c9c3-4f1a-a49a-bb839729d67f"
      },
      "outputs": [
        {
          "output_type": "display_data",
          "data": {
            "text/plain": [
              "<Figure size 432x288 with 1 Axes>"
            ],
            "image/png": "[encoded data removed]"
          },
          "metadata": {
            "needs_background": "light"
          }
        }
      ],
      "source": [
        "#### ROC curve\n",
        "## Logistic Regression Model\n",
        "prob = model_v1.predict_proba(X_test)[:,1]\n",
        "fpr,tpr,threshold = roc_curve(y_test,prob)\n",
        "#Plotting Roc Curve\n",
        "plt.plot(fpr,tpr)\n",
        "plt.plot([[0,0],[1,1]],color='red',linestyle = '-')\n",
        "plt.xlabel('FPR')\n",
        "plt.ylabel('TPR')\n",
        "plt.title('ROC Curve')\n",
        "plt.show()"
      ]
    },
    {
      "cell_type": "code",
      "execution_count": 131,
      "metadata": {
        "colab": {
          "base_uri": "https://localhost:8080/",
          "height": 295
        },
        "id": "MtSKziquAXfh",
        "outputId": "084dd6d6-d682-45e7-9a9c-336d573602e5"
      },
      "outputs": [
        {
          "output_type": "display_data",
          "data": {
            "text/plain": [
              "<Figure size 432x288 with 1 Axes>"
            ],
            "image/png": "[encoded data removed]"
          },
          "metadata": {
            "needs_background": "light"
          }
        }
      ],
      "source": [
        "## KNN Classifier Model\n",
        "prob1 = model_v2.predict_proba(X_test)[:,1]\n",
        "fpr,tpr,threshold = roc_curve(y_test,prob1)\n",
        "#Plotting Roc Curve\n",
        "plt.plot(fpr,tpr)\n",
        "plt.plot([[0,0],[1,1]],color='red',linestyle = '-')\n",
        "plt.xlabel('FPR')\n",
        "plt.ylabel('TPR')\n",
        "plt.title('ROC Curve')\n",
        "plt.show()"
      ]
    },
    {
      "cell_type": "code",
      "execution_count": 132,
      "metadata": {
        "colab": {
          "base_uri": "https://localhost:8080/",
          "height": 295
        },
        "id": "3N_F36DjAZyf",
        "outputId": "dc5acc0c-ba5a-4ce6-b144-c3eb1bd884e0"
      },
      "outputs": [
        {
          "output_type": "display_data",
          "data": {
            "text/plain": [
              "<Figure size 432x288 with 1 Axes>"
            ],
            "image/png": "[encoded data removed]"
          },
          "metadata": {
            "needs_background": "light"
          }
        }
      ],
      "source": [
        "## Naive Bayes Model\n",
        "prob2 = model_v3.predict_proba(X_test)[:,1]\n",
        "\n",
        "fpr,tpr,threshold = roc_curve(y_test,prob2)\n",
        "#Plotting Roc Curve\n",
        "plt.plot(fpr,tpr)\n",
        "plt.plot([[0,0],[1,1]],color='red',linestyle = '-')\n",
        "plt.xlabel('FPR')\n",
        "plt.ylabel('TPR')\n",
        "plt.title('ROC Curve')\n",
        "plt.show()"
      ]
    },
    {
      "cell_type": "code",
      "execution_count": 133,
      "metadata": {
        "colab": {
          "base_uri": "https://localhost:8080/",
          "height": 171
        },
        "id": "GMRg2Fk1lE1L",
        "outputId": "c102fe29-3897-432c-b903-d443773e71e5"
      },
      "outputs": [
        {
          "output_type": "execute_result",
          "data": {
            "text/plain": [
              "                  Model     Score\n",
              "0                   KNN  0.992800\n",
              "1   Logistic Regression  0.855874\n",
              "2  Gaussian NAive Bayes  0.813361"
            ],
            "text/html": [
              "\n",
              "  <div id=\"df-c6acd4d9-7384-4936-90ec-fda669f7c4e7\">\n",
              "    <div class=\"colab-df-container\">\n",
              "      <div>\n",
              "<style scoped>\n",
              "    .dataframe tbody tr th:only-of-type {\n",
              "        vertical-align: middle;\n",
              "    }\n",
              "\n",
              "    .dataframe tbody tr th {\n",
              "        vertical-align: top;\n",
              "    }\n",
              "\n",
              "    .dataframe thead th {\n",
              "        text-align: right;\n",
              "    }\n",
              "</style>\n",
              "<table border=\"1\" class=\"dataframe\">\n",
              "  <thead>\n",
              "    <tr style=\"text-align: right;\">\n",
              "      <th></th>\n",
              "      <th>Model</th>\n",
              "      <th>Score</th>\n",
              "    </tr>\n",
              "  </thead>\n",
              "  <tbody>\n",
              "    <tr>\n",
              "      <th>0</th>\n",
              "      <td>KNN</td>\n",
              "      <td>0.992800</td>\n",
              "    </tr>\n",
              "    <tr>\n",
              "      <th>1</th>\n",
              "      <td>Logistic Regression</td>\n",
              "      <td>0.855874</td>\n",
              "    </tr>\n",
              "    <tr>\n",
              "      <th>2</th>\n",
              "      <td>Gaussian NAive Bayes</td>\n",
              "      <td>0.813361</td>\n",
              "    </tr>\n",
              "  </tbody>\n",
              "</table>\n",
              "</div>\n",
              "      <button class=\"colab-df-convert\" onclick=\"convertToInteractive('df-c6acd4d9-7384-4936-90ec-fda669f7c4e7')\"\n",
              "              title=\"Convert this dataframe to an interactive table.\"\n",
              "              style=\"display:none;\">\n",
              "        \n",
              "  <svg xmlns=\"http://www.w3.org/2000/svg\" height=\"24px\"viewBox=\"0 0 24 24\"\n",
              "       width=\"24px\">\n",
              "    <path d=\"M0 0h24v24H0V0z\" fill=\"none\"/>\n",
              "    <path d=\"M18.56 5.44l.94 2.06.94-2.06 2.06-.94-2.06-.94-.94-2.06-.94 2.06-2.06.94zm-11 1L8.5 8.5l.94-2.06 2.06-.94-2.06-.94L8.5 2.5l-.94 2.06-2.06.94zm10 10l.94 2.06.94-2.06 2.06-.94-2.06-.94-.94-2.06-.94 2.06-2.06.94z\"/><path d=\"M17.41 7.96l-1.37-1.37c-.4-.4-.92-.59-1.43-.59-.52 0-1.04.2-1.43.59L10.3 9.45l-7.72 7.72c-.78.78-.78 2.05 0 2.83L4 21.41c.39.39.9.59 1.41.59.51 0 1.02-.2 1.41-.59l7.78-7.78 2.81-2.81c.8-.78.8-2.07 0-2.86zM5.41 20L4 18.59l7.72-7.72 1.47 1.35L5.41 20z\"/>\n",
              "  </svg>\n",
              "      </button>\n",
              "      \n",
              "  <style>\n",
              "    .colab-df-container {\n",
              "      display:flex;\n",
              "      flex-wrap:wrap;\n",
              "      gap: 12px;\n",
              "    }\n",
              "\n",
              "    .colab-df-convert {\n",
              "      background-color: #E8F0FE;\n",
              "      border: none;\n",
              "      border-radius: 50%;\n",
              "      cursor: pointer;\n",
              "      display: none;\n",
              "      fill: #1967D2;\n",
              "      height: 32px;\n",
              "      padding: 0 0 0 0;\n",
              "      width: 32px;\n",
              "    }\n",
              "\n",
              "    .colab-df-convert:hover {\n",
              "      background-color: #E2EBFA;\n",
              "      box-shadow: 0px 1px 2px rgba(60, 64, 67, 0.3), 0px 1px 3px 1px rgba(60, 64, 67, 0.15);\n",
              "      fill: #174EA6;\n",
              "    }\n",
              "\n",
              "    [theme=dark] .colab-df-convert {\n",
              "      background-color: #3B4455;\n",
              "      fill: #D2E3FC;\n",
              "    }\n",
              "\n",
              "    [theme=dark] .colab-df-convert:hover {\n",
              "      background-color: #434B5C;\n",
              "      box-shadow: 0px 1px 3px 1px rgba(0, 0, 0, 0.15);\n",
              "      filter: drop-shadow(0px 1px 2px rgba(0, 0, 0, 0.3));\n",
              "      fill: #FFFFFF;\n",
              "    }\n",
              "  </style>\n",
              "\n",
              "      <script>\n",
              "        const buttonEl =\n",
              "          document.querySelector('#df-c6acd4d9-7384-4936-90ec-fda669f7c4e7 button.colab-df-convert');\n",
              "        buttonEl.style.display =\n",
              "          google.colab.kernel.accessAllowed ? 'block' : 'none';\n",
              "\n",
              "        async function convertToInteractive(key) {\n",
              "          const element = document.querySelector('#df-c6acd4d9-7384-4936-90ec-fda669f7c4e7');\n",
              "          const dataTable =\n",
              "            await google.colab.kernel.invokeFunction('convertToInteractive',\n",
              "                                                     [key], {});\n",
              "          if (!dataTable) return;\n",
              "\n",
              "          const docLinkHtml = 'Like what you see? Visit the ' +\n",
              "            '<a target=\"_blank\" href=https://colab.research.google.com/notebooks/data_table.ipynb>data table notebook</a>'\n",
              "            + ' to learn more about interactive tables.';\n",
              "          element.innerHTML = '';\n",
              "          dataTable['output_type'] = 'display_data';\n",
              "          await google.colab.output.renderOutput(dataTable, element);\n",
              "          const docLink = document.createElement('div');\n",
              "          docLink.innerHTML = docLinkHtml;\n",
              "          element.appendChild(docLink);\n",
              "        }\n",
              "      </script>\n",
              "    </div>\n",
              "  </div>\n",
              "  "
            ]
          },
          "metadata": {},
          "execution_count": 133
        }
      ],
      "source": [
        "models = pd.DataFrame({'Model' : [ 'KNN', 'Logistic Regression', 'Gaussian NAive Bayes'],'Score' : [knn_acc, lr_acc, nb_acc]})\n",
        "models.sort_values(by = 'Score', ascending = False)"
      ]
    }
  ],
  "metadata": {
    "colab": {
      "collapsed_sections": [],
      "provenance": []
    },
    "kernelspec": {
      "display_name": "Python 3",
      "name": "python3"
    },
    "language_info": {
      "name": "python"
    }
  },
  "nbformat": 4,
  "nbformat_minor": 0
}